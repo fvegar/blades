{
 "cells": [
  {
   "cell_type": "code",
   "execution_count": 1,
   "id": "7739092c-b4db-43dc-b90a-dca42f70dbe2",
   "metadata": {
    "tags": []
   },
   "outputs": [],
   "source": [
    "###### HI HELLO\n",
    "import numpy as np # fast array library\n",
    "import pandas as pd # data frames library\n",
    "from pandas_ods_reader import read_ods #read ods tables\n",
    "\n",
    "import matplotlib \n",
    "import matplotlib.pyplot as plt # plot library\n",
    "import matplotlib.gridspec as gridspec\n",
    " \n",
    "import subprocess # these 2 lines below load OS functionality\n",
    "import sys\n",
    "import json\n",
    "import warnings\n",
    "\n",
    "from IPython.display import display, HTML # screen on display in HTML library \n",
    "\n",
    "import sympy as sp # symbolic calculation library functions\n",
    "from sympy import var # symbolic calculation library variables\n",
    "\n",
    "import mpmath as mp # double (or higher) floating point precision library (not used)\n",
    "\n",
    "import scipy.constants as ct # import mathematical constants\n",
    "import scipy.special as spec\n",
    "from scipy.spatial import Voronoi, voronoi_plot_2d # import Voronoi functions\n",
    "import scipy.optimize as optimize # optimazation library (not used)\n",
    "from scipy import signal # noise filtering functions\n",
    "from scipy import stats # statistics, for binning and fields calculation\n",
    "from scipy.spatial import Voronoi, voronoi_plot_2d # import Voronoi functions\n",
    "\n",
    "\n",
    "import ipywidgets as widgets # import \n",
    "\n",
    "import time # timing functions (for computation time)\n",
    "from pytictoc import TicToc\n",
    "\n",
    "# print progress function\n",
    "# more elegant (python 3 alternative): print('\\rhello', end='',flush=True)\n",
    "def printp(string):\n",
    "    sys.stdout.write('\\r'+ str(string))\n",
    "    sys.stdout.flush()\n",
    "    \n",
    "#from __future__ import print_function\n",
    "\n",
    "# Text format for figures configuration (lines below)\n",
    "from matplotlib import rc\n",
    "rc('font',**{'family':'sans-serif','sans-serif':['Helvetica']})\n",
    "#rc('font',**{'family':'serif','serif':['Times']})\n",
    "#rc('text', usetex=True)"
   ]
  },
  {
   "cell_type": "code",
   "execution_count": 3,
   "id": "6be8b99b-acc6-483c-b3fc-038448037051",
   "metadata": {
    "tags": []
   },
   "outputs": [],
   "source": [
    "tabla = pd.read_pickle('/home/fvega/Datos/blades/34913bb5677f08882949585aabd7ee16_data.pkl.xz', compression='xz')"
   ]
  },
  {
   "cell_type": "code",
   "execution_count": 16,
   "id": "bf56615e-c13d-4845-bde4-7d86f1de1723",
   "metadata": {
    "tags": []
   },
   "outputs": [],
   "source": [
    "tabla_FVR = pd.read_pickle('/home/fvega/Datos/blades/packing_fraction_045/tracks/34913bb5677f08882949585aabd7ee16.pkl.xz', compression='xz')"
   ]
  },
  {
   "cell_type": "code",
   "execution_count": 54,
   "id": "672b502a-fdec-4a81-bdfa-fb0cb9793e9c",
   "metadata": {
    "tags": []
   },
   "outputs": [
    {
     "data": {
      "text/html": [
       "<div>\n",
       "<style scoped>\n",
       "    .dataframe tbody tr th:only-of-type {\n",
       "        vertical-align: middle;\n",
       "    }\n",
       "\n",
       "    .dataframe tbody tr th {\n",
       "        vertical-align: top;\n",
       "    }\n",
       "\n",
       "    .dataframe thead th {\n",
       "        text-align: right;\n",
       "    }\n",
       "</style>\n",
       "<table border=\"1\" class=\"dataframe\">\n",
       "  <thead>\n",
       "    <tr style=\"text-align: right;\">\n",
       "      <th></th>\n",
       "      <th>frame</th>\n",
       "      <th>track</th>\n",
       "      <th>x</th>\n",
       "      <th>y</th>\n",
       "      <th>r</th>\n",
       "      <th>vx</th>\n",
       "      <th>vy</th>\n",
       "      <th>theta</th>\n",
       "      <th>w</th>\n",
       "      <th>angle</th>\n",
       "      <th>mod_angle</th>\n",
       "    </tr>\n",
       "  </thead>\n",
       "  <tbody>\n",
       "    <tr>\n",
       "      <th>0</th>\n",
       "      <td>1</td>\n",
       "      <td>0</td>\n",
       "      <td>24.174178</td>\n",
       "      <td>-338.839720</td>\n",
       "      <td>339.714636</td>\n",
       "      <td>0.475240</td>\n",
       "      <td>0.102544</td>\n",
       "      <td>0.517011</td>\n",
       "      <td>-103.544624</td>\n",
       "      <td>-103.544624</td>\n",
       "      <td>256.455376</td>\n",
       "    </tr>\n",
       "    <tr>\n",
       "      <th>1</th>\n",
       "      <td>2</td>\n",
       "      <td>0</td>\n",
       "      <td>24.332332</td>\n",
       "      <td>-338.813483</td>\n",
       "      <td>339.659127</td>\n",
       "      <td>0.482996</td>\n",
       "      <td>0.119120</td>\n",
       "      <td>0.771835</td>\n",
       "      <td>-103.707004</td>\n",
       "      <td>-207.251628</td>\n",
       "      <td>152.748372</td>\n",
       "    </tr>\n",
       "    <tr>\n",
       "      <th>2</th>\n",
       "      <td>3</td>\n",
       "      <td>0</td>\n",
       "      <td>24.489583</td>\n",
       "      <td>-338.778092</td>\n",
       "      <td>339.664638</td>\n",
       "      <td>0.513732</td>\n",
       "      <td>0.119429</td>\n",
       "      <td>1.023541</td>\n",
       "      <td>-104.025243</td>\n",
       "      <td>-311.276871</td>\n",
       "      <td>48.723129</td>\n",
       "    </tr>\n",
       "    <tr>\n",
       "      <th>3</th>\n",
       "      <td>4</td>\n",
       "      <td>0</td>\n",
       "      <td>24.649419</td>\n",
       "      <td>-338.737175</td>\n",
       "      <td>339.639903</td>\n",
       "      <td>0.548100</td>\n",
       "      <td>0.116960</td>\n",
       "      <td>1.289727</td>\n",
       "      <td>-104.458658</td>\n",
       "      <td>-415.735529</td>\n",
       "      <td>304.264471</td>\n",
       "    </tr>\n",
       "    <tr>\n",
       "      <th>4</th>\n",
       "      <td>5</td>\n",
       "      <td>0</td>\n",
       "      <td>24.815328</td>\n",
       "      <td>-338.694363</td>\n",
       "      <td>339.618718</td>\n",
       "      <td>0.563042</td>\n",
       "      <td>0.104241</td>\n",
       "      <td>1.533332</td>\n",
       "      <td>-104.966566</td>\n",
       "      <td>-520.702096</td>\n",
       "      <td>199.297904</td>\n",
       "    </tr>\n",
       "  </tbody>\n",
       "</table>\n",
       "</div>"
      ],
      "text/plain": [
       "   frame  track          x           y           r        vx        vy  \\\n",
       "0      1      0  24.174178 -338.839720  339.714636  0.475240  0.102544   \n",
       "1      2      0  24.332332 -338.813483  339.659127  0.482996  0.119120   \n",
       "2      3      0  24.489583 -338.778092  339.664638  0.513732  0.119429   \n",
       "3      4      0  24.649419 -338.737175  339.639903  0.548100  0.116960   \n",
       "4      5      0  24.815328 -338.694363  339.618718  0.563042  0.104241   \n",
       "\n",
       "      theta           w       angle   mod_angle  \n",
       "0  0.517011 -103.544624 -103.544624  256.455376  \n",
       "1  0.771835 -103.707004 -207.251628  152.748372  \n",
       "2  1.023541 -104.025243 -311.276871   48.723129  \n",
       "3  1.289727 -104.458658 -415.735529  304.264471  \n",
       "4  1.533332 -104.966566 -520.702096  199.297904  "
      ]
     },
     "execution_count": 54,
     "metadata": {},
     "output_type": "execute_result"
    }
   ],
   "source": [
    "tabla.head()"
   ]
  },
  {
   "cell_type": "code",
   "execution_count": 33,
   "id": "c723ecf3-dfd8-4093-b093-1117a9bb0192",
   "metadata": {
    "tags": []
   },
   "outputs": [
    {
     "data": {
      "text/plain": [
       "24979"
      ]
     },
     "execution_count": 33,
     "metadata": {},
     "output_type": "execute_result"
    }
   ],
   "source": [
    "np.max(np.array([ np.max(tabla_FVR[tabla_FVR.track==i].frame.values) for i in range(45)]))"
   ]
  },
  {
   "cell_type": "code",
   "execution_count": 47,
   "id": "dcfc3fb8-662f-430c-bbcb-078b2fb1478e",
   "metadata": {
    "tags": []
   },
   "outputs": [
    {
     "data": {
      "text/plain": [
       "24975"
      ]
     },
     "execution_count": 47,
     "metadata": {},
     "output_type": "execute_result"
    }
   ],
   "source": [
    "np.max(np.array([ np.max(tabla[tabla.track==i].frame.values) for i in range(45)]))"
   ]
  },
  {
   "cell_type": "code",
   "execution_count": 48,
   "id": "183049b5-97c0-42a4-80c7-be65af6a8c81",
   "metadata": {
    "tags": []
   },
   "outputs": [],
   "source": [
    "parts = np.where(np.array([ np.max(tabla[tabla.track==i].frame.values) for i in range(45)])==24975)[0]"
   ]
  },
  {
   "cell_type": "code",
   "execution_count": 37,
   "id": "63ef386b-d7c4-4670-ab97-3baa840e52aa",
   "metadata": {
    "tags": []
   },
   "outputs": [],
   "source": [
    "parts_FVR = np.where(np.array([ np.max(tabla_FVR[tabla_FVR.track==i].frame.values) for i in range(45)])==24979)[0]"
   ]
  },
  {
   "cell_type": "code",
   "execution_count": 49,
   "id": "944739f9-1056-43b9-b9b8-0ab76ab8fd90",
   "metadata": {
    "tags": []
   },
   "outputs": [
    {
     "data": {
      "text/plain": [
       "array([ True,  True,  True,  True,  True,  True,  True,  True,  True,\n",
       "        True,  True,  True,  True,  True,  True,  True,  True,  True,\n",
       "        True,  True,  True,  True,  True,  True,  True,  True,  True,\n",
       "        True,  True,  True,  True,  True,  True,  True])"
      ]
     },
     "execution_count": 49,
     "metadata": {},
     "output_type": "execute_result"
    }
   ],
   "source": [
    "parts == parts_FVR"
   ]
  },
  {
   "cell_type": "code",
   "execution_count": 5,
   "id": "be774020-71ed-450d-9d1c-28d6a6f913da",
   "metadata": {
    "tags": []
   },
   "outputs": [
    {
     "name": "stdout",
     "output_type": "stream",
     "text": [
      "\u001b[38;5;238m───────┬────────────────────────────────────────────────────────────────────────\u001b[0m\n",
      "       \u001b[38;5;238m│ \u001b[0mFile: \u001b[1m/home/fvega/Datos/blades/34913bb5677f08882949585aabd7ee16_experiment_info.txt\u001b[0m\n",
      "\u001b[38;5;238m───────┼────────────────────────────────────────────────────────────────────────\u001b[0m\n",
      "\u001b[38;5;238m   1\u001b[0m   \u001b[38;5;238m│\u001b[0m \u001b[38;2;248;248;242m{\u001b[0m\n",
      "\u001b[38;5;238m   2\u001b[0m   \u001b[38;5;238m│\u001b[0m \u001b[38;2;248;248;242m\"experiment_id\": \"34913bb5677f08882949585aabd7ee16\",\u001b[0m\n",
      "\u001b[38;5;238m   3\u001b[0m   \u001b[38;5;238m│\u001b[0m \u001b[38;2;248;248;242m\"original_file\": \"/mnt/beegfs/malopez/serieAspas/serieAspas_N45_p24_fps\u001b[0m\n",
      "\u001b[38;5;238m    \u001b[0m   \u001b[38;5;238m│\u001b[0m \u001b[38;2;248;248;242m900_1.cine\",\u001b[0m\n",
      "\u001b[38;5;238m   4\u001b[0m   \u001b[38;5;238m│\u001b[0m \u001b[38;2;248;248;242m\"date\": \"2038-01-19 10:39:20\",\u001b[0m\n",
      "\u001b[38;5;238m   5\u001b[0m   \u001b[38;5;238m│\u001b[0m \u001b[38;2;248;248;242m\"shape\": [\u001b[0m\n",
      "\u001b[38;5;238m   6\u001b[0m   \u001b[38;5;238m│\u001b[0m \u001b[38;2;248;248;242m1280,\u001b[0m\n",
      "\u001b[38;5;238m   7\u001b[0m   \u001b[38;5;238m│\u001b[0m \u001b[38;2;248;248;242m800\u001b[0m\n",
      "\u001b[38;5;238m   8\u001b[0m   \u001b[38;5;238m│\u001b[0m \u001b[38;2;248;248;242m],\u001b[0m\n",
      "\u001b[38;5;238m   9\u001b[0m   \u001b[38;5;238m│\u001b[0m \u001b[38;2;248;248;242m\"fps\": 900,\u001b[0m\n",
      "\u001b[38;5;238m  10\u001b[0m   \u001b[38;5;238m│\u001b[0m \u001b[38;2;248;248;242m\"T_g\": 3.253,\u001b[0m\n",
      "\u001b[38;5;238m  11\u001b[0m   \u001b[38;5;238m│\u001b[0m \u001b[38;2;248;248;242m\"exposure\": 1109,\u001b[0m\n",
      "\u001b[38;5;238m  12\u001b[0m   \u001b[38;5;238m│\u001b[0m \u001b[38;2;248;248;242m\"n_frames\": 24981,\u001b[0m\n",
      "\u001b[38;5;238m  13\u001b[0m   \u001b[38;5;238m│\u001b[0m \u001b[38;2;248;248;242m\"recording_time\": 27.756666666666668,\u001b[0m\n",
      "\u001b[38;5;238m  14\u001b[0m   \u001b[38;5;238m│\u001b[0m \u001b[38;2;248;248;242m\"camera_distance\": 0.95,\u001b[0m\n",
      "\u001b[38;5;238m  15\u001b[0m   \u001b[38;5;238m│\u001b[0m \u001b[38;2;248;248;242m\"pixel_ratio\": 1075.8620689655172,\u001b[0m\n",
      "\u001b[38;5;238m  16\u001b[0m   \u001b[38;5;238m│\u001b[0m \u001b[38;2;248;248;242m\"particle_diameter_px\": 78,\u001b[0m\n",
      "\u001b[38;5;238m  17\u001b[0m   \u001b[38;5;238m│\u001b[0m \u001b[38;2;248;248;242m\"N\": 45,\u001b[0m\n",
      "\u001b[38;5;238m  18\u001b[0m   \u001b[38;5;238m│\u001b[0m \u001b[38;2;248;248;242m\"particle_shape\": \"rotating disk\",\u001b[0m\n",
      "\u001b[38;5;238m  19\u001b[0m   \u001b[38;5;238m│\u001b[0m \u001b[38;2;248;248;242m\"particle_diameter_m\": 0.0725,\u001b[0m\n",
      "\u001b[38;5;238m  20\u001b[0m   \u001b[38;5;238m│\u001b[0m \u001b[38;2;248;248;242m\"system_diameter\": 0.725,\u001b[0m\n",
      "\u001b[38;5;238m  21\u001b[0m   \u001b[38;5;238m│\u001b[0m \u001b[38;2;248;248;242m\"packing_fraction\": 0.44999999999999996,\u001b[0m\n",
      "\u001b[38;5;238m  22\u001b[0m   \u001b[38;5;238m│\u001b[0m \u001b[38;2;248;248;242m\"lights\": \"luzLejana\",\u001b[0m\n",
      "\u001b[38;5;238m  23\u001b[0m   \u001b[38;5;238m│\u001b[0m \u001b[38;2;248;248;242m\"power\": 24,\u001b[0m\n",
      "\u001b[38;5;238m  24\u001b[0m   \u001b[38;5;238m│\u001b[0m \u001b[38;2;248;248;242m\"associated_code\": \"/mnt/beegfs/malopez/serieAspas/34913bb5677f08882949\u001b[0m\n",
      "\u001b[38;5;238m    \u001b[0m   \u001b[38;5;238m│\u001b[0m \u001b[38;2;248;248;242m585aabd7ee16_code.zip\",\u001b[0m\n",
      "\u001b[38;5;238m  25\u001b[0m   \u001b[38;5;238m│\u001b[0m \u001b[38;2;248;248;242m\"ROI_center\": [\u001b[0m\n",
      "\u001b[38;5;238m  26\u001b[0m   \u001b[38;5;238m│\u001b[0m \u001b[38;2;248;248;242m656,\u001b[0m\n",
      "\u001b[38;5;238m  27\u001b[0m   \u001b[38;5;238m│\u001b[0m \u001b[38;2;248;248;242m395\u001b[0m\n",
      "\u001b[38;5;238m  28\u001b[0m   \u001b[38;5;238m│\u001b[0m \u001b[38;2;248;248;242m],\u001b[0m\n",
      "\u001b[38;5;238m  29\u001b[0m   \u001b[38;5;238m│\u001b[0m \u001b[38;2;248;248;242m\"ROI_radius\": 408\u001b[0m\n",
      "\u001b[38;5;238m  30\u001b[0m   \u001b[38;5;238m│\u001b[0m \u001b[38;2;248;248;242m}\u001b[0m\n",
      "\u001b[38;5;238m───────┴────────────────────────────────────────────────────────────────────────\u001b[0m\n"
     ]
    }
   ],
   "source": [
    "! bat '/home/fvega/Datos/blades/34913bb5677f08882949585aabd7ee16_experiment_info.txt'"
   ]
  },
  {
   "cell_type": "code",
   "execution_count": 142,
   "id": "c2eb2d72-d14e-4bcb-9caa-d65156c16cf3",
   "metadata": {
    "tags": []
   },
   "outputs": [],
   "source": [
    "At = np.zeros(nt)"
   ]
  },
  {
   "cell_type": "code",
   "execution_count": 108,
   "id": "ff86bc8c-d1ec-4cd7-bbad-93e3151122a8",
   "metadata": {
    "tags": []
   },
   "outputs": [
    {
     "name": "stdout",
     "output_type": "stream",
     "text": [
      "3"
     ]
    },
    {
     "ename": "KeyboardInterrupt",
     "evalue": "",
     "output_type": "error",
     "traceback": [
      "\u001b[0;31m---------------------------------------------------------------------------\u001b[0m",
      "\u001b[0;31mKeyboardInterrupt\u001b[0m                         Traceback (most recent call last)",
      "Cell \u001b[0;32mIn[108], line 4\u001b[0m\n\u001b[1;32m      2\u001b[0m vx \u001b[38;5;241m=\u001b[39m tabla[tabla\u001b[38;5;241m.\u001b[39mtrack\u001b[38;5;241m==\u001b[39mparts[ipart]]\u001b[38;5;241m.\u001b[39mvx\u001b[38;5;241m.\u001b[39mvalues\n\u001b[1;32m      3\u001b[0m \u001b[38;5;28;01mfor\u001b[39;00m i \u001b[38;5;129;01min\u001b[39;00m \u001b[38;5;28mrange\u001b[39m(\u001b[38;5;241m1\u001b[39m,\u001b[38;5;241m10000\u001b[39m\u001b[38;5;241m-\u001b[39m\u001b[38;5;241m1\u001b[39m):\n\u001b[0;32m----> 4\u001b[0m     At[i] \u001b[38;5;241m=\u001b[39m np\u001b[38;5;241m.\u001b[39msum( \u001b[43mnp\u001b[49m\u001b[38;5;241;43m.\u001b[39;49m\u001b[43mdiag\u001b[49m\u001b[43m(\u001b[49m\u001b[43mvx\u001b[49m\u001b[43m,\u001b[49m\u001b[43mk\u001b[49m\u001b[38;5;241;43m=\u001b[39;49m\u001b[43mi\u001b[49m\u001b[43m)\u001b[49m\u001b[43m[\u001b[49m\u001b[43m:\u001b[49m\u001b[43mnt\u001b[49m\u001b[43m,\u001b[49m\u001b[43m:\u001b[49m\u001b[43mnt\u001b[49m\u001b[43m]\u001b[49m\u001b[38;5;241;43m.\u001b[39;49m\u001b[43mdot\u001b[49m\u001b[43m(\u001b[49m\u001b[43mvx\u001b[49m\u001b[43m)\u001b[49m )\u001b[38;5;241m/\u001b[39m(nt\u001b[38;5;241m-\u001b[39mi)\n\u001b[1;32m      5\u001b[0m     printp(\u001b[38;5;28mstr\u001b[39m(i))\n\u001b[1;32m      6\u001b[0m     \u001b[38;5;66;03m#if (i%10==0):\u001b[39;00m\n\u001b[1;32m      7\u001b[0m     \u001b[38;5;66;03m#    printp(str(i))\u001b[39;00m\n",
      "\u001b[0;31mKeyboardInterrupt\u001b[0m: "
     ]
    }
   ],
   "source": [
    "ipart = 0\n",
    "vx = tabla[tabla.track==parts[ipart]].vx.values\n",
    "for i in range(1,10000-1):\n",
    "    At[i] = np.sum( np.diag(vx,k=i)[:nt,:nt].dot(vx) )/(nt-i)\n",
    "    printp(str(i))\n",
    "    #if (i%10==0):\n",
    "    #    printp(str(i))"
   ]
  },
  {
   "cell_type": "code",
   "execution_count": 140,
   "id": "f5a56fb0-2685-4cb9-9cb3-6b0115e71051",
   "metadata": {
    "tags": []
   },
   "outputs": [],
   "source": [
    "def time_shift_mat_av(array, it):\n",
    "    nt = len(array)\n",
    "    return np.sum( np.diag(array , k=it)[:nt,:nt].dot(array) )/(nt-i-1)\n",
    "\n",
    "def time_shift_np_av(array, denom,it):\n",
    "    return np.mean(array[:-it] * array[it:])/denom"
   ]
  },
  {
   "cell_type": "code",
   "execution_count": 166,
   "id": "4a1367d8-7f4a-4c22-a9ea-179fc5983ba5",
   "metadata": {
    "tags": []
   },
   "outputs": [],
   "source": [
    "denom = np.mean(w[:10000] * w[:10000])"
   ]
  },
  {
   "cell_type": "code",
   "execution_count": 141,
   "id": "022f195f-1e2f-43f1-9318-78251cd38eb2",
   "metadata": {
    "tags": []
   },
   "outputs": [
    {
     "data": {
      "text/plain": [
       "1.1436518555269706"
      ]
     },
     "execution_count": 141,
     "metadata": {},
     "output_type": "execute_result"
    }
   ],
   "source": [
    "time_shift_np_av(W, denom, 1)"
   ]
  },
  {
   "cell_type": "code",
   "execution_count": 159,
   "id": "2a303f39-b080-4573-a750-d64778945cd9",
   "metadata": {
    "tags": []
   },
   "outputs": [],
   "source": [
    "At[0]=0"
   ]
  },
  {
   "cell_type": "code",
   "execution_count": 170,
   "id": "2dde0ad9-df47-47f1-86cf-4ec729ec3149",
   "metadata": {
    "tags": []
   },
   "outputs": [
    {
     "name": "stdout",
     "output_type": "stream",
     "text": [
      "9900"
     ]
    }
   ],
   "source": [
    "denom =  np.mean(W[:20000] * W[:20000])\n",
    "for i in range(1,10000):\n",
    "    At[i] = time_shift_np_av(W, denom, i)\n",
    "    if i%100==0:\n",
    "        printp(str(i))"
   ]
  },
  {
   "cell_type": "code",
   "execution_count": 172,
   "id": "7cf070ad-21e3-489d-9419-ccf8d71a9bf2",
   "metadata": {
    "tags": []
   },
   "outputs": [
    {
     "data": {
      "text/plain": [
       "[<matplotlib.lines.Line2D at 0x7fbc46eb4910>]"
      ]
     },
     "execution_count": 172,
     "metadata": {},
     "output_type": "execute_result"
    },
    {
     "data": {
      "image/png": "[encoded data removed]",
      "text/plain": [
       "<Figure size 640x480 with 1 Axes>"
      ]
     },
     "metadata": {},
     "output_type": "display_data"
    }
   ],
   "source": [
    "plt.plot(At[1:1000],'.')"
   ]
  },
  {
   "cell_type": "code",
   "execution_count": 130,
   "id": "6920dcf3-a17c-40a0-8d9f-e59b1199cfba",
   "metadata": {
    "tags": []
   },
   "outputs": [
    {
     "data": {
      "text/plain": [
       "61.37913075867666"
      ]
     },
     "execution_count": 130,
     "metadata": {},
     "output_type": "execute_result"
    }
   ],
   "source": [
    "time_shift_mat_av(W,1)"
   ]
  },
  {
   "cell_type": "code",
   "execution_count": 116,
   "id": "b306b6d6-dd94-4dcd-9f71-85142dc5e25e",
   "metadata": {
    "tags": []
   },
   "outputs": [],
   "source": [
    "w = tabla[tabla.track==parts[0]].w.values"
   ]
  },
  {
   "cell_type": "code",
   "execution_count": 125,
   "id": "727780c8-1e78-4780-a23a-c7e7dded5c14",
   "metadata": {
    "tags": []
   },
   "outputs": [],
   "source": [
    "W = w - np.mean(w)"
   ]
  },
  {
   "cell_type": "code",
   "execution_count": 118,
   "id": "c3d7d92b-fce8-4cb0-b711-bac6481bc737",
   "metadata": {
    "tags": []
   },
   "outputs": [
    {
     "data": {
      "text/plain": [
       "24974"
      ]
     },
     "execution_count": 118,
     "metadata": {},
     "output_type": "execute_result"
    }
   ],
   "source": [
    "len(w[:-1] * w[1:])"
   ]
  },
  {
   "cell_type": "code",
   "execution_count": 112,
   "id": "3054be8a-3bf7-49a1-bcab-2678a5eb503e",
   "metadata": {
    "tags": []
   },
   "outputs": [
    {
     "data": {
      "text/plain": [
       "2"
      ]
     },
     "execution_count": 112,
     "metadata": {},
     "output_type": "execute_result"
    }
   ],
   "source": [
    "parts[1]"
   ]
  },
  {
   "cell_type": "code",
   "execution_count": 104,
   "id": "e920f062-adcd-405f-b3d1-25a81dd49a1c",
   "metadata": {
    "tags": []
   },
   "outputs": [
    {
     "name": "stdout",
     "output_type": "stream",
     "text": [
      "hola"
     ]
    }
   ],
   "source": [
    "printp('hola')"
   ]
  },
  {
   "cell_type": "code",
   "execution_count": 101,
   "id": "9c48b1d2-e746-4838-9955-96a7f2600d00",
   "metadata": {
    "tags": []
   },
   "outputs": [
    {
     "data": {
      "text/plain": [
       "0.0"
      ]
     },
     "execution_count": 101,
     "metadata": {},
     "output_type": "execute_result"
    }
   ],
   "source": [
    "At[nt-1]"
   ]
  },
  {
   "cell_type": "code",
   "execution_count": 68,
   "id": "a18f4ddf-07db-4241-99e5-8cfd6ffed8b9",
   "metadata": {
    "tags": []
   },
   "outputs": [
    {
     "data": {
      "text/plain": [
       "(24977, 24977)"
      ]
     },
     "execution_count": 68,
     "metadata": {},
     "output_type": "execute_result"
    }
   ],
   "source": [
    "np.shape(np.diag(vx,k=2))"
   ]
  },
  {
   "cell_type": "code",
   "execution_count": 70,
   "id": "87e7d89c-e148-4442-84ca-31be8e241fcb",
   "metadata": {
    "tags": []
   },
   "outputs": [],
   "source": [
    "iden = np.ones((4,4))"
   ]
  },
  {
   "cell_type": "code",
   "execution_count": 72,
   "id": "eef80d4b-c9cd-4173-9da7-e74039b4b116",
   "metadata": {
    "tags": []
   },
   "outputs": [],
   "source": [
    "vec = np.array([1,2,3,4])"
   ]
  },
  {
   "cell_type": "code",
   "execution_count": 73,
   "id": "567b436f-251e-4365-b3db-98e013d430bf",
   "metadata": {
    "tags": []
   },
   "outputs": [
    {
     "data": {
      "text/plain": [
       "array([1, 2, 3, 4])"
      ]
     },
     "execution_count": 73,
     "metadata": {},
     "output_type": "execute_result"
    }
   ],
   "source": [
    "vec"
   ]
  },
  {
   "cell_type": "code",
   "execution_count": 77,
   "id": "40779523-75db-4989-bd27-0e6048a4817b",
   "metadata": {
    "tags": []
   },
   "outputs": [
    {
     "data": {
      "text/plain": [
       "array([[0, 1, 0, 0],\n",
       "       [0, 0, 2, 0],\n",
       "       [0, 0, 0, 3],\n",
       "       [0, 0, 0, 0]])"
      ]
     },
     "execution_count": 77,
     "metadata": {},
     "output_type": "execute_result"
    }
   ],
   "source": [
    "np.diag(vec,k=1)[:4,:4]"
   ]
  },
  {
   "cell_type": "code",
   "execution_count": 89,
   "id": "1e14cbc0-0f9f-422c-80dd-3356cb9a6732",
   "metadata": {
    "tags": []
   },
   "outputs": [],
   "source": [
    "vAt = np.diag(vx,k=1)[:24975,:24975].dot(vx)"
   ]
  },
  {
   "cell_type": "code",
   "execution_count": 91,
   "id": "6acb2d9d-5ff8-4889-a49d-422c7a3f4005",
   "metadata": {
    "tags": []
   },
   "outputs": [
    {
     "data": {
      "text/plain": [
       "0.05827046694773"
      ]
     },
     "execution_count": 91,
     "metadata": {},
     "output_type": "execute_result"
    }
   ],
   "source": [
    "vAt[-2]"
   ]
  },
  {
   "cell_type": "code",
   "execution_count": 86,
   "id": "5a907fe9-d9ac-4599-bc64-af02d80de292",
   "metadata": {
    "tags": []
   },
   "outputs": [
    {
     "data": {
      "text/plain": [
       "0.4829963477843435"
      ]
     },
     "execution_count": 86,
     "metadata": {},
     "output_type": "execute_result"
    }
   ],
   "source": [
    "vx[1]"
   ]
  },
  {
   "cell_type": "code",
   "execution_count": 94,
   "id": "36ac59e3-fe0b-4d92-b8e6-27d39d7dbae4",
   "metadata": {
    "tags": []
   },
   "outputs": [],
   "source": [
    "nt =len(vx)"
   ]
  }
 ],
 "metadata": {
  "kernelspec": {
   "display_name": "Python 3 (ipykernel)",
   "language": "python",
   "name": "python3"
  },
  "language_info": {
   "codemirror_mode": {
    "name": "ipython",
    "version": 3
   },
   "file_extension": ".py",
   "mimetype": "text/x-python",
   "name": "python",
   "nbconvert_exporter": "python",
   "pygments_lexer": "ipython3",
   "version": "3.10.10"
  },
  "widgets": {
   "application/vnd.jupyter.widget-state+json": {
    "state": {},
    "version_major": 2,
    "version_minor": 0
   }
  }
 },
 "nbformat": 4,
 "nbformat_minor": 5
}
