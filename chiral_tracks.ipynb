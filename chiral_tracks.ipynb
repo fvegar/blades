{
 "cells": [
  {
   "cell_type": "markdown",
   "metadata": {},
   "source": [
    "# Processing of particle tracks \n",
    "### <font color='gray'>coded to work with experiments and simulation</font>"
   ]
  },
  {
   "cell_type": "markdown",
   "metadata": {},
   "source": [
    "## _Import of python libraries used within the code_\n",
    "\n",
    "### <font color ='gray'> load both code cells  </font>  "
   ]
  },
  {
   "cell_type": "code",
   "execution_count": 1,
   "metadata": {},
   "outputs": [],
   "source": [
    "#HI HELLO\n",
    "import numpy as np # fast array library\n",
    "import pandas as pd # data frames library\n",
    "# plot display type. use this to keep graphs within the notebook\n",
    "import matplotlib\n",
    "%matplotlib ipympl \n",
    "\n",
    "import matplotlib.pyplot as plt # plot library\n",
    "\n",
    "import subprocess # these 2 lines below load OS functionality\n",
    "import sys\n",
    "import json\n",
    "\n",
    "from IPython.display import display, HTML # screen on display in HTML library \n",
    "\n",
    "import sympy as sp # symbolic calculation library functions\n",
    "from sympy import var # symbolic calculation library variables\n",
    "\n",
    "import mpmath as mp # double (or higher) floating point precision library (not used)\n",
    "\n",
    "import scipy.constants as ct # import mathematical constants\n",
    "import scipy.stats as st\n",
    "import scipy.special as spec\n",
    "\n",
    "import ipywidgets as widgets # import \n",
    "\n",
    "from scipy.spatial import Voronoi, voronoi_plot_2d # import Voronoi functions\n",
    "\n",
    "import scipy.optimize as optimize # optimazation library (not used)\n",
    "from collections import Counter # (not used)\n",
    "import time # timing functions (for computation time)\n",
    "\n",
    "from scipy import signal # noise filtering functions\n",
    "\n",
    "global iscaled \n",
    "iscaled = 0\n",
    "\n",
    "global LX, LY\n",
    "LX = 1000 -250\n",
    "LY = 650-50\n",
    "\n",
    "# system size for a given (npart, rho) configuration\n",
    "def L(npart, rho):\n",
    "    l = np.sqrt(npart*2*np.sqrt(3.)/rho)\n",
    "    return l\n",
    "\n",
    "# print progress function\n",
    "# more elegant (python 3 alternative): print('\\rhello', end='',flush=True)\n",
    "def printp(string):\n",
    "    sys.stdout.write('\\r'+ str(string))\n",
    "    sys.stdout.flush()\n",
    "    \n",
    "#from __future__ import print_function\n",
    "\n",
    "# Text format for figures configuration (lines below)\n",
    "from matplotlib import rc\n",
    "rc('text', usetex=True)\n",
    "plt.rcParams['font.size'] = 20\n",
    "# special plotting functions\n",
    "from matplotlib.collections import PolyCollection\n",
    "import matplotlib.colors as mcolors\n",
    "\n",
    "def set_up_graf(idf, LX, LY):\n",
    "    global ax, fig_system, ss\n",
    "\n",
    "    fig_system = plt.figure(idf, figsize=(6.5,6.5*LY/LX))\n",
    "    ss=(72./fig_system.dpi)**2 # particle size\n",
    "    ax = fig_system.add_subplot(1, 1, 1)\n",
    "    ax.set_ylim([0,LY])\n",
    "    ax.set_xlim([0,LX])\n",
    "    ax.set_xlabel(r'$x/\\sigma$',fontsize = 24)\n",
    "    ax.set_ylabel(r'$y/\\sigma$', fontsize = 24)\n"
   ]
  },
  {
   "cell_type": "code",
   "execution_count": 2,
   "metadata": {},
   "outputs": [
    {
     "name": "stdout",
     "output_type": "stream",
     "text": [
      "Available matplotlib backends: ['tk', 'gtk', 'gtk3', 'wx', 'qt4', 'qt5', 'qt', 'osx', 'nbagg', 'notebook', 'agg', 'svg', 'pdf', 'ps', 'inline', 'ipympl', 'widget']\n"
     ]
    }
   ],
   "source": [
    "%matplotlib --list"
   ]
  },
  {
   "cell_type": "markdown",
   "metadata": {},
   "source": [
    "## _Read tracking data _ \n",
    "\n",
    "We explain the action of each of these functions below:\n",
    "\n",
    "__get_info(hash_prefix) :__ Reads and prints info file with  _hash prefix_ hash code. See output table in <font color='red' >RUN CELL 0</font> below to grasp the info structure\n",
    "\n",
    "__simple_pickle_read(hash_prefix) :__\n",
    "This 'simple_pickle_read' takes a pkl.xz file _hash prefix_ hash code, and which contains xy positions and tracks (no velocities) and stores in 'tabla' pandas data frame.\n",
    "   \n",
    "  * input: hash_prefix\n",
    "  * output: global variable _Ntracks_ (number of tracks) "
   ]
  },
  {
   "cell_type": "code",
   "execution_count": 2,
   "metadata": {},
   "outputs": [],
   "source": [
    "def pdisplay(info):\n",
    "    display(HTML(info.to_html()))\n",
    "\n",
    "# This function reads pickle binary file (.pkl) with trajectories\n",
    "def get_info(series_directory, hash_prefix):\n",
    "    global info\n",
    "    nombre = '/data/Datos/Tracks/'+ series_directory +'/info/' + hash_prefix + '.txt'\n",
    "    with open(nombre) as f:\n",
    "        jsonstr = json.load(f)\n",
    "    info = pd.json_normalize(jsonstr)\n",
    "    pdisplay(info.T)\n",
    "    return info\n",
    "    \n",
    "def simple_pickle_read(series_directory, hash_prefix):\n",
    "    global Nframes, Ntracks\n",
    "    # Read table in pickle format\n",
    "    nombre = '/data/Datos/Tracks/' + series_directory + '/tracks/900fps/' + hash_prefix \\\n",
    "       + '.pkl.xz'\n",
    "    tabla = pd.read_pickle(nombre, compression='infer')\n",
    "    tabla = tabla.reset_index(drop=True) # por si los indices salen desordenados\n",
    "    Nframes = np.max(tabla.frame)+1\n",
    "    Ntracks = np.max(tabla.track)+1\n",
    "    tabla = tabla.sort_values(by = ['frame', 'track']).reset_index(drop=True)\n",
    "    return tabla"
   ]
  },
  {
   "cell_type": "markdown",
   "metadata": {},
   "source": [
    "## _Reduce global table - functions_\n",
    "\n",
    "__reset_track_indexes(tabla0):__ \n",
    "Eliminates 'lonely' tracks (particles tracked for just 1 frame), re-indexes so that no track indexes are empty\n",
    "* input: _tabla0_ original data frame (of tracks)\n",
    "* output: RETURNS clean _tabla_ data frame, without empty tracks; AND original _tabla0_ with empty tracks still included\n",
    "* output structure: _tabla0_, _tabla_\n",
    "\n",
    "__short_drop:(ishort, tabla):__ \n",
    "Eliminates tracks detected for n frames or less, re-indexes so that no track indexes are empty\n",
    "\n",
    "* Input: _ishort_ (threshold length of tracks: shorter tracks are not kept), _tabla_ (original tracks data frame)\n",
    "\n",
    "* Output: RETURNS _tabla_\\__short_ (frame), that is the input table _tabla_ without tracks shorter than _ishort_\n"
   ]
  },
  {
   "cell_type": "code",
   "execution_count": 3,
   "metadata": {},
   "outputs": [],
   "source": [
    "def reset_track_indexes(tabla0):\n",
    "    global Ntracks, Nframes\n",
    "    \"\"\" This function takes a dataframe in which some trajectory indexes\n",
    "        are missing (maybe due to having deleted short trajectories) and\n",
    "        resets indexes so that we can loop over the tracks with 'range' \"\"\"\n",
    "    # 'real_number_of_tracks' should be <=  than 'current_last_particle_index'\n",
    "    tabla = tabla0.copy()\n",
    "    Ntracks = len(set(tabla.track))\n",
    "    original_indexes = np.sort(list(set(tabla.track)))\n",
    "    unsort_indexes = original_indexes\n",
    "    fixed_indexes = np.arange(0, Ntracks, step=1, dtype=int)\n",
    "    if  (original_indexes == fixed_indexes).all()==False: # fix only if there are empty tracks\n",
    "    # With these two lists we create a dictionary and map old values to new ones\n",
    "        n_empty = np.max(tabla.track) - Ntracks\n",
    "        replacement_dict = dict(zip(original_indexes, fixed_indexes))\n",
    "        tabla.track = tabla.track.map(dict(zip(original_indexes, fixed_indexes)))\n",
    "        print('no. of empty track indexes discarded: ', n_empty, '\\n')\n",
    "    else:\n",
    "        print('nothing to fix\\n')\n",
    "    Ntracks = np.max(tabla.track)+1\n",
    "    Nframes = np.max(tabla.frame)+1\n",
    "    return tabla0, tabla\n",
    "\n",
    "# INPUT\n",
    "# ishort: number of minimum frames in a track (eliminates tracks under ishort time length)\n",
    "# tabla: pandas Data Frame to shorten\n",
    "# OUTPUT\n",
    "def short_drop(ishort, tabla):\n",
    "    global shorts_list, Ntracks\n",
    "    shorts_list =[]\n",
    "    Ntracks = np.max(tabla.track)+1\n",
    "    for i in range(Ntracks):\n",
    "        t1 = track(i,tabla,False)\n",
    "        if  len(t1) < ishort+1:\n",
    "            shorts_list.append(i)\n",
    "            len0 = len(tabla)\n",
    "            tabla = tabla.drop(t1['index'])\n",
    "            texto = 'dropped track no. '+str(i)+'; data table length decreased in '+str(len(tabla)-len0)\n",
    "            printp(texto)\n",
    "    print('\\n')\n",
    "    tabla_short = tabla.sort_values(by = ['frame', 'track']).reset_index(drop=True)\n",
    "    Nshorts = np.max(tabla_short.track)+1\n",
    "    printp('Dropped out ' + str(Ntracks-Nshorts)+' short tracks out of ' + str(Ntracks))\n",
    "    # the line above is necessary so that eliminates index voids and shuffling after short drop\n",
    "    print('\\n')\n",
    "    return tabla_short\n"
   ]
  },
  {
   "cell_type": "markdown",
   "metadata": {},
   "source": [
    "## _Get tracks and states from global table - functions_\n",
    "\n",
    "__track(t_id, tabla, dropit) :__  builds track for one particle from the appropriate chunk of the source table, with only the lines for particle _t_\\__id_ \n",
    "\n",
    "* Input: _t_\\__id_ indice de track, _tabla_ source frame fuente (contains tracks), _dropit_ boolean; if =True then erases old index column (tracks do not always begin in frame 0); most of the time you just want _dropit_=True\n",
    "\n",
    "* Output: RETURNS a chunk of source table _tabla_ with only the lines for particle _t_\\__id_\n",
    "\n",
    "__all\\___ __tracks(tabla, dropit):__ repeats the process in _track_ function for all existing particles\n",
    "\n",
    "* Input: _tabla_ (frame) data source, _dropit_ boolean variable set True to erase original table original line number\n",
    "\n",
    "* Output: RETURNS _track_ array of frames each wiith one particle track; builds _tr_\\__lengths_ array of tracks lengths\n",
    "\n",
    "\n",
    "__state(it, tabla):__ gets one instantaneous state frome source frame _tabla_, at frame _it_\n",
    "\n",
    "* Input: _it_ frame no. to get the state from; _tabla_ source frame data\n",
    "\n",
    "* Output: RETURNS st frame chunk from _tabla_ source frame\n",
    "\n",
    "__all__\\___states(tabla):__ Builds all instantaneous states from the movie\n",
    "\n",
    "* Input: _tabla_ source frame data\n",
    "\n",
    "* Output: RETURNS array of frame chunks from _tabla_ source frame. each chunk being an instantaneous state"
   ]
  },
  {
   "cell_type": "code",
   "execution_count": 4,
   "metadata": {},
   "outputs": [],
   "source": [
    "#####  INDIVIDUAL TRACKS ##############\n",
    "# build a 't_id' indivitual track \n",
    "def trackf(t_id, tabla, dropit):\n",
    "    t1 = tabla.loc[tabla.track == t_id].reset_index(drop=dropit)\n",
    "    return t1\n",
    "\n",
    "# build individual tracks from all kept tracks\n",
    "# OUTPUT\n",
    "# tr_lengths[i]: length of track no.  'i'. The total no. of tracks is stored in 'Ntracks'\n",
    "def all_tracks(tabla,dropit):\n",
    "    # length of track\n",
    "    global tr_lengths\n",
    "    tr_lengths = np.empty(Ntracks,dtype=int)\n",
    "    tracks = [[] for i in range(Ntracks)]\n",
    "    for i in range(Ntracks):\n",
    "        tracks[i] = trackf(i,tabla,dropit)\n",
    "        tr_lengths[i] = int(len(tracks[i]))\n",
    "    return tracks\n",
    "\n",
    "#####  INSTANTANEOUS STATES  ##############\n",
    "# BUILD INSTANTANEOUS STATES OF THE SYSTEM\n",
    "def state(it, tabla):\n",
    "    st = tabla.loc[tabla.frame == it].reset_index(drop=True)\n",
    "    # reset row index \n",
    "    #(otherwise keeps chunked index of the original table)\n",
    "    return st\n",
    "\n",
    "# build instantaneous states over all frames\n",
    "def all_states(tabla):\n",
    "    sts = [[] for i in range(Nframes)]\n",
    "    for i in range(Nframes):\n",
    "        sts[i] = state(i,tabla)\n",
    "    return sts\n"
   ]
  },
  {
   "cell_type": "markdown",
   "metadata": {},
   "source": [
    "## _Low-Pass filters_ \n",
    "\n",
    "__butter_lowpass(step,fps, arr) :__ Applies Butterworth low-pass filter to _arr_ array, with averaging width _step_, for a movie with _fps_ frame rate; _fr_ is the fraction of the maximum frequency that is allowed to pass\n",
    "\n",
    "* Input: _fr_, _step_, _fps_, _arr_; as described above\n",
    "* Output: RETURNS an array of the same size as _arr_\n",
    "\n",
    "__cheby1_lowpass(step,fps, arr) :__ Applies Chebyshev type I low-pass filter to _arr_ array, with averaging width _step_, for a movie with _fps_ frame rate\n",
    "\n",
    "* Input: _step_, _fps_, _arr_; as described above\n",
    "* Output: RETURNS an array of the same size as _arr_\n",
    "\n"
   ]
  },
  {
   "cell_type": "code",
   "execution_count": 5,
   "metadata": {},
   "outputs": [],
   "source": [
    "def butter_lowpass(fr,step,fps, arr):\n",
    "    \n",
    "    #N, Wn = signal.buttord(1./(1.*fps/step),1./fps, 1/step, fps*0.5)\n",
    "    N, Wn = signal.buttord(fr/step, fr, 1/step, fps*0.5 ,0.5/fps)\n",
    "    b, a = signal.butter(N, Wn,'low')\n",
    "    yy = signal.filtfilt(b, a, np.squeeze(arr), padtype=None)\n",
    "    return yy\n",
    "\n",
    "def filter_tracks_butter(fr,step,fps,tabla):\n",
    "    tabla_unfiltered = tabla.copy()\n",
    "    for i in range(Ntracks):\n",
    "        printp('Filtering positions for track no. ' + str(i+1) + ' of ' + str(Ntracks))\n",
    "        xbb = np.array(tabla.loc[tabla['track']==i,'x'])\n",
    "        xb = butter_lowpass(fr,step,info.fps[0], xbb)\n",
    "        tabla.loc[tabla['track']==i,'x'] = xb\n",
    "        ybb = tabla.loc[tabla['track']==i,'y']\n",
    "        yb = butter_lowpass(fr,step,info.fps[0], ybb)\n",
    "        tabla.loc[tabla['track']==i,'y'] = yb\n",
    "    print('\\n')\n",
    "    return tabla_unfiltered, tabla\n",
    "\n",
    "#def cheby1_lowpass(step,fps,arr):\n",
    "#    N, Wn = signal.cheb1ord(1./(1.*fps/step),1./fps, step, fps*0.5)\n",
    "#    b, a = signal.cheby1(N, 1./fps, Wn, 'low')\n",
    "#    y = signal.filtfilt(b, a, arr)\n",
    "#    return y\n"
   ]
  },
  {
   "cell_type": "markdown",
   "metadata": {},
   "source": [
    "## _Get velocities (differences) and accelerations (differences of differences) from individual tracks_\n",
    "\n",
    "__vels(tabla) :__ Ouputs velocities from tracks table; by decomposing into individual trajectories first\n",
    "\n",
    "* Input: _tabla_ frame data source; str01: name of _x_ coordinate inpuy variable; str02: same for _y_ coordinate\n",
    "\n",
    "* Output: RETURNS _tabla_ with 2 new columns (_tabla['vx']_, _tabla['vy']_)"
   ]
  },
  {
   "cell_type": "code",
   "execution_count": 6,
   "metadata": {},
   "outputs": [],
   "source": [
    "def diffs(str01,str02,str1,str2,tabla):\n",
    "    global last_id\n",
    "    tabla[str1] = np.zeros(len(tabla)) # creates new columns for differences\n",
    "    tabla[str2] = np.zeros(len(tabla))\n",
    "    last_id = np.zeros(Ntracks, dtype=int) # creates array for storing strack last index\n",
    "    for k in range(Ntracks):\n",
    "        printp('diffs: ' + str(k+1)+ ' of ' + str(Ntracks) + ' tracks')\n",
    "        t1 = track(k,tabla,False)\n",
    "        tabla.loc[t1['index'][:-1],str1] = np.diff(t1[str01]) #store differences in new columns\n",
    "        tabla.loc[t1['index'][:-1],str2] = np.diff(t1[str02])\n",
    "        last_id[k] = tabla.loc[tabla['track']==k].index.values[-1:]\n",
    "    tabla = tabla.drop(last_id) # gets rid of last point in track (has no defined diff)\n",
    "    print('\\n')\n",
    "    return tabla\n",
    "    \n",
    "def angle_diffs(tabla):\n",
    "    global last_id\n",
    "    tabla['w'] = np.zeros(len(tabla)) # creates spin column\n",
    "    for k in range(Ntracks):\n",
    "        printp('diffs: ' + str(k+1)+ ' of ' + str(Ntracks) + ' tracks')\n",
    "        t1 = track(k,tabla,False)\n",
    "        tabla.loc[t1['index'][:-1],'w'] = np.diff(t1['theta']) \n",
    "        last_id[k] = tabla.loc[tabla['track']==k].index.values[-1:]\n",
    "    tabla = tabla.drop(last_id) # gets rid of last point in track (has no defined diff)\n",
    "    print('\\n')\n",
    "    return tabla"
   ]
  },
  {
   "cell_type": "markdown",
   "metadata": {},
   "source": [
    "## Bring data to physical units\n",
    "\n",
    "We take as coordinate origin the mid-point of the max and min X and Y positions ever tracked within the region of interest (ROI) during the experiment.\n",
    "\n",
    "We have 2 options for lengh unit: \n",
    "* milimeters \n",
    "* Ball diameter\n",
    "\n",
    "The time scale unit is seconds.\n",
    "\n",
    "Only after this step position differences in the original data table are re-scaled as real velocities"
   ]
  },
  {
   "cell_type": "code",
   "execution_count": 7,
   "metadata": {},
   "outputs": [],
   "source": [
    "# PHYSICAL SCALES AND ORIGIN\n",
    "# Usage: re_pos_scale(0) for 1 mm as length unit; re_pos_scale(1) for ball diameter (sigma) \n",
    "# length unit\n",
    "\n",
    "def set_origin(shiftx, shifty, tabla):\n",
    "    global ishifted\n",
    "    if ishifted == 0:\n",
    "        tabla_not_shifted = tabla.copy()\n",
    "        tabla['x'] -= shiftx\n",
    "        tabla['y'] -= shifty\n",
    "        shifted = 1\n",
    "    return tabla_not_shifted, tabla\n",
    "\n",
    "\n",
    "def scale(l_unit, t_unit, tabla):\n",
    "    global iscaled\n",
    "    tabla_not_scaled = tabla.copy()\n",
    "    if iscaled == 0:  \n",
    "        inv_l_unit = 1./l_unit\n",
    "        print(inv_l_unit)\n",
    "        if np.any(tabla.columns=='vx') or np.any(tabla.columns=='vy'):\n",
    "            print(inv_l_unit)\n",
    "            tabla[['x','y']] *= inv_l_unit\n",
    "            tabla[['vx', 'vy']] *= (inv_l_unit * t_unit)\n",
    "            if np.any(tabla.columns=='ax') or np.any(tabla.columns=='ay'):\n",
    "                tabla[['ax', 'ay']] *=  (inv_l_unit * t_unit**2)\n",
    "        else:\n",
    "            tabla[['x','y']] *= inv_l_unit\n",
    "        iscaled = 1\n",
    "    else:\n",
    "        tabla[['x','y']] *= 1\n",
    "        iscaled = 0\n",
    "    return tabla_not_scaled, tabla\n"
   ]
  },
  {
   "cell_type": "markdown",
   "metadata": {},
   "source": [
    "## <font color='RED'>RUN CELL 0</font>\n",
    "### - Import pkl.xz tracks table\n",
    "### - create all individual tracks arrays\n",
    "### - analyze track length histogram, decide minimum track length"
   ]
  },
  {
   "cell_type": "code",
   "execution_count": 8,
   "metadata": {},
   "outputs": [
    {
     "data": {
      "text/html": [
       "<table border=\"1\" class=\"dataframe\">\n",
       "  <thead>\n",
       "    <tr style=\"text-align: right;\">\n",
       "      <th></th>\n",
       "      <th>0</th>\n",
       "    </tr>\n",
       "  </thead>\n",
       "  <tbody>\n",
       "    <tr>\n",
       "      <th>experiment_id</th>\n",
       "      <td>4bf1a08dbd71379766e543b9532df560</td>\n",
       "    </tr>\n",
       "    <tr>\n",
       "      <th>original_file</th>\n",
       "      <td>/mnt/beegfs/malopez/serieAspas/serieAspas_N25_p20_fps900_1.cine</td>\n",
       "    </tr>\n",
       "    <tr>\n",
       "      <th>date</th>\n",
       "      <td>2038-01-19 04:18:16</td>\n",
       "    </tr>\n",
       "    <tr>\n",
       "      <th>shape</th>\n",
       "      <td>[1280, 800]</td>\n",
       "    </tr>\n",
       "    <tr>\n",
       "      <th>fps</th>\n",
       "      <td>900</td>\n",
       "    </tr>\n",
       "    <tr>\n",
       "      <th>exposure</th>\n",
       "      <td>1109</td>\n",
       "    </tr>\n",
       "    <tr>\n",
       "      <th>n_frames</th>\n",
       "      <td>24981</td>\n",
       "    </tr>\n",
       "    <tr>\n",
       "      <th>recording_time</th>\n",
       "      <td>27.7567</td>\n",
       "    </tr>\n",
       "    <tr>\n",
       "      <th>camera_distance</th>\n",
       "      <td>0.95</td>\n",
       "    </tr>\n",
       "    <tr>\n",
       "      <th>pixel_ratio</th>\n",
       "      <td>1089</td>\n",
       "    </tr>\n",
       "    <tr>\n",
       "      <th>particle_diameter_px</th>\n",
       "      <td>79</td>\n",
       "    </tr>\n",
       "    <tr>\n",
       "      <th>N</th>\n",
       "      <td>25</td>\n",
       "    </tr>\n",
       "    <tr>\n",
       "      <th>particle_shape</th>\n",
       "      <td>rotating disk</td>\n",
       "    </tr>\n",
       "    <tr>\n",
       "      <th>particle_diameter_m</th>\n",
       "      <td>0.0725</td>\n",
       "    </tr>\n",
       "    <tr>\n",
       "      <th>system_diameter</th>\n",
       "      <td>0.725</td>\n",
       "    </tr>\n",
       "    <tr>\n",
       "      <th>packing_fraction</th>\n",
       "      <td>0.25</td>\n",
       "    </tr>\n",
       "    <tr>\n",
       "      <th>lights</th>\n",
       "      <td>luzLejana</td>\n",
       "    </tr>\n",
       "    <tr>\n",
       "      <th>power</th>\n",
       "      <td>20</td>\n",
       "    </tr>\n",
       "    <tr>\n",
       "      <th>associated_code</th>\n",
       "      <td>/mnt/beegfs/malopez/serieAspas/4bf1a08dbd71379766e543b9532df560_code.zip</td>\n",
       "    </tr>\n",
       "    <tr>\n",
       "      <th>ROI_center</th>\n",
       "      <td>[656, 395]</td>\n",
       "    </tr>\n",
       "    <tr>\n",
       "      <th>ROI_radius</th>\n",
       "      <td>408</td>\n",
       "    </tr>\n",
       "  </tbody>\n",
       "</table>"
      ],
      "text/plain": [
       "<IPython.core.display.HTML object>"
      ]
     },
     "metadata": {},
     "output_type": "display_data"
    },
    {
     "name": "stdout",
     "output_type": "stream",
     "text": [
      "nothing to fix\n",
      "\n"
     ]
    },
    {
     "data": {
      "text/html": [
       "<table border=\"1\" class=\"dataframe\">\n",
       "  <thead>\n",
       "    <tr style=\"text-align: right;\">\n",
       "      <th></th>\n",
       "      <th>frame</th>\n",
       "      <th>track</th>\n",
       "      <th>x</th>\n",
       "      <th>y</th>\n",
       "      <th>maxt</th>\n",
       "      <th>cuad</th>\n",
       "    </tr>\n",
       "  </thead>\n",
       "  <tbody>\n",
       "    <tr>\n",
       "      <th>0</th>\n",
       "      <td>1</td>\n",
       "      <td>0</td>\n",
       "      <td>814.647468</td>\n",
       "      <td>643.994447</td>\n",
       "      <td>[0.036626783701913065, 0.18385052658094192, 0.3383244591267481, 0.4562430450572031, 0.5804050080754658, 0.7183706507015212, 0.8644398598688607, 0.9999052086191216, 1.1503496663110337, 1.2929713542490024, 1.4363411941299624, 1.5874308181968726, 1.7412504103398132, 1.8881570675411483]</td>\n",
       "      <td>[0.036626783701913065, 0.18385052658094192, 0.3383244591267481, 0.4562430450572031, 0.5804050080754658, 0.7183706507015212, 0.8644398598688607, 0.9999052086191216, 1.1503496663110337, 1.2929713542490024, 1.4363411941299624, 1.5874308181968726, 1.7412504103398132, 1.8881570675411483]</td>\n",
       "    </tr>\n",
       "    <tr>\n",
       "      <th>1</th>\n",
       "      <td>1</td>\n",
       "      <td>1</td>\n",
       "      <td>833.440082</td>\n",
       "      <td>155.107584</td>\n",
       "      <td>[0.1327300598204992, 0.27908924051532835, 0.4054216786116568, 0.5516948678541602, 0.689981271549557, 0.8421728254098394, 0.9827381382866865, 1.119900593440402, 1.259020667510297, 1.396324537786448, 1.5307304849910386, 1.6795844111219265, 1.8382726334788568, 1.9810270061086195]</td>\n",
       "      <td>[0.1327300598204992, 0.27908924051532835, 0.4054216786116568, 0.5516948678541602, 0.689981271549557, 0.8421728254098394, 0.9827381382866865, 1.119900593440402, 1.259020667510297, 1.396324537786448, 1.5307304849910386, 1.6795844111219265, 1.8382726334788568, 1.9810270061086195]</td>\n",
       "    </tr>\n",
       "    <tr>\n",
       "      <th>2</th>\n",
       "      <td>1</td>\n",
       "      <td>2</td>\n",
       "      <td>712.325766</td>\n",
       "      <td>155.562226</td>\n",
       "      <td>[0.08782313512565135, 0.2349385832673767, 0.38788240633323867, 0.5241541211354374, 0.6563221401950123, 0.8038474391643975, 0.9439634387320286, 1.0819570364850377, 1.2185599646744307, 1.344617381451658, 1.4940962714541342, 1.6381167121184386, 1.7875803763250517, 1.940001221635273]</td>\n",
       "      <td>[0.08782313512565135, 0.2349385832673767, 0.38788240633323867, 0.5241541211354374, 0.6563221401950123, 0.8038474391643975, 0.9439634387320286, 1.0819570364850377, 1.2185599646744307, 1.344617381451658, 1.4940962714541342, 1.6381167121184386, 1.7875803763250517, 1.940001221635273]</td>\n",
       "    </tr>\n",
       "    <tr>\n",
       "      <th>3</th>\n",
       "      <td>1</td>\n",
       "      <td>3</td>\n",
       "      <td>655.528404</td>\n",
       "      <td>229.414274</td>\n",
       "      <td>[0.16776375319657666, 0.31667411487024094, 0.43796018389235447, 0.5920296371063434, 0.7258939812005311, 0.8699922181456345, 1.0079765582699025, 1.1580646818469185, 1.2881824793268868, 1.428371324620072, 1.566344401990137, 1.727039962380502, 1.8722527741192538]</td>\n",
       "      <td>[0.16776375319657666, 0.31667411487024094, 0.43796018389235447, 0.5920296371063434, 0.7258939812005311, 0.8699922181456345, 1.0079765582699025, 1.1580646818469185, 1.2881824793268868, 1.428371324620072, 1.566344401990137, 1.727039962380502, 1.8722527741192538]</td>\n",
       "    </tr>\n",
       "    <tr>\n",
       "      <th>4</th>\n",
       "      <td>1</td>\n",
       "      <td>4</td>\n",
       "      <td>574.409841</td>\n",
       "      <td>238.649058</td>\n",
       "      <td>[0.04480840352667365, 0.19640929912144098, 0.3536709057984168, 0.47248630606323455, 0.6189222452045975, 0.7641760936411512, 0.9066594888435884, 1.0339342498555228, 1.1780735429491505, 1.307872820287969, 1.4453061184480467, 1.5927021972422895, 1.749193259130297, 1.8955330813656202]</td>\n",
       "      <td>[0.04480840352667365, 0.19640929912144098, 0.3536709057984168, 0.47248630606323455, 0.6189222452045975, 0.7641760936411512, 0.9066594888435884, 1.0339342498555228, 1.1780735429491505, 1.307872820287969, 1.4453061184480467, 1.5927021972422895, 1.749193259130297, 1.8955330813656202]</td>\n",
       "    </tr>\n",
       "  </tbody>\n",
       "</table>"
      ],
      "text/plain": [
       "<IPython.core.display.HTML object>"
      ]
     },
     "metadata": {},
     "output_type": "display_data"
    },
    {
     "name": "stdout",
     "output_type": "stream",
     "text": [
      "\n",
      " min for positions:\n",
      " x    437.795667\n",
      "y    122.745921\n",
      "dtype: float64 \n",
      "\n",
      "max. for positions:\n",
      " x    986.920536\n",
      "y    690.644348\n",
      "dtype: float64 \n",
      "\n"
     ]
    }
   ],
   "source": [
    "# COMPLETE SET OF READING INSTRUCTIONS\n",
    "\n",
    "series_directory = 'chiral/rho_0_025'\n",
    "hash_prefix = '4bf1a08dbd71379766e543b9532df560'\n",
    "\n",
    "info = get_info(series_directory, hash_prefix)\n",
    "\n",
    "datos = simple_pickle_read(series_directory, hash_prefix)\n",
    "datos_orig, datos = reset_track_indexes(datos)\n",
    "\n",
    "datos = datos[['frame','track','x','y','extremos']]\n",
    "\n",
    "maxs = np.array([datos.extremos[i][0] for i in range(len(datos))])\n",
    "#mins = np.array([datos.extremos[i][1] for i in range(len(datos))])\n",
    "\n",
    "del datos['extremos']\n",
    "\n",
    "maxs = maxs/180\n",
    "#mins = mins/180\n",
    "\n",
    "datos['maxt'] = maxs\n",
    "#datos['mint'] = mins\n",
    "\n",
    "\n",
    "for i in range(len(datos)):\n",
    "    datos.at[i,'maxt'] = np.array(list(filter(lambda x: x<2, datos.maxt[i])))\n",
    "\n",
    "datos['cuad'] = datos['maxt']\n",
    "\n",
    "#datos.columns = ['frame','track','x','y','maxs','mins'];\n",
    "\n",
    "# imprime (formateada) cabecera de tabla de datos\n",
    "display(HTML(datos.head().to_html()))\n",
    "\n",
    "print('\\n min for positions:\\n', np.min(datos[['x','y']]), '\\n')\n",
    "print('max. for positions:\\n', np.max(datos[['x','y']]), '\\n')\n",
    "\n",
    "## store tracks individually\n",
    "tracks = all_tracks(datos, True)"
   ]
  },
  {
   "cell_type": "code",
   "execution_count": 12,
   "metadata": {},
   "outputs": [
    {
     "name": "stdout",
     "output_type": "stream",
     "text": [
      "0.1327300598204992\n"
     ]
    }
   ],
   "source": [
    "theta0 = tracks[1].maxt[0][0]; print(theta0)"
   ]
  },
  {
   "cell_type": "code",
   "execution_count": 48,
   "metadata": {},
   "outputs": [
    {
     "name": "stdout",
     "output_type": "stream",
     "text": [
      "0.009158918934119076 0.13513680471039824 0.1584304883924\n",
      "0.009158918934119076\n"
     ]
    }
   ],
   "source": [
    "j = 0\n",
    "it = 0 \n",
    "diff0 = tracks[1].maxt[it+1][j] - theta0 # ldiff0, rdiff0\n",
    "if (j==13):\n",
    "    ldiff1 = tracks[1].maxt[it+1][0] - theta0 + 2 # ldiffm2\n",
    "else:\n",
    "    ldiff1 = tracks[1].maxt[it+1][j+1] - theta0 # ldiff1\n",
    "if (j==0):\n",
    "    rdiff1 = -(tracks[1].maxt[it+1][13] - theta0 - 2) #rdiffM2\n",
    "else:\n",
    "    rdiff1 = tracks[1].maxt[it+1][j-1] - theta0\n",
    "next0 = min(diff0,abs(ldiff1),rdiff1); print(diff0,rdiff1,ldiff1)\n",
    "print(next0)"
   ]
  },
  {
   "cell_type": "code",
   "execution_count": 132,
   "metadata": {},
   "outputs": [],
   "source": [
    "nblades = 14\n",
    "def return_next(itr,jt,j0):\n",
    "    theta0 = tracks[itr].maxt[jt][j0]\n",
    "    diff0 = tracks[itr].maxt[jt+1][j0] - theta0 # ldiff0, rdiff0\n",
    "    extt = 0\n",
    "    if (j0==nblades-1):\n",
    "        ldiff1 = tracks[itr].maxt[jt+1][0] - theta0 + 2 # ldiffm2\n",
    "        extt = 1\n",
    "    else:\n",
    "        ldiff1 = tracks[itr].maxt[jt+1][j0+1] - theta0 # ldiff1\n",
    "        \n",
    "    if (j0==0):\n",
    "        rdiff1 = -(tracks[itr].maxt[jt+1][nblades-1] - theta0 - 2) #rdiffM2\n",
    "        extt = 1\n",
    "    else:\n",
    "        rdiff1 = tracks[itr].maxt[jt+1][j0-1] - theta0 #rdiff1\n",
    "    \n",
    "    nm = min(diff0,abs(ldiff1),rdiff1)\n",
    "    in0 = np.where(np.array([diff0,abs(ldiff1),rdiff1])== nm)[0][0] \n",
    "    #referir a lista [tracks[itr].maxt[jt+1][j0] - theta0, tracks[itr].maxt[jt+1][0] - theta0 + 2, ... ]\n",
    "    #creo que así lo de abajo sobraría\n",
    "    if (extt>0 and in0>0):\n",
    "        next0 = np.array([0,nblades-1])[in0-1]\n",
    "    else: \n",
    "        next0 = np.array([j0,j0+1,j0-1])[in0]\n",
    "    print(nm)\n",
    "    print(in0)\n",
    "    print(extt)\n",
    "    print(next0)\n",
    "    #return np.where(tracks[itr].maxt[jt+1]+thetanm)"
   ]
  },
  {
   "cell_type": "code",
   "execution_count": 133,
   "metadata": {},
   "outputs": [
    {
     "name": "stdout",
     "output_type": "stream",
     "text": [
      "0.009158918934119076\n",
      "0\n",
      "1\n",
      "0\n"
     ]
    }
   ],
   "source": [
    "return_next(1,0,0)"
   ]
  },
  {
   "cell_type": "code",
   "execution_count": 35,
   "metadata": {},
   "outputs": [],
   "source": [
    "nblades = 14\n",
    "def shift_back(arr,n0):\n",
    "    arr_copy = np.zeros(nblades)\n",
    "    for i in range(n0,nblades):\n",
    "        arr_copy[i-n0] = arr[i]\n",
    "    for i in range(0,n0):\n",
    "        arr_copy[(nblades-1)-(n0-1)+i] = arr[i]\n",
    "    return arr_copy"
   ]
  },
  {
   "cell_type": "code",
   "execution_count": 36,
   "metadata": {},
   "outputs": [
    {
     "data": {
      "text/plain": [
       "array([0.14188898, 0.29116055, 0.43208482, 0.56274166, 0.71612866,\n",
       "       0.85908847, 1.00266288, 1.13823514, 1.27034512, 1.40996041,\n",
       "       1.54763743, 1.69813643, 1.84620388, 1.99759326])"
      ]
     },
     "execution_count": 36,
     "metadata": {},
     "output_type": "execute_result"
    }
   ],
   "source": [
    "tracks[1].maxt[1]"
   ]
  },
  {
   "cell_type": "code",
   "execution_count": 38,
   "metadata": {},
   "outputs": [
    {
     "data": {
      "text/plain": [
       "array([1.40996041, 1.54763743, 1.69813643, 1.84620388, 1.99759326,\n",
       "       0.14188898, 0.29116055, 0.43208482, 0.56274166, 0.71612866,\n",
       "       0.85908847, 1.00266288, 1.13823514, 1.27034512])"
      ]
     },
     "execution_count": 38,
     "metadata": {},
     "output_type": "execute_result"
    }
   ],
   "source": [
    "shift_back(tracks[1].maxt[1],9)"
   ]
  },
  {
   "cell_type": "code",
   "execution_count": 19,
   "metadata": {},
   "outputs": [
    {
     "name": "stdout",
     "output_type": "stream",
     "text": [
      "4\n",
      "5\n",
      "6\n",
      "7\n",
      "8\n",
      "9\n",
      "10\n",
      "11\n",
      "12\n",
      "13\n"
     ]
    }
   ],
   "source": [
    "for i in range(4,14):\n",
    "    print(i)"
   ]
  },
  {
   "cell_type": "code",
   "execution_count": 21,
   "metadata": {},
   "outputs": [
    {
     "name": "stdout",
     "output_type": "stream",
     "text": [
      "0\n",
      "1\n",
      "2\n",
      "3\n"
     ]
    }
   ],
   "source": [
    "for i in range(0,4):\n",
    "    print(i)"
   ]
  },
  {
   "cell_type": "code",
   "execution_count": 13,
   "metadata": {},
   "outputs": [
    {
     "data": {
      "text/plain": [
       "14"
      ]
     },
     "execution_count": 13,
     "metadata": {},
     "output_type": "execute_result"
    }
   ],
   "source": [
    "len(tracks[1].maxt[1])"
   ]
  },
  {
   "cell_type": "code",
   "execution_count": 255,
   "metadata": {},
   "outputs": [
    {
     "name": "stdout",
     "output_type": "stream",
     "text": [
      "0 0.009158918934119076\n"
     ]
    }
   ],
   "source": [
    "nm = np.min(tracks[1].maxt[1]-theta0)\n",
    "nm2 = np.min(tracks[1].maxt[1]+2-theta0)\n",
    "if (nm<nm2):\n",
    "    next0 = np.where((nm +theta0 == tracks[1].maxt[1]) ==True)[0][0]\n",
    "else:\n",
    "     next0 = np.where((nm -2 + theta0 == tracks[1].maxt[1]) ==True)[0][0]\n",
    "print(next0, nm)"
   ]
  },
  {
   "cell_type": "code",
   "execution_count": 95,
   "metadata": {},
   "outputs": [
    {
     "data": {
      "text/plain": [
       "2"
      ]
     },
     "execution_count": 95,
     "metadata": {},
     "output_type": "execute_result"
    }
   ],
   "source": [
    "a = np.array([1, 2, 3])\n",
    "np.where(a==3)[0][0].astype('int')\n"
   ]
  },
  {
   "cell_type": "code",
   "execution_count": 250,
   "metadata": {},
   "outputs": [
    {
     "data": {
      "text/plain": [
       "array([2.00915892, 2.15843049, 2.29935476, 2.4300116 , 2.5833986 ,\n",
       "       2.72635841, 2.86993282, 3.00550508, 3.13761506, 3.27723035,\n",
       "       3.41490737, 3.56540637, 3.71347382, 3.8648632 ])"
      ]
     },
     "execution_count": 250,
     "metadata": {},
     "output_type": "execute_result"
    }
   ],
   "source": [
    "tracks[1].maxt[1]+2-theta0"
   ]
  },
  {
   "cell_type": "code",
   "execution_count": 244,
   "metadata": {},
   "outputs": [
    {
     "data": {
      "text/plain": [
       "array([0.00915892, 0.15843049, 0.29935476, 0.4300116 , 0.5833986 ,\n",
       "       0.72635841, 0.86993282, 1.00550508, 1.13761506, 1.27723035,\n",
       "       1.41490737, 1.56540637, 1.71347382, 1.8648632 ])"
      ]
     },
     "execution_count": 244,
     "metadata": {},
     "output_type": "execute_result"
    }
   ],
   "source": [
    "tracks[1].maxt[1]-theta0"
   ]
  },
  {
   "cell_type": "code",
   "execution_count": 245,
   "metadata": {},
   "outputs": [
    {
     "name": "stdout",
     "output_type": "stream",
     "text": [
      "13\n"
     ]
    }
   ],
   "source": [
    "lnm = np.max(tracks[1].maxt[1]-2-theta0)\n",
    "lnext0 = np.where((lnm + 2 + theta0 == tracks[1].maxt[1]) ==True)[0][0]\n",
    "print(lnext0)"
   ]
  },
  {
   "cell_type": "code",
   "execution_count": 247,
   "metadata": {},
   "outputs": [
    {
     "data": {
      "text/plain": [
       "0.009158918934119076"
      ]
     },
     "execution_count": 247,
     "metadata": {},
     "output_type": "execute_result"
    }
   ],
   "source": [
    "min(nm,np.abs(lnm))"
   ]
  },
  {
   "cell_type": "code",
   "execution_count": 243,
   "metadata": {},
   "outputs": [
    {
     "data": {
      "text/plain": [
       "array([-1.99084108, -1.84156951, -1.70064524, -1.5699884 , -1.4166014 ,\n",
       "       -1.27364159, -1.13006718, -0.99449492, -0.86238494, -0.72276965,\n",
       "       -0.58509263, -0.43459363, -0.28652618, -0.1351368 ])"
      ]
     },
     "execution_count": 243,
     "metadata": {},
     "output_type": "execute_result"
    }
   ],
   "source": [
    "tracks[1].maxt[1]-2-theta0"
   ]
  },
  {
   "cell_type": "code",
   "execution_count": 207,
   "metadata": {},
   "outputs": [
    {
     "data": {
      "text/plain": [
       "array([False, False, False])"
      ]
     },
     "execution_count": 207,
     "metadata": {},
     "output_type": "execute_result"
    }
   ],
   "source": [
    "n"
   ]
  },
  {
   "cell_type": "code",
   "execution_count": 202,
   "metadata": {},
   "outputs": [
    {
     "data": {
      "text/plain": [
       "0.1351368047103982"
      ]
     },
     "execution_count": 202,
     "metadata": {},
     "output_type": "execute_result"
    }
   ],
   "source": [
    "np.abs(tracks[1].maxt[1][-1]-2-theta0)"
   ]
  },
  {
   "cell_type": "code",
   "execution_count": 146,
   "metadata": {},
   "outputs": [
    {
     "data": {
      "application/vnd.jupyter.widget-view+json": {
       "model_id": "943a5c79ca93452a886a66796b0e5398",
       "version_major": 2,
       "version_minor": 0
      },
      "text/plain": [
       "Canvas(toolbar=Toolbar(toolitems=[('Home', 'Reset original view', 'home', 'home'), ('Back', 'Back to previous …"
      ]
     },
     "metadata": {},
     "output_type": "display_data"
    }
   ],
   "source": [
    "## store tracks individually\n",
    "#tracks = all_tracks(datos, True)\n",
    "# Histogram of trajectory length\n",
    "plt.figure(figsize=(8,8/ct.golden))\n",
    "plt.title('Trajectory lengths')\n",
    "# set upper height limit for histogram\n",
    "track_lengths = [len(tracks[i]) for i in range(Ntracks)]\n",
    "# number of bins for track length histogram\n",
    "nbins = 200\n",
    "#plot\n",
    "plt.ylim(0,1.25*Ntracks)\n",
    "fig=plt.hist( track_lengths, nbins, color='b')"
   ]
  },
  {
   "cell_type": "code",
   "execution_count": 153,
   "metadata": {},
   "outputs": [
    {
     "data": {
      "application/vnd.jupyter.widget-view+json": {
       "model_id": "8327d09ce5b4459a8c21551073067962",
       "version_major": 2,
       "version_minor": 0
      },
      "text/plain": [
       "Canvas(toolbar=Toolbar(toolitems=[('Home', 'Reset original view', 'home', 'home'), ('Back', 'Back to previous …"
      ]
     },
     "metadata": {},
     "output_type": "display_data"
    },
    {
     "data": {
      "text/plain": [
       "Text(0.5, 1.0, 'propellers no. of edges')"
      ]
     },
     "execution_count": 153,
     "metadata": {},
     "output_type": "execute_result"
    }
   ],
   "source": [
    "plt.figure(figsize=(8,8/ct.golden))\n",
    "\n",
    "# Histogram of trajectory length\n",
    "datos_length = len(datos.maxt)-1\n",
    "\n",
    "\n",
    "# set upper height limit for histogram\n",
    "edges_lengths = [len(datos.maxt[i]) for i in range(datos_length)]\n",
    "# number of bins for track length histogram\n",
    "\n",
    "\n",
    "fig = plt.hist( edges_lengths, bins =[11,12,13,14,15, 16],\\\n",
    "                color='b',density=True, align='left' ,rwidth=0.95)\n",
    "\n",
    "s= '11 edges: ' + str(\"{0:.2%}\".format(fig[0][0])) +\\\n",
    "'\\n12 edges: ' + str(\"{0:.2%}\".format(fig[0][1])) +\\\n",
    "'\\n13 edges: ' + str(\"{0:.2%}\".format(fig[0][2])) +\\\n",
    "'\\n14 edges: ' + str(\"{0:.2%}\".format(fig[0][3])) + \\\n",
    "'\\n15 edges: ' + str(\"{0:.4%}\".format(fig[0][4]))\n",
    "\n",
    "plt.text(11.75, 0.7, s= s , horizontalalignment='center',fontsize=12)\n",
    "\n",
    "plt.title('propellers no. of edges')"
   ]
  },
  {
   "cell_type": "code",
   "execution_count": 108,
   "metadata": {},
   "outputs": [],
   "source": [
    "angulos = np.array([datos.maxt[i][0] for i in range(len(datos))])"
   ]
  },
  {
   "cell_type": "code",
   "execution_count": 109,
   "metadata": {},
   "outputs": [
    {
     "data": {
      "application/vnd.jupyter.widget-view+json": {
       "model_id": "8ba188a025c84c849b34e101f73266b7",
       "version_major": 2,
       "version_minor": 0
      },
      "text/plain": [
       "Canvas(toolbar=Toolbar(toolitems=[('Home', 'Reset original view', 'home', 'home'), ('Back', 'Back to previous …"
      ]
     },
     "metadata": {},
     "output_type": "display_data"
    },
    {
     "data": {
      "text/plain": [
       "(array([1.18317491, 1.26867109, 0.91781487, 0.96526293, 0.93129826,\n",
       "        0.96340536, 0.93831218, 0.9645103 , 0.93281954, 0.93477319]),\n",
       " array([3.39595906e-06, 1.00002970e-01, 2.00002543e-01, 3.00002117e-01,\n",
       "        4.00001691e-01, 5.00001264e-01, 6.00000838e-01, 7.00000412e-01,\n",
       "        7.99999986e-01, 8.99999559e-01, 9.99999133e-01]),\n",
       " <a list of 10 Patch objects>)"
      ]
     },
     "execution_count": 109,
     "metadata": {},
     "output_type": "execute_result"
    }
   ],
   "source": [
    "plt.figure(figsize=(8,8/ct.golden))\n",
    "plt.hist( angulos*(14/2)%1, bins=10,\\\n",
    "                color='b',density=True, align='left' ,rwidth=0.95)"
   ]
  },
  {
   "cell_type": "code",
   "execution_count": 138,
   "metadata": {},
   "outputs": [],
   "source": [
    "for i in range(len(datos)):\n",
    "    datos.at[i,'maxt'] = np.array(list(filter(lambda x: x<2, datos.maxt[i])))"
   ]
  },
  {
   "cell_type": "code",
   "execution_count": 139,
   "metadata": {},
   "outputs": [],
   "source": [
    "tracks = all_tracks(datos, True)"
   ]
  },
  {
   "cell_type": "markdown",
   "metadata": {},
   "source": [
    "## <font color='RED'>RUN CELL 1</font>\n",
    "\n",
    "### - obtain position differences  (vels)\n",
    "### - obtain velocities differences  (accels)\n",
    "### - create all (non-short) individual tracks arrays. (minimum theoretical length: 5)"
   ]
  },
  {
   "cell_type": "code",
   "execution_count": 243,
   "metadata": {},
   "outputs": [
    {
     "name": "stdout",
     "output_type": "stream",
     "text": [
      "0.012658227848101266\n"
     ]
    },
    {
     "data": {
      "text/html": [
       "<table border=\"1\" class=\"dataframe\">\n",
       "  <thead>\n",
       "    <tr style=\"text-align: right;\">\n",
       "      <th></th>\n",
       "      <th>frame</th>\n",
       "      <th>track</th>\n",
       "      <th>x</th>\n",
       "      <th>y</th>\n",
       "      <th>theta</th>\n",
       "    </tr>\n",
       "  </thead>\n",
       "  <tbody>\n",
       "    <tr>\n",
       "      <th>0</th>\n",
       "      <td>1</td>\n",
       "      <td>0</td>\n",
       "      <td>-8.278377</td>\n",
       "      <td>-4.960103</td>\n",
       "      <td>[[17.35402463626132, 45.0, 74.47588900324574, 98.13010235415598, 127.56859202882748, 154.79887635452494, 180.0, 205.20112364547506, 232.4314079711725, 257.4711922908485, 276.7098368077569, 298.07248693585296, 326.3099324740202, 353.99099404250546, 377.35402463626133, 405.0], [6.009005957494525, 32.005383208083494, 57.9946167919165, 83.6598082540901, 109.6538240580533, 137.48955292199918, 165.06858282186246, 190.0079798014413, 215.53767779197437, 241.69924423399365, 266.18592516570965, 286.3895403340348, 315.0, 341.565051177078, 366.00900595749454, 392.0053832080835, 417.9946167919165]]</td>\n",
       "    </tr>\n",
       "    <tr>\n",
       "      <th>1</th>\n",
       "      <td>1</td>\n",
       "      <td>1</td>\n",
       "      <td>-8.275366</td>\n",
       "      <td>-5.038438</td>\n",
       "      <td>[[3.1798301198642345, 29.74488129694222, 59.03624346792648, 83.99099404250548, 107.35402463626133, 132.51044707800085, 158.19859051364818, 180.0, 206.565051177078, 235.30484646876602, 262.40535663140855, 282.5288077091515, 310.23635830927384, 338.1985905136482, 363.1798301198642, 389.7448812969422], [18.43494882292201, 45.0, 71.56505117707799, 96.00900595749452, 116.56505117707799, 141.84277341263095, 167.47119229084848, 190.61965527615513, 216.86989764584402, 244.79887635452496, 270.0, 298.07248693585296, 327.2647737278924, 356.18592516570965, 378.434948822922, 405.0]]</td>\n",
       "    </tr>\n",
       "    <tr>\n",
       "      <th>2</th>\n",
       "      <td>1</td>\n",
       "      <td>2</td>\n",
       "      <td>-8.294772</td>\n",
       "      <td>-5.038365</td>\n",
       "      <td>[[9.462322208025617, 37.568592028827496, 66.37062226934319, 90.0, 116.56505117707799, 141.34019174590992, 166.75948008481282, 188.9726266148964, 214.69515353123396, 242.10272896905238, 270.0, 288.434948822922, 317.29061004263855, 345.06858282186244, 369.4623222080256, 397.5685920288275], [25.016893478100023, 50.71059313749964, 78.69006752597979, 101.30993247402021, 126.2538377374448, 151.69924423399362, 176.18592516570965, 199.44003482817618, 225.0, 251.565051177078, 276.3401917459099, 303.6900675259798, 331.92751306414704, 360.0, 385.01689347810003, 410.71059313749964]]</td>\n",
       "    </tr>\n",
       "    <tr>\n",
       "      <th>3</th>\n",
       "      <td>1</td>\n",
       "      <td>3</td>\n",
       "      <td>-8.303873</td>\n",
       "      <td>-5.026532</td>\n",
       "      <td>[[22.380135051959574, 49.398705354995535, 79.38034472384487, 101.30993247402021, 127.56859202882748, 151.92751306414706, 180.0, 202.38013505195957, 229.3987053549955, 254.47588900324575, 277.59464336859145, 302.7352262721076, 330.6422464572087, 360.0, 382.3801350519596, 409.3987053549955], [10.619655276155134, 37.568592028827496, 63.43494882292201, 90.0, 111.25050550713325, 137.29061004263855, 162.6459753637387, 186.3401917459099, 211.60750224624888, 237.9946167919165, 263.6598082540901, 288.434948822922, 317.4895529219991, 345.9637565320735, 370.61965527615513, 397.5685920288275]]</td>\n",
       "    </tr>\n",
       "    <tr>\n",
       "      <th>4</th>\n",
       "      <td>1</td>\n",
       "      <td>4</td>\n",
       "      <td>-8.316871</td>\n",
       "      <td>-5.025052</td>\n",
       "      <td>[[17.35402463626132, 45.0, 74.47588900324574, 97.59464336859145, 124.69515353123397, 149.03624346792648, 173.6598082540901, 195.94539590092285, 222.51044707800082, 249.44395478041653, 270.0, 295.20112364547504, 324.4623222080256, 352.8749836510982, 377.35402463626133, 405.0], [6.009005957494525, 32.7352262721076, 59.03624346792648, 83.99099404250548, 109.4400348281762, 132.87890360333856, 160.3461759419467, 180.0, 206.565051177078, 232.4314079711725, 259.38034472384487, 282.5288077091515, 310.6012946450045, 340.3461759419467, 366.00900595749454, 392.7352262721076]]</td>\n",
       "    </tr>\n",
       "  </tbody>\n",
       "</table>"
      ],
      "text/plain": [
       "<IPython.core.display.HTML object>"
      ]
     },
     "metadata": {},
     "output_type": "display_data"
    }
   ],
   "source": [
    "\n",
    "## scale and re-position the system (left-bottom corner is (0,0))\n",
    "ishifted = 0\n",
    "\n",
    "not_shifted, datos = \\\n",
    "set_origin(info.ROI_center[0][0],info.ROI_center[0][1], datos) # re-position\n",
    "\n",
    "iscaled = 0\n",
    "not_scaled, datos = \\\n",
    "scale(info.particle_diameter_px[0], 10**3/info.fps[0], datos) # scale\n",
    "\n",
    "#\n",
    "## calculate velocities for all tracks\n",
    "#datos = diffs('x','y','vx','vy', datos);\n",
    "#\n",
    "##calculate accelerations for all tracks\n",
    "#tracks_table[ishort] = diffs('vx','vy','ax','ay', datos);\n",
    "#print table head\n",
    "#\n",
    "#print('scaled: \\n')\n",
    "display(HTML( datos.head().to_html() ))\n",
    "#\n",
    "#\n",
    "## store tracks individually\n",
    "#tracks = all_tracks(datos, True)\n",
    "#\n",
    "## store system (instantaneous) states individually\n",
    "#states = all_states(datos)\n"
   ]
  },
  {
   "cell_type": "markdown",
   "metadata": {},
   "source": [
    "## _Plotting functions_ \n",
    "\n",
    "__frameit(ax):__ frames a figure by drawing the image limits and the ROI limits as well\n",
    "\n",
    "__plt__\\___track(t_id,xs,tagit,fr\\_it):__ plots just one track (_t_\\__id_) within _fr_\\__it_ (if True) frames, with size _xs_ and prints the track no. if _tagit_ is True\n",
    "\n",
    "__plt__\\___tracks(init_id, final_id,xs,tagit,fr\\_it):__ plots _init_\\__id_ to _final_\\__id_ tracks within _fr_\\__it_ (if True) frames, with size _xs_ and prints the track no. if _tagit_ is True"
   ]
  },
  {
   "cell_type": "code",
   "execution_count": 50,
   "metadata": {},
   "outputs": [],
   "source": [
    "def frameit(ax):\n",
    "    ax.set_xlim(0,info['shape'][0][0])\n",
    "    ax.set_ylim(0,info['shape'][0][1])\n",
    "    rect = plt.Rectangle([250,50], 750, 600, alpha=1, lw=10,fill=False, edgecolor='b')\n",
    "    ax.add_artist(rect)\n",
    "\n",
    "# Plot just one track function (tagit?, frameit?)\n",
    "def plt_track(t_id,xs,tagit,fr_it):\n",
    "    if fr_it==True:\n",
    "        fig, ax = plt.subplots(figsize=(xs,xs*info['shape'][0][1]/info['shape'][0][0]))\n",
    "        px_size = 72./fig.dpi\n",
    "        frameit(ax)\n",
    "    else:\n",
    "        fig, ax = plt.subplots()\n",
    "        px_size = 72./fig.dpi\n",
    "        \n",
    "    plt.plot(tracks[t_id].x,tracks[t_id].y, '.', c='r', markersize=px_size,linewidth=None)\n",
    "    if tagit==True:\n",
    "        plt.text(np.mean(tracks[t_id].x), np.mean(tracks[t_id].y), str(t_id))\n",
    "            \n",
    "def plt_tracks(init_id,final_id,xs,tagit,fr_it):\n",
    "    if fr_it==True:\n",
    "        fig, ax = plt.subplots(figsize=(xs,xs*info['shape'][0][1]/info['shape'][0][0]))\n",
    "        px_size = 72./fig.dpi\n",
    "        frameit(ax)\n",
    "    else:\n",
    "        fig, ax = plt.subplots()\n",
    "        px_size = 72./fig.dpi\n",
    "    for i in range(init_id,final_id):\n",
    "        plt.plot(tracks[i].x,tracks[i].y, '.', c='r', markersize=px_size,linewidth=None)\n",
    "        if tagit==True:\n",
    "            plt.text(np.mean(tracks[i].x), np.mean(tracks[i].y), str(i))\n"
   ]
  }
 ],
 "metadata": {
  "celltoolbar": "Raw Cell Format",
  "kernelspec": {
   "display_name": "Python 3",
   "language": "python",
   "name": "python3"
  },
  "language_info": {
   "codemirror_mode": {
    "name": "ipython",
    "version": 3
   },
   "file_extension": ".py",
   "mimetype": "text/x-python",
   "name": "python",
   "nbconvert_exporter": "python",
   "pygments_lexer": "ipython3",
   "version": "3.7.3"
  }
 },
 "nbformat": 4,
 "nbformat_minor": 4
}
