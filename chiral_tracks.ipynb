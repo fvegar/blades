{
 "cells": [
  {
   "cell_type": "markdown",
   "metadata": {},
   "source": [
    "# Processing of particle tracks \n",
    "### <font color='gray'>coded to work with experiments and simulation</font>"
   ]
  },
  {
   "cell_type": "markdown",
   "metadata": {},
   "source": [
    "## _Import of python libraries used within the code_\n",
    "\n",
    "### <font color ='gray'> load both code cells  </font>  "
   ]
  },
  {
   "cell_type": "code",
   "execution_count": 9,
   "metadata": {},
   "outputs": [],
   "source": [
    "#HI HELLO\n",
    "import numpy as np # fast array library\n",
    "import pandas as pd # data frames library\n",
    "# plot display type. use this to keep graphs within the notebook\n",
    "import matplotlib\n",
    "\n",
    "\n",
    "import matplotlib.pyplot as plt # plot library\n",
    "\n",
    "import subprocess # these 2 lines below load OS functionality\n",
    "import sys\n",
    "import json\n",
    "\n",
    "from IPython.display import display, HTML # screen on display in HTML library \n",
    "\n",
    "import sympy as sp # symbolic calculation library functions\n",
    "from sympy import var # symbolic calculation library variables\n",
    "\n",
    "import mpmath as mp # double (or higher) floating point precision library (not used)\n",
    "\n",
    "import scipy.constants as ct # import mathematical constants\n",
    "import scipy.stats as st\n",
    "import scipy.special as spec\n",
    "\n",
    "import ipywidgets as widgets # import \n",
    "\n",
    "from scipy.spatial import Voronoi, voronoi_plot_2d # import Voronoi functions\n",
    "\n",
    "import scipy.optimize as optimize # optimazation library (not used)\n",
    "from collections import Counter # (not used)\n",
    "import time # timing functions (for computation time)\n",
    "\n",
    "from scipy import signal # noise filtering functions\n",
    "\n",
    "global iscaled \n",
    "iscaled = 0\n",
    "\n",
    "global LX, LY\n",
    "LX = 1000 -250\n",
    "LY = 650-50\n",
    "\n",
    "# system size for a given (npart, rho) configuration\n",
    "def L(npart, rho):\n",
    "    l = np.sqrt(npart*2*np.sqrt(3.)/rho)\n",
    "    return l\n",
    "\n",
    "# print progress function\n",
    "# more elegant (python 3 alternative): print('\\rhello', end='',flush=True)\n",
    "def printp(string):\n",
    "    sys.stdout.write('\\r'+ str(string))\n",
    "    sys.stdout.flush()\n",
    "    \n",
    "#from __future__ import print_function\n",
    "\n",
    "# Text format for figures configuration (lines below)\n",
    "from matplotlib import rc\n",
    "rc('text', usetex=True)\n",
    "plt.rcParams['font.size'] = 14\n",
    "# special plotting functions\n",
    "from matplotlib.collections import PolyCollection\n",
    "import matplotlib.colors as mcolors\n",
    "\n",
    "def set_up_graf(idf, LX, LY):\n",
    "    global ax, fig_system, ss\n",
    "\n",
    "    fig_system = plt.figure(idf, figsize=(6.5,6.5*LY/LX))\n",
    "    ss=(72./fig_system.dpi)**2 # particle size\n",
    "    ax = fig_system.add_subplot(1, 1, 1)\n",
    "    ax.set_ylim([0,LY])\n",
    "    ax.set_xlim([0,LX])\n",
    "    ax.set_xlabel(r'$x/\\sigma$',fontsize = 14)\n",
    "    ax.set_ylabel(r'$y/\\sigma$', fontsize = 14)\n"
   ]
  },
  {
   "cell_type": "code",
   "execution_count": 2,
   "metadata": {},
   "outputs": [
    {
     "name": "stdout",
     "output_type": "stream",
     "text": [
      "Available matplotlib backends: ['tk', 'gtk', 'gtk3', 'wx', 'qt4', 'qt5', 'qt', 'osx', 'nbagg', 'notebook', 'agg', 'svg', 'pdf', 'ps', 'inline', 'ipympl', 'widget']\n"
     ]
    }
   ],
   "source": [
    "%matplotlib --list"
   ]
  },
  {
   "cell_type": "code",
   "execution_count": 2,
   "metadata": {},
   "outputs": [],
   "source": [
    "# matplotlib widgets interface\n",
    "%matplotlib widget \n",
    "# tk interface\n",
    "#%matplotlib tk "
   ]
  },
  {
   "cell_type": "markdown",
   "metadata": {},
   "source": [
    "## _Read tracking data_ \n",
    "\n",
    "We explain the action of each of these functions below:\n",
    "\n",
    "__get_info(hash_prefix) :__ Reads and prints info file with  _hash prefix_ hash code. See output table in <font color='red' >RUN CELL 0</font> below to grasp the info structure\n",
    "\n",
    "__simple_pickle_read(hash_prefix) :__\n",
    "This 'simple_pickle_read' takes a pkl.xz file _hash prefix_ hash code, and which contains xy positions and tracks (no velocities) and stores in 'tabla' pandas data frame.\n",
    "   \n",
    "  * input: hash_prefix\n",
    "  * output: global variable _Ntracks_ (number of tracks) "
   ]
  },
  {
   "cell_type": "code",
   "execution_count": 10,
   "metadata": {},
   "outputs": [],
   "source": [
    "def pdisplay(info):\n",
    "    display(HTML(info.to_html()))\n",
    "\n",
    "# This function reads pickle binary file (.pkl) with trajectories\n",
    "def get_info(series_directory, hash_prefix):\n",
    "    global info\n",
    "    nombre = '/data/Datos/chiral/'+ series_directory +'/info/' + hash_prefix + '.txt'\n",
    "    with open(nombre) as f:\n",
    "        jsonstr = json.load(f)\n",
    "    info = pd.json_normalize(jsonstr)\n",
    "    pdisplay(info.T)\n",
    "    return info\n",
    "    \n",
    "def simple_pickle_read(series_directory, hash_prefix):\n",
    "    global Nframes, Ntracks\n",
    "    # Read table in pickle format\n",
    "    nombre = '/data/Datos/chiral/' + series_directory + '/tracks/900fps/' + hash_prefix \\\n",
    "       + '.pkl.xz'\n",
    "    tabla = pd.read_pickle(nombre, compression='infer')\n",
    "    tabla = tabla.reset_index(drop=True) # por si los indices salen desordenados\n",
    "    Nframes = np.max(tabla.frame)\n",
    "    Ntracks = np.max(tabla.track)+1\n",
    "    tabla = tabla.sort_values(by = ['frame', 'track']).reset_index(drop=True)\n",
    "    return tabla"
   ]
  },
  {
   "cell_type": "markdown",
   "metadata": {},
   "source": [
    "## _Reduce global table - functions_\n",
    "\n",
    "__reset_track_indexes(tabla0):__ \n",
    "Eliminates 'lonely' tracks (particles tracked for just 1 frame), re-indexes so that no track indexes are empty\n",
    "* input: _tabla0_ original data frame (of tracks)\n",
    "* output: RETURNS clean _tabla_ data frame, without empty tracks; AND original _tabla0_ with empty tracks still included\n",
    "* output structure: _tabla0_, _tabla_\n",
    "\n",
    "__short_drop:(ishort, tabla):__ \n",
    "Eliminates tracks detected for n frames or less, re-indexes so that no track indexes are empty\n",
    "\n",
    "* Input: _ishort_ (threshold length of tracks: shorter tracks are not kept), _tabla_ (original tracks data frame)\n",
    "\n",
    "* Output: RETURNS _tabla_\\__short_ (frame), that is the input table _tabla_ without tracks shorter than _ishort_\n"
   ]
  },
  {
   "cell_type": "code",
   "execution_count": 2,
   "metadata": {},
   "outputs": [],
   "source": [
    "def reset_track_indexes(tabla0):\n",
    "    global Ntracks, Nframes\n",
    "    \"\"\" This function takes a dataframe in which some trajectory indexes\n",
    "        are missing (maybe due to having deleted short trajectories) and\n",
    "        resets indexes so that we can loop over the tracks with 'range' \"\"\"\n",
    "    # 'real_number_of_tracks' should be <=  than 'current_last_particle_index'\n",
    "    tabla = tabla0.copy()\n",
    "    Ntracks = len(set(tabla.track))\n",
    "    original_indexes = np.sort(list(set(tabla.track)))\n",
    "    unsort_indexes = original_indexes\n",
    "    fixed_indexes = np.arange(0, Ntracks, step=1, dtype=int)\n",
    "    if  (original_indexes == fixed_indexes).all()==False: # fix only if there are empty tracks\n",
    "    # With these two lists we create a dictionary and map old values to new ones\n",
    "        n_empty = np.max(tabla.track) - Ntracks\n",
    "        replacement_dict = dict(zip(original_indexes, fixed_indexes))\n",
    "        tabla.track = tabla.track.map(dict(zip(original_indexes, fixed_indexes)))\n",
    "        print('no. of empty track indexes discarded: ', n_empty, '\\n')\n",
    "    else:\n",
    "        print('nothing to fix\\n')\n",
    "    Ntracks = np.max(tabla.track)+1\n",
    "    Nframes = np.max(tabla.frame)\n",
    "    return tabla0, tabla\n",
    "\n",
    "# INPUT\n",
    "# ishort: number of minimum frames in a track (eliminates tracks under ishort time length)\n",
    "# tabla: pandas Data Frame to shorten\n",
    "# OUTPUT\n",
    "def short_drop(ishort, tabla):\n",
    "    global shorts_list, Ntracks\n",
    "    shorts_list =[]\n",
    "    Ntracks = np.max(tabla.track)+1\n",
    "    for i in range(Ntracks):\n",
    "        t1 = track(i,tabla,False)\n",
    "        if  len(t1) < ishort+1:\n",
    "            shorts_list.append(i)\n",
    "            len0 = len(tabla)\n",
    "            tabla = tabla.drop(t1['index'])\n",
    "            texto = 'dropped track no. '+str(i)+'; data table length decreased in '+str(len(tabla)-len0)\n",
    "            printp(texto)\n",
    "    print('\\n')\n",
    "    tabla_short = tabla.sort_values(by = ['frame', 'track']).reset_index(drop=True)\n",
    "    Nshorts = np.max(tabla_short.track)+1\n",
    "    printp('Dropped out ' + str(Ntracks-Nshorts)+' short tracks out of ' + str(Ntracks))\n",
    "    # the line above is necessary so that eliminates index voids and shuffling after short drop\n",
    "    print('\\n')\n",
    "    return tabla_short\n"
   ]
  },
  {
   "cell_type": "markdown",
   "metadata": {},
   "source": [
    "## _Get tracks and states from global table - functions_\n",
    "\n",
    "__track(t_id, tabla, dropit) :__  builds track for one particle from the appropriate chunk of the source table, with only the lines for particle _t_\\__id_ \n",
    "\n",
    "* Input: _t_\\__id_ indice de track, _tabla_ source frame fuente (contains tracks), _dropit_ boolean; if =True then erases old index column (tracks do not always begin in frame 0); most of the time you just want _dropit_=True\n",
    "\n",
    "* Output: RETURNS a chunk of source table _tabla_ with only the lines for particle _t_\\__id_\n",
    "\n",
    "__all\\___ __tracks(tabla, dropit):__ repeats the process in _track_ function for all existing particles\n",
    "\n",
    "* Input: _tabla_ (frame) data source, _dropit_ boolean variable set True to erase original table original line number\n",
    "\n",
    "* Output: RETURNS _track_ array of frames each wiith one particle track; builds _tr_\\__lengths_ array of tracks lengths\n",
    "\n",
    "\n",
    "__state(it, tabla):__ gets one instantaneous state frome source frame _tabla_, at frame _it_\n",
    "\n",
    "* Input: _it_ frame no. to get the state from; _tabla_ source frame data\n",
    "\n",
    "* Output: RETURNS st frame chunk from _tabla_ source frame\n",
    "\n",
    "__all__\\___states(tabla):__ Builds all instantaneous states from the movie\n",
    "\n",
    "* Input: _tabla_ source frame data\n",
    "\n",
    "* Output: RETURNS array of frame chunks from _tabla_ source frame. each chunk being an instantaneous state"
   ]
  },
  {
   "cell_type": "code",
   "execution_count": 3,
   "metadata": {},
   "outputs": [],
   "source": [
    "#####  INDIVIDUAL TRACKS ##############\n",
    "# build a 't_id' indivitual track \n",
    "def trackf(t_id, tabla, dropit):\n",
    "    t1 = tabla.loc[tabla.track == t_id].reset_index(drop=dropit)\n",
    "    return t1\n",
    "\n",
    "# build individual tracks from all kept tracks\n",
    "# OUTPUT\n",
    "# tr_lengths[i]: length of track no.  'i'. The total no. of tracks is stored in 'Ntracks'\n",
    "def all_tracks(tabla,dropit):\n",
    "    # length of track\n",
    "    global tr_lengths\n",
    "    tr_lengths = np.empty(Ntracks,dtype=int)\n",
    "    tracks = [[] for i in range(Ntracks)]\n",
    "    for i in range(Ntracks):\n",
    "        tracks[i] = trackf(i,tabla,dropit)\n",
    "        tr_lengths[i] = int(len(tracks[i]))\n",
    "    return tracks\n",
    "\n",
    "#####  INSTANTANEOUS STATES  ##############\n",
    "# BUILD INSTANTANEOUS STATES OF THE SYSTEM\n",
    "def state(it, tabla):\n",
    "    st = tabla.loc[tabla.frame == it].reset_index(drop=True)\n",
    "    # reset row index \n",
    "    #(otherwise keeps chunked index of the original table)\n",
    "    return st\n",
    "\n",
    "# build instantaneous states over all frames\n",
    "def all_states(tabla):\n",
    "    sts = [[] for i in range(Nframes)]\n",
    "    for i in range(Nframes):\n",
    "        sts[i] = state(i,tabla)\n",
    "    return sts\n"
   ]
  },
  {
   "cell_type": "markdown",
   "metadata": {},
   "source": [
    "## _Low-Pass filters_ \n",
    "\n",
    "__butter_lowpass(step,fps, arr) :__ Applies Butterworth low-pass filter to _arr_ array, with averaging width _step_, for a movie with _fps_ frame rate; _fr_ is the fraction of the maximum frequency that is allowed to pass\n",
    "\n",
    "* Input: _fr_, _step_, _fps_, _arr_; as described above\n",
    "* Output: RETURNS an array of the same size as _arr_\n",
    "\n",
    "__cheby1_lowpass(step,fps, arr) :__ Applies Chebyshev type I low-pass filter to _arr_ array, with averaging width _step_, for a movie with _fps_ frame rate\n",
    "\n",
    "* Input: _step_, _fps_, _arr_; as described above\n",
    "* Output: RETURNS an array of the same size as _arr_\n",
    "\n"
   ]
  },
  {
   "cell_type": "code",
   "execution_count": 4,
   "metadata": {},
   "outputs": [],
   "source": [
    "def butter_lowpass(fr,step,fps, arr):\n",
    "    \n",
    "    #N, Wn = signal.buttord(1./(1.*fps/step),1./fps, 1/step, fps*0.5)\n",
    "    N, Wn = signal.buttord(fr/step, fr, 1/step, fps*0.5 ,0.5/fps)\n",
    "    b, a = signal.butter(N, Wn,'low')\n",
    "    yy = signal.filtfilt(b, a, np.squeeze(arr), padtype=None)\n",
    "    return yy\n",
    "\n",
    "def filter_tracks_butter(fr,step,fps,tabla):\n",
    "    tabla_unfiltered = tabla.copy()\n",
    "    for i in range(Ntracks):\n",
    "        printp('Filtering positions for track no. ' + str(i+1) + ' of ' + str(Ntracks))\n",
    "        xbb = np.array(tabla.loc[tabla['track']==i,'x'])\n",
    "        xb = butter_lowpass(fr,step,info.fps[0], xbb)\n",
    "        tabla.loc[tabla['track']==i,'x'] = xb\n",
    "        ybb = tabla.loc[tabla['track']==i,'y']\n",
    "        yb = butter_lowpass(fr,step,info.fps[0], ybb)\n",
    "        tabla.loc[tabla['track']==i,'y'] = yb\n",
    "    print('\\n')\n",
    "    return tabla_unfiltered, tabla\n",
    "\n",
    "#def cheby1_lowpass(step,fps,arr):\n",
    "#    N, Wn = signal.cheb1ord(1./(1.*fps/step),1./fps, step, fps*0.5)\n",
    "#    b, a = signal.cheby1(N, 1./fps, Wn, 'low')\n",
    "#    y = signal.filtfilt(b, a, arr)\n",
    "#    return y\n"
   ]
  },
  {
   "cell_type": "markdown",
   "metadata": {},
   "source": [
    "## Bring data to physical units\n",
    "\n",
    "We take as coordinate origin the mid-point of the max and min X and Y positions ever tracked within the region of interest (ROI) during the experiment.\n",
    "\n",
    "We have 2 options for lengh unit: \n",
    "* milimeters \n",
    "* Ball diameter\n",
    "\n",
    "The time scale unit is seconds.\n",
    "\n",
    "Only after this step position differences in the original data table are re-scaled as real velocities"
   ]
  },
  {
   "cell_type": "code",
   "execution_count": 5,
   "metadata": {},
   "outputs": [],
   "source": [
    "# PHYSICAL SCALES AND ORIGIN\n",
    "# Usage: re_pos_scale(0) for 1 mm as length unit; re_pos_scale(1) for ball diameter (sigma) \n",
    "# length unit\n",
    "\n",
    "def set_origin(shiftx, shifty, tabla):\n",
    "    global ishifted\n",
    "    if ishifted == 0:\n",
    "        tabla_not_shifted = tabla.copy()\n",
    "        tabla['x'] -= shiftx\n",
    "        tabla['y'] -= shifty\n",
    "        shifted = 1\n",
    "    return tabla_not_shifted, tabla\n",
    "\n",
    "\n",
    "def scale(l_factor, t_factor, tabla):\n",
    "    global iscaled\n",
    "    tabla_not_scaled = tabla.copy()\n",
    "    if iscaled == 0:\n",
    "        if np.any(tabla.columns=='vx') or np.any(tabla.columns=='vy'):\n",
    "            tabla[['x','y']] *= l_factor\n",
    "            tabla[['vx', 'vy']] *= (l_factor / t_factor)\n",
    "            if np.any(tabla.columns=='ax') or np.any(tabla.columns=='ay'):\n",
    "                tabla[['ax', 'ay']] *=  (l_factor * t_factor**2)\n",
    "        else:\n",
    "            tabla[['x','y']] *= l_factor\n",
    "        iscaled = 1\n",
    "    else:\n",
    "        tabla[['x','y']] *= 1\n",
    "        iscaled = 1\n",
    "    return tabla_not_scaled, tabla\n"
   ]
  },
  {
   "cell_type": "markdown",
   "metadata": {},
   "source": [
    "## Processing of blades angles\n",
    "\n",
    "The process has the following steps:\n",
    " \n",
    "* Eliminating blades with angles: $\\theta_i >2 \\pi$\n",
    "* Storing angle list length\n",
    "* Interpolating missing angles for those lists with angles length < no. of blades"
   ]
  },
  {
   "cell_type": "code",
   "execution_count": 6,
   "metadata": {},
   "outputs": [],
   "source": [
    "# save max and/or min angles and re-scale angle unit\n",
    "circ_unit = 14 # NUMBER OF BLADES IN PARTICLES\n",
    "\n",
    "# SCALE ANGLES TO blades\n",
    "def save_rescale_angle(imin, tabla):\n",
    "    ln = len(tabla)\n",
    "    maxs = np.array([tabla.extremos[i][0] for i in range(ln)]) # keeps angle maxima\n",
    "    maxs = circ_unit*(maxs/360)\n",
    "    datos['maxt'] = maxs # transforms angle into blade units\n",
    "    if imin != 0:\n",
    "        mins = np.array([datos.extremos[i][1] for i in range(ln)])   \n",
    "        mins = circ_unit*(mins/360)\n",
    "        datos['mint'] = mins\n",
    "\n",
    "\n",
    "# deletes blades beyond the forteenth blade (the last one in this case) + 1/2 blade\n",
    "def filter_spurious_angles(imin,tabla):\n",
    "    for i in range(len(tabla)):\n",
    "        tabla.at[i,'maxt'] = np.array(list(filter(lambda x: x<(circ_unit+0.5), tabla.maxt[i])))\n",
    "    if imin != 0:\n",
    "        for i in range(len(tabla)):\n",
    "            tabla.at[i,'mint'] = np.array(list(filter(lambda x: x<(circ_unit+0.5), tabla.mint[i])))\n",
    "            \n",
    "\n",
    "def filter_outside_blades(tabla):\n",
    "    for i in range(len(tabla)):       \n",
    "        try:\n",
    "            #np.where(tabla.maxt[i]>14)[0][0]\n",
    "            lista =  np.where(tabla.maxt[i]>14)[0]\n",
    "            if len(tabla.maxt[i]) > 15:\n",
    "                print(\"DANGER! DANGER! DANGER!\\n\")\n",
    "            if len(tabla.maxt[i]) > 14: \n",
    "                for k in lista:\n",
    "                    tabla.at[i,'maxt'] = np.delete(tabla.at[i,'maxt'],k) \n",
    "                    # deletes outside blades (+1/2) if list length > 14\n",
    "            else:\n",
    "                for k in lista:\n",
    "                    tabla.at[i,'maxt'][k] = tabla.at[i,'maxt'][k] - 14\n",
    "                    a = tabla.maxt[i][k]\n",
    "                    tabla.at[i,'maxt'] = np.delete(tabla.maxt[i], k) \n",
    "                    # substract nblades to outside blades if list length < 14\n",
    "                    tabla.at[i,'maxt'] = np.insert(tabla.maxt[i], 0, a)\n",
    "                    # place it at the beginning of the list\n",
    "        except:\n",
    "            pass\n",
    "\n",
    "\n",
    "# Deletes one excess element in maxima arrays\n",
    "# based on  closest to 1 difference (between first and last pair)\n",
    "def last_del15(tabla,larr):\n",
    "    if len(np.where(larr==15)[0])>0:\n",
    "        for i in np.where(larr==15)[0]:\n",
    "            arr = tabla.maxt[i]\n",
    "            if (np.abs(arr[1]-arr[0]-1) < np.abs(arr[14]-arr[13] -1)):\n",
    "                tabla.at[i,'maxt'] = np.delete(arr,-1)\n",
    "            else:\n",
    "                tabla.at[i,'maxt'] = np.delete(arr,0)\n",
    "\n",
    "\n",
    "# Stores in a list the angles lists lengths; of either maxt or mint (not simultaneously)\n",
    "def angles_list_lengths(arr):\n",
    "    la = []\n",
    "    for i in arr:\n",
    "        la.append(len(i))\n",
    "    la = np.array(la).astype(int)\n",
    "    return la\n",
    "\n",
    "\n",
    "# insert_missing: \n",
    "# detects missing blades, linearly interpolates them\n",
    "def insert_missing(tabla, larr):\n",
    "# PROCEDIMIENTO PARA INTERPOLAR listas de maximos con menos de 14 maximos\n",
    "    while len(np.where(larr==13)[0]) > 0:\n",
    "        interpolated_indexes = np.zeros(len(np.where(larr==13)[0]))\n",
    "        for i in np.where(larr < 14)[0]:\n",
    "            diff_arr = tabla.maxt[i][1:] - tabla.maxt[i][:-1]\n",
    "            imax = np.where(diff_arr == np.max(diff_arr))[0][0] # maximum index\n",
    "            interpolated_indexes = np.append(interpolated_indexes, imax)\n",
    "            tabla.at[i,'maxt'] = np.insert(tabla.maxt[i], imax+1, 0.5 * (tabla.maxt[i][imax] + tabla.maxt[i][imax+1]))\n",
    "        larr = angles_list_lengths(datos.maxt)\n",
    "    print('done\\n')\n",
    "\n"
   ]
  },
  {
   "cell_type": "markdown",
   "metadata": {},
   "source": [
    "## return_next: \n",
    "### finds angle location of a reference blade (j0) in next frame jt+1, within track no. itr\n",
    "__input__ : _itr_ (track no.), _jt_ (reference frame no.), _j0_ (reference blade)"
   ]
  },
  {
   "cell_type": "code",
   "execution_count": 7,
   "metadata": {},
   "outputs": [],
   "source": [
    "nblades = circ_unit\n",
    "\n",
    "def return_next(itr,jt,j0):\n",
    "    \n",
    "    list_its = [j0, j0-1, j0+1]\n",
    "    \n",
    "    theta0 = tracks[itr].maxt[jt][j0]\n",
    "    # by default, angle difference is with itself in the next frame\n",
    "    diff0 = tracks[itr].maxt[jt+1][j0] - theta0 # ldiff0, rdiff0\n",
    "    \n",
    "    if (j0==0):\n",
    "        ldiff = tracks[itr].maxt[jt+1][nblades-1] - theta0 - circ_unit \n",
    "        list_its[1] = nblades-1\n",
    "    else:\n",
    "        ldiff = tracks[itr].maxt[jt+1][j0-1] - theta0 \n",
    "        \n",
    "    if (j0==nblades-1):\n",
    "        rdiff = tracks[itr].maxt[jt+1][0] - theta0 + circ_unit\n",
    "        list_its[2] = 0\n",
    "    else:\n",
    "        rdiff = tracks[itr].maxt[jt+1][j0+1] - theta0\n",
    "    \n",
    "    list_diffs = [diff0, ldiff, rdiff]\n",
    "\n",
    "    inm = np.where(np.abs(list_diffs) == np.min(np.abs(list_diffs)))[0][0] \n",
    "    \n",
    "    in0 = list_its[inm]\n",
    "    diffnext0 = list_diffs[inm]\n",
    "\n",
    "    return in0, diffnext0\n",
    "\n",
    "\n",
    "def shift_back(itr,jt,n0):\n",
    "    arr_copy = np.zeros(nblades)\n",
    "    for i in range(n0,nblades):\n",
    "        arr_copy[i-n0] = tracks[itr].maxt[jt][i]\n",
    "    for i in range(0,n0):\n",
    "        arr_copy[(nblades-1)-(n0-1)+i] = tracks[itr].maxt[jt][i]\n",
    "    return arr_copy\n"
   ]
  },
  {
   "cell_type": "markdown",
   "metadata": {},
   "source": [
    "## <font color='RED'>RUN CELL 0</font>\n",
    "### - Import pkl.xz tracks table\n",
    "### - create all individual tracks arrays\n",
    "### - analyze track length histogram, decide minimum track length"
   ]
  },
  {
   "cell_type": "code",
   "execution_count": 11,
   "metadata": {},
   "outputs": [
    {
     "name": "stdout",
     "output_type": "stream",
     "text": [
      "data reading and basic processing\n",
      "\n"
     ]
    },
    {
     "data": {
      "text/html": [
       "<table border=\"1\" class=\"dataframe\">\n",
       "  <thead>\n",
       "    <tr style=\"text-align: right;\">\n",
       "      <th></th>\n",
       "      <th>0</th>\n",
       "    </tr>\n",
       "  </thead>\n",
       "  <tbody>\n",
       "    <tr>\n",
       "      <th>experiment_id</th>\n",
       "      <td>0691e6ed38545dd692a192aef1a2bfbd</td>\n",
       "    </tr>\n",
       "    <tr>\n",
       "      <th>original_file</th>\n",
       "      <td>/mnt/beegfs/malopez/serieAspas/serieAspas_N10_p25_fps900_1.cine</td>\n",
       "    </tr>\n",
       "    <tr>\n",
       "      <th>date</th>\n",
       "      <td>2038-01-19 05:19:59</td>\n",
       "    </tr>\n",
       "    <tr>\n",
       "      <th>shape</th>\n",
       "      <td>[1280, 800]</td>\n",
       "    </tr>\n",
       "    <tr>\n",
       "      <th>fps</th>\n",
       "      <td>900</td>\n",
       "    </tr>\n",
       "    <tr>\n",
       "      <th>exposure</th>\n",
       "      <td>1109</td>\n",
       "    </tr>\n",
       "    <tr>\n",
       "      <th>n_frames</th>\n",
       "      <td>24981</td>\n",
       "    </tr>\n",
       "    <tr>\n",
       "      <th>recording_time</th>\n",
       "      <td>27.7567</td>\n",
       "    </tr>\n",
       "    <tr>\n",
       "      <th>camera_distance</th>\n",
       "      <td>0.95</td>\n",
       "    </tr>\n",
       "    <tr>\n",
       "      <th>pixel_ratio</th>\n",
       "      <td>1089</td>\n",
       "    </tr>\n",
       "    <tr>\n",
       "      <th>particle_diameter_px</th>\n",
       "      <td>79</td>\n",
       "    </tr>\n",
       "    <tr>\n",
       "      <th>N</th>\n",
       "      <td>10</td>\n",
       "    </tr>\n",
       "    <tr>\n",
       "      <th>particle_shape</th>\n",
       "      <td>rotating disk</td>\n",
       "    </tr>\n",
       "    <tr>\n",
       "      <th>particle_diameter_m</th>\n",
       "      <td>0.0725</td>\n",
       "    </tr>\n",
       "    <tr>\n",
       "      <th>system_diameter</th>\n",
       "      <td>0.725</td>\n",
       "    </tr>\n",
       "    <tr>\n",
       "      <th>packing_fraction</th>\n",
       "      <td>0.1</td>\n",
       "    </tr>\n",
       "    <tr>\n",
       "      <th>lights</th>\n",
       "      <td>luzLejana</td>\n",
       "    </tr>\n",
       "    <tr>\n",
       "      <th>power</th>\n",
       "      <td>25</td>\n",
       "    </tr>\n",
       "    <tr>\n",
       "      <th>associated_code</th>\n",
       "      <td>/mnt/beegfs/malopez/serieAspas/0691e6ed38545dd692a192aef1a2bfbd_code.zip</td>\n",
       "    </tr>\n",
       "    <tr>\n",
       "      <th>ROI_center</th>\n",
       "      <td>[656, 395]</td>\n",
       "    </tr>\n",
       "    <tr>\n",
       "      <th>ROI_radius</th>\n",
       "      <td>408</td>\n",
       "    </tr>\n",
       "  </tbody>\n",
       "</table>"
      ],
      "text/plain": [
       "<IPython.core.display.HTML object>"
      ]
     },
     "metadata": {},
     "output_type": "display_data"
    },
    {
     "name": "stdout",
     "output_type": "stream",
     "text": [
      "nothing to fix\n",
      "\n"
     ]
    },
    {
     "data": {
      "text/html": [
       "<table border=\"1\" class=\"dataframe\">\n",
       "  <thead>\n",
       "    <tr style=\"text-align: right;\">\n",
       "      <th></th>\n",
       "      <th>frame</th>\n",
       "      <th>track</th>\n",
       "      <th>x</th>\n",
       "      <th>y</th>\n",
       "      <th>maxt</th>\n",
       "    </tr>\n",
       "  </thead>\n",
       "  <tbody>\n",
       "    <tr>\n",
       "      <th>0</th>\n",
       "      <td>1</td>\n",
       "      <td>0</td>\n",
       "      <td>769.669818</td>\n",
       "      <td>659.014456</td>\n",
       "      <td>[0.8815996440375402, 1.9828607944702303, 2.910575931067337, 3.8283570638328017, 4.668662877924405, 5.625487983458697, 6.627044492159559, 7.595176328527543, 8.58023242176783, 9.620679096743107, 10.68465084370858, 11.842778271769868, 12.81558499919656, 13.869718459386052, 14.881599644037541, 15.982860794470229]</td>\n",
       "    </tr>\n",
       "    <tr>\n",
       "      <th>1</th>\n",
       "      <td>1</td>\n",
       "      <td>1</td>\n",
       "      <td>803.690688</td>\n",
       "      <td>588.139970</td>\n",
       "      <td>[0.5178266500346334, 1.6218407289854686, 2.634446401772532, 3.581563079043953, 4.502093464212937, 5.486658405016238, 6.427482003089823, 7.440080948207792, 8.4204320770867, 9.452748855662946, 10.415202370383867, 11.435146427320873, 12.46464823422659, 13.4460986626254, 14.517826650034634, 15.621840728985466]</td>\n",
       "    </tr>\n",
       "    <tr>\n",
       "      <th>2</th>\n",
       "      <td>1</td>\n",
       "      <td>2</td>\n",
       "      <td>803.333449</td>\n",
       "      <td>498.810336</td>\n",
       "      <td>[0.7923265552021249, 1.8863648738379055, 2.874696341447569, 3.6951031711688493, 4.765796339078351, 5.757185623576823, 6.735132220359458, 7.720674837274837, 8.705422362277636, 9.729813609342443, 10.734004931159618, 11.759847671309068, 12.724116817023395, 13.784579454973919, 14.792326555202125, 15.886364873837906]</td>\n",
       "    </tr>\n",
       "    <tr>\n",
       "      <th>3</th>\n",
       "      <td>1</td>\n",
       "      <td>3</td>\n",
       "      <td>821.828039</td>\n",
       "      <td>390.616819</td>\n",
       "      <td>[0.6768810129389515, 1.7691659076709718, 2.7773239579648834, 3.619821287007245, 4.610558611817263, 5.610777483120726, 6.644922520342955, 7.632381259214905, 8.62987506466241, 9.568300589960714, 10.5230576141456, 11.574194278311928, 12.594823928939975, 13.64255339693466, 14.676881012938951, 15.76916590767097]</td>\n",
       "    </tr>\n",
       "    <tr>\n",
       "      <th>4</th>\n",
       "      <td>1</td>\n",
       "      <td>4</td>\n",
       "      <td>589.792205</td>\n",
       "      <td>375.357394</td>\n",
       "      <td>[0.0882960828021937, 1.1514850212554992, 2.293186042945779, 3.2226090067671436, 4.204749967582886, 5.165580769008479, 6.095994970048323, 7.05041721142306, 8.084542841452874, 9.006904201416937, 9.992401128924042, 11.029931609055179, 12.070093187564492, 13.099733988343646, 14.088296082802193, 15.1514850212555, 16.293186042945777]</td>\n",
       "    </tr>\n",
       "  </tbody>\n",
       "</table>"
      ],
      "text/plain": [
       "<IPython.core.display.HTML object>"
      ]
     },
     "metadata": {},
     "output_type": "display_data"
    },
    {
     "name": "stdout",
     "output_type": "stream",
     "text": [
      "\n",
      " min for positions:\n",
      " x    327.635157\n",
      "y     86.335105\n",
      "dtype: float64 \n",
      "\n",
      "max. for positions:\n",
      " x    966.660598\n",
      "y    745.497433\n",
      "dtype: float64 \n",
      "\n",
      "filtering spurious angles \n",
      "\n",
      "filtering close outside blades\n",
      "\n",
      "delete last arrays with one excess blades (last one is < (nblades+1/2 blade) )\n",
      "\n",
      "interpolating missing maxima\n",
      "\n",
      "done\n",
      "\n",
      "storing all tracks (maxima arrays corrected)\n",
      "(array([], dtype=int64),)\n",
      "14-blades max angle lists ready\n",
      "track no. 10 of 10, frame 24500 of 24977"
     ]
    },
    {
     "data": {
      "text/html": [
       "<div>\n",
       "<style scoped>\n",
       "    .dataframe tbody tr th:only-of-type {\n",
       "        vertical-align: middle;\n",
       "    }\n",
       "\n",
       "    .dataframe tbody tr th {\n",
       "        vertical-align: top;\n",
       "    }\n",
       "\n",
       "    .dataframe thead th {\n",
       "        text-align: right;\n",
       "    }\n",
       "</style>\n",
       "<table border=\"1\" class=\"dataframe\">\n",
       "  <thead>\n",
       "    <tr style=\"text-align: right;\">\n",
       "      <th></th>\n",
       "      <th>frame</th>\n",
       "      <th>track</th>\n",
       "      <th>x</th>\n",
       "      <th>y</th>\n",
       "      <th>vx</th>\n",
       "      <th>vy</th>\n",
       "      <th>ax</th>\n",
       "      <th>ay</th>\n",
       "      <th>theta</th>\n",
       "      <th>w</th>\n",
       "    </tr>\n",
       "  </thead>\n",
       "  <tbody>\n",
       "    <tr>\n",
       "      <th>0</th>\n",
       "      <td>1</td>\n",
       "      <td>0</td>\n",
       "      <td>4.865323</td>\n",
       "      <td>-24.113321</td>\n",
       "      <td>13.897858</td>\n",
       "      <td>13.175762</td>\n",
       "      <td>-4.484604e-09</td>\n",
       "      <td>1.697789e-08</td>\n",
       "      <td>0.337670</td>\n",
       "      <td>0.158493</td>\n",
       "    </tr>\n",
       "    <tr>\n",
       "      <th>1</th>\n",
       "      <td>2</td>\n",
       "      <td>0</td>\n",
       "      <td>4.880765</td>\n",
       "      <td>-24.098681</td>\n",
       "      <td>10.628581</td>\n",
       "      <td>0.798879</td>\n",
       "      <td>2.561406e-09</td>\n",
       "      <td>-8.421823e-09</td>\n",
       "      <td>0.466917</td>\n",
       "      <td>0.125763</td>\n",
       "    </tr>\n",
       "    <tr>\n",
       "      <th>2</th>\n",
       "      <td>3</td>\n",
       "      <td>0</td>\n",
       "      <td>4.892574</td>\n",
       "      <td>-24.097793</td>\n",
       "      <td>12.495846</td>\n",
       "      <td>6.938388</td>\n",
       "      <td>8.502845e-10</td>\n",
       "      <td>6.054498e-09</td>\n",
       "      <td>0.616064</td>\n",
       "      <td>0.159440</td>\n",
       "    </tr>\n",
       "    <tr>\n",
       "      <th>3</th>\n",
       "      <td>4</td>\n",
       "      <td>0</td>\n",
       "      <td>4.906459</td>\n",
       "      <td>-24.090084</td>\n",
       "      <td>13.115703</td>\n",
       "      <td>2.524658</td>\n",
       "      <td>-4.206077e-09</td>\n",
       "      <td>4.595833e-09</td>\n",
       "      <td>0.749307</td>\n",
       "      <td>0.164416</td>\n",
       "    </tr>\n",
       "    <tr>\n",
       "      <th>4</th>\n",
       "      <td>5</td>\n",
       "      <td>0</td>\n",
       "      <td>4.921032</td>\n",
       "      <td>-24.087279</td>\n",
       "      <td>10.049473</td>\n",
       "      <td>-0.825704</td>\n",
       "      <td>7.094998e-09</td>\n",
       "      <td>2.562228e-09</td>\n",
       "      <td>0.885555</td>\n",
       "      <td>0.059351</td>\n",
       "    </tr>\n",
       "  </tbody>\n",
       "</table>\n",
       "</div>"
      ],
      "text/plain": [
       "   frame  track         x          y         vx         vy            ax  \\\n",
       "0      1      0  4.865323 -24.113321  13.897858  13.175762 -4.484604e-09   \n",
       "1      2      0  4.880765 -24.098681  10.628581   0.798879  2.561406e-09   \n",
       "2      3      0  4.892574 -24.097793  12.495846   6.938388  8.502845e-10   \n",
       "3      4      0  4.906459 -24.090084  13.115703   2.524658 -4.206077e-09   \n",
       "4      5      0  4.921032 -24.087279  10.049473  -0.825704  7.094998e-09   \n",
       "\n",
       "             ay     theta         w  \n",
       "0  1.697789e-08  0.337670  0.158493  \n",
       "1 -8.421823e-09  0.466917  0.125763  \n",
       "2  6.054498e-09  0.616064  0.159440  \n",
       "3  4.595833e-09  0.749307  0.164416  \n",
       "4  2.562228e-09  0.885555  0.059351  "
      ]
     },
     "execution_count": 11,
     "metadata": {},
     "output_type": "execute_result"
    },
    {
     "data": {
      "image/png": "[encoded data removed]",
      "text/plain": [
       "<Figure size 576x355.988 with 1 Axes>"
      ]
     },
     "metadata": {
      "needs_background": "light"
     },
     "output_type": "display_data"
    },
    {
     "data": {
      "image/png": "[encoded data removed]",
      "text/plain": [
       "<Figure size 576x355.988 with 1 Axes>"
      ]
     },
     "metadata": {
      "needs_background": "light"
     },
     "output_type": "display_data"
    },
    {
     "data": {
      "image/png": "[encoded data removed]",
      "text/plain": [
       "<Figure size 576x355.988 with 1 Axes>"
      ]
     },
     "metadata": {
      "needs_background": "light"
     },
     "output_type": "display_data"
    },
    {
     "data": {
      "image/png": "[encoded data removed]",
      "text/plain": [
       "<Figure size 432x288 with 1 Axes>"
      ]
     },
     "metadata": {
      "needs_background": "light"
     },
     "output_type": "display_data"
    }
   ],
   "source": [
    "# COMPLETE SET OF READING INSTRUCTIONS\n",
    "\n",
    "series_directory = 'rho_0_025'\n",
    "hash_prefix = '0691e6ed38545dd692a192aef1a2bfbd'\n",
    "\n",
    "print('data reading and basic processing\\n')\n",
    "\n",
    "info = get_info(series_directory, hash_prefix)\n",
    "\n",
    "datos = simple_pickle_read(series_directory, hash_prefix)\n",
    "datos_orig, datos = reset_track_indexes(datos)\n",
    "\n",
    "datos = datos[['frame','track','x','y','extremos']]\n",
    "\n",
    "save_rescale_angle(0, datos)\n",
    "\n",
    "del datos['extremos'] # remove original clumpsy angles list structure\n",
    "#datos.columns = ['frame','track','x','y','maxs','mins'];\n",
    "\n",
    "\n",
    "# imprime (formateada) cabecera de tabla de datos\n",
    "pdisplay(datos.head())\n",
    "\n",
    "\n",
    "print('\\n min for positions:\\n', np.min(datos[['x','y']]), '\\n')\n",
    "print('max. for positions:\\n', np.max(datos[['x','y']]), '\\n')\n",
    "\n",
    "\n",
    "print('filtering spurious angles \\n')\n",
    "filter_spurious_angles(0,datos)\n",
    "\n",
    "la = angles_list_lengths(datos.maxt)\n",
    "\n",
    "#plt.figure(figsize=(8,8/ct.golden))\n",
    "#plt.hist(la,rwidth=0.96, bins=[11,12,13,14,15,16,17],color='r',density=True,align='left')\n",
    "\n",
    "\n",
    "print('filtering close outside blades\\n')\n",
    "filter_outside_blades(datos)\n",
    "\n",
    "la = angles_list_lengths(datos.maxt)\n",
    "\n",
    "plt.figure(figsize=(8,8/ct.golden))\n",
    "plt.hist(la,rwidth=0.96, bins=[5,6,7,8,9,10,11,12,13,14,15,16,17],color='r',density=True,align='left');\n",
    "\n",
    "\n",
    "print('delete last arrays with one excess blades (last one is < (nblades+1/2 blade) )\\n')\n",
    "last_del15(datos,la)\n",
    "\n",
    "la = angles_list_lengths(datos.maxt)\n",
    "\n",
    "plt.figure(figsize=(8,8/ct.golden))\n",
    "plt.hist(la,rwidth=0.96, bins=[5,6,7,8,9,10,11,12,13,14,15,16,17],color='r',density=True,align='left');\n",
    "\n",
    "print('interpolating missing maxima\\n')\n",
    "insert_missing(datos, la)\n",
    "\n",
    "la = angles_list_lengths(datos.maxt)\n",
    "\n",
    "plt.figure(figsize=(8,8/ct.golden))\n",
    "plt.hist(la,rwidth=0.96, bins=[5,6,7,8,9,10,11,12,13,14,15,16,17],color='r',density=True,align='left');\n",
    "\n",
    "\n",
    "print('storing all tracks (maxima arrays corrected)')\n",
    "# store tracks individually\n",
    "tracks = all_tracks(datos, True)\n",
    "\n",
    "print(np.where(la!=14))\n",
    "print('14-blades max angle lists ready')\n",
    "\n",
    "\n",
    "Ntracks = 10\n",
    "\n",
    "# reposition angles so that each position in the angle array is each moving blade\n",
    "# obtain spins (omega) from there\n",
    "theta = np.zeros((Ntracks,Nframes), dtype=float)\n",
    "omega = np.zeros((Ntracks,Nframes), dtype=float)\n",
    "\n",
    "\n",
    "for j in range(Ntracks):\n",
    "    ln = len(tracks[j])\n",
    "    theta[j][0] = np.mean(tracks[j].maxt[0]- np.arange(circ_unit))\n",
    "    ianext, omega[j][0] = return_next(j, 0, 0)\n",
    "    for i in range(1,ln-1):\n",
    "        if (i%500)==0:  printp('track no. ' + str(j+1)+ ' of ' + str (Ntracks) + ', frame ' + str(i)+ ' of ' + str(Nframes-2))\n",
    "        theta[j][i] = np.mean(tracks[j].maxt[i]- np.arange(-ianext ,circ_unit -ianext))\n",
    "        ianext, omega[j][i] = return_next(j, i , ianext)\n",
    "    theta[j][ln-1] = np.mean(tracks[j].maxt[ln-1]- np.arange(-ianext ,circ_unit -ianext))   \n",
    "    \n",
    "plt.figure()\n",
    "plt.hist(omega[0],bins=200);\n",
    "\n",
    "\n",
    "for i in range(Ntracks):\n",
    "\n",
    "    # store angular part in tracks\n",
    "    tracks[i]['theta'] = theta[i][:len(tracks[i])]\n",
    "    tracks[i]['w'] = omega[i][:len(tracks[i])]\n",
    "    tracks[i] = tracks[i].drop('maxt', axis=1)\n",
    "\n",
    "    # velocities\n",
    "    diffsx = tracks[i].x[1:].values - tracks[i].x[:-1].values\n",
    "    diffsy = tracks[i].y[1:].values - tracks[i].y[:-1].values\n",
    "    tracks[i] = tracks[i].drop(len(tracks[i])-1)\n",
    "    tracks[i]['vx'] = diffsx\n",
    "    tracks[i]['vy'] = diffsy\n",
    "    \n",
    "    # accelerations\n",
    "    adx = tracks[i].vx[1:].values - tracks[i].vx[:-1].values\n",
    "    ady = tracks[i].vy[1:].values - tracks[i].vy[:-1].values\n",
    "    tracks[i] = tracks[i].drop(len(tracks[i])-1)\n",
    "    tracks[i]['ax'] = adx\n",
    "    tracks[i]['ay'] = ady\n",
    "    \n",
    "    tracks[i] = tracks[i][['frame', 'track', 'x', 'y', 'vx', 'vy', 'ax', 'ay', 'theta','w']]\n",
    "\n",
    "datos = tracks[0]\n",
    "\n",
    "for i in range(1,Ntracks):\n",
    "    datos = datos.append(tracks[i])\n",
    "\n",
    "# image_flip_y\n",
    "datos.y = info['shape'].values[0][1] - datos.y\n",
    "# image_flip_vy\n",
    "datos.vy = -datos.vy\n",
    "# redefine angle after flip to rad\n",
    "#datos.theta = np.pi - datos.theta\n",
    "\n",
    "# set coordinates origin\n",
    "ishifted = 0\n",
    "datos_orig, datos = set_origin(np.mean(datos.x), np.mean(datos.y), datos)\n",
    "iscaled = 0\n",
    "datos_orig, datos = scale(100*info.particle_diameter_m[0]/info.particle_diameter_px[0], 1/info.fps[0], datos)\n",
    "datos.theta = (2 * np.pi) * datos.theta / circ_unit\n",
    "datos.w = (2* np.pi) * datos.w /circ_unit\n",
    "\n",
    "datos.head()\n"
   ]
  },
  {
   "cell_type": "code",
   "execution_count": 65,
   "metadata": {},
   "outputs": [
    {
     "name": "stdout",
     "output_type": "stream",
     "text": [
      "0.023849501822768595 \t -0.0172878306235344 \t 0.056885224783797775\n"
     ]
    }
   ],
   "source": [
    "ux = np.mean(datos.vx.values)\n",
    "uy = np.mean(datos.vy.values)\n",
    "wm = np.mean(datos.w.values)\n",
    "print(ux, '\\t', uy, '\\t', wm)"
   ]
  },
  {
   "cell_type": "code",
   "execution_count": 78,
   "metadata": {},
   "outputs": [
    {
     "name": "stdout",
     "output_type": "stream",
     "text": [
      "0.00850022569690806 \t 0.06743688157076051 \t 0.11620404907136958\n"
     ]
    }
   ],
   "source": [
    "ux = np.mean(datos.vx.values)\n",
    "uy = np.mean(datos.vy.values)\n",
    "wm = np.mean(datos.w.values)\n",
    "print(ux, '\\t', uy, '\\t', wm)"
   ]
  },
  {
   "cell_type": "markdown",
   "metadata": {},
   "source": [
    "### Results for N=25, p=20"
   ]
  },
  {
   "cell_type": "code",
   "execution_count": 12,
   "metadata": {},
   "outputs": [
    {
     "name": "stdout",
     "output_type": "stream",
     "text": [
      "0.023849501822768595 \t -0.0172878306235344 \t 0.056885224783797775\n"
     ]
    }
   ],
   "source": [
    "ux = np.mean(datos.vx.values)\n",
    "uy = np.mean(datos.vy.values)\n",
    "wm = np.mean(datos.w.values)\n",
    "print(ux, '\\t', uy, '\\t', wm)"
   ]
  },
  {
   "cell_type": "code",
   "execution_count": 43,
   "metadata": {},
   "outputs": [
    {
     "name": "stdout",
     "output_type": "stream",
     "text": [
      "32.35576596651159\n",
      "33.73005290344488\n",
      "0.0008486887613933535\n"
     ]
    }
   ],
   "source": [
    "V2x = np.mean((datos.vx.values-ux)**2)\n",
    "print(V2x)\n",
    "V2y = np.mean((datos.vy.values-uy)**2)\n",
    "print(V2y)\n",
    "V2 = V2x + V2y\n",
    "\n",
    "W2 = np.mean((datos.w-wm)**2)\n",
    "print(W2)"
   ]
  },
  {
   "cell_type": "code",
   "execution_count": 55,
   "metadata": {},
   "outputs": [
    {
     "name": "stdout",
     "output_type": "stream",
     "text": [
      "0.05820488240859471\n"
     ]
    }
   ],
   "source": [
    "V2W2 = np.mean(( (datos.vx.values-ux)**2 + (datos.vy.values -uy)**2 ) * (datos.w.values-wm)**2 )\n",
    "print(V2W2)"
   ]
  },
  {
   "cell_type": "markdown",
   "metadata": {},
   "source": [
    "### Results for N=25, p=23"
   ]
  },
  {
   "cell_type": "code",
   "execution_count": 57,
   "metadata": {},
   "outputs": [
    {
     "name": "stdout",
     "output_type": "stream",
     "text": [
      "0.00850022569690806 \t 0.06743688157076051 \t 0.11620404907136958\n"
     ]
    }
   ],
   "source": [
    "ux = np.mean(datos.vx.values)\n",
    "uy = np.mean(datos.vy.values)\n",
    "wm = np.mean(datos.w.values)\n",
    "print(ux, '\\t', uy, '\\t', wm)"
   ]
  },
  {
   "cell_type": "code",
   "execution_count": 58,
   "metadata": {},
   "outputs": [
    {
     "name": "stdout",
     "output_type": "stream",
     "text": [
      "66.68274202904526\n",
      "67.55854122556701\n",
      "0.0005008372090996658\n"
     ]
    }
   ],
   "source": [
    "V2x = np.mean((datos.vx.values-ux)**2)\n",
    "print(V2x)\n",
    "V2y = np.mean((datos.vy.values-uy)**2)\n",
    "print(V2y)\n",
    "V2 = V2x + V2y\n",
    "\n",
    "W2 = np.mean((datos.w-wm)**2)\n",
    "print(W2)"
   ]
  },
  {
   "cell_type": "code",
   "execution_count": 59,
   "metadata": {},
   "outputs": [
    {
     "name": "stdout",
     "output_type": "stream",
     "text": [
      "0.07107157593920019\n"
     ]
    }
   ],
   "source": [
    "V2W2 = np.mean(( (datos.vx.values-ux)**2 + (datos.vy.values -uy)**2 ) * (datos.w.values-wm)**2 )\n",
    "print(V2W2)"
   ]
  },
  {
   "cell_type": "markdown",
   "metadata": {},
   "source": [
    "### Results for N=25, p=25"
   ]
  },
  {
   "cell_type": "code",
   "execution_count": 61,
   "metadata": {},
   "outputs": [
    {
     "name": "stdout",
     "output_type": "stream",
     "text": [
      "0.04431854623711987 \t 0.06198057832941791 \t 0.14631597723746806\n"
     ]
    }
   ],
   "source": [
    "ux = np.mean(datos.vx.values)\n",
    "uy = np.mean(datos.vy.values)\n",
    "wm = np.mean(datos.w.values)\n",
    "print(ux, '\\t', uy, '\\t', wm)"
   ]
  },
  {
   "cell_type": "code",
   "execution_count": 62,
   "metadata": {},
   "outputs": [
    {
     "name": "stdout",
     "output_type": "stream",
     "text": [
      "109.43731755649304\n",
      "119.74282738338087\n",
      "0.0005040473913035043\n"
     ]
    }
   ],
   "source": [
    "V2x = np.mean((datos.vx.values-ux)**2)\n",
    "print(V2x)\n",
    "V2y = np.mean((datos.vy.values-uy)**2)\n",
    "print(V2y)\n",
    "V2 = V2x + V2y\n",
    "\n",
    "W2 = np.mean((datos.w-wm)**2)\n",
    "print(W2)"
   ]
  },
  {
   "cell_type": "code",
   "execution_count": 63,
   "metadata": {},
   "outputs": [
    {
     "name": "stdout",
     "output_type": "stream",
     "text": [
      "0.20407641156995654\n"
     ]
    }
   ],
   "source": [
    "V2W2 = np.mean(( (datos.vx.values-ux)**2 + (datos.vy.values -uy)**2 ) * (datos.w.values-wm)**2 )\n",
    "print(V2W2)"
   ]
  },
  {
   "cell_type": "markdown",
   "metadata": {},
   "source": [
    "### Results for N=25, p=26"
   ]
  },
  {
   "cell_type": "code",
   "execution_count": 65,
   "metadata": {},
   "outputs": [
    {
     "name": "stdout",
     "output_type": "stream",
     "text": [
      "0.17619735928483632 \t 0.40460723257092335 \t 0.15724185460623522\n"
     ]
    }
   ],
   "source": [
    "ux = np.mean(datos.vx.values)\n",
    "uy = np.mean(datos.vy.values)\n",
    "wm = np.mean(datos.w.values)\n",
    "print(ux, '\\t', uy, '\\t', wm)"
   ]
  },
  {
   "cell_type": "code",
   "execution_count": 66,
   "metadata": {},
   "outputs": [
    {
     "name": "stdout",
     "output_type": "stream",
     "text": [
      "135.58670496075624\n",
      "144.18209987264743\n",
      "0.0005835454833553402\n"
     ]
    }
   ],
   "source": [
    "V2x = np.mean((datos.vx.values-ux)**2)\n",
    "print(V2x)\n",
    "V2y = np.mean((datos.vy.values-uy)**2)\n",
    "print(V2y)\n",
    "V2 = V2x + V2y\n",
    "\n",
    "W2 = np.mean((datos.w-wm)**2)\n",
    "print(W2)"
   ]
  },
  {
   "cell_type": "code",
   "execution_count": 67,
   "metadata": {},
   "outputs": [
    {
     "name": "stdout",
     "output_type": "stream",
     "text": [
      "0.22345267478402303\n"
     ]
    }
   ],
   "source": [
    "V2W2 = np.mean(( (datos.vx.values-ux)**2 + (datos.vy.values -uy)**2 ) * (datos.w.values-wm)**2 )\n",
    "print(V2W2)"
   ]
  },
  {
   "cell_type": "markdown",
   "metadata": {},
   "source": [
    "### Results for N=10, p=20"
   ]
  },
  {
   "cell_type": "code",
   "execution_count": 69,
   "metadata": {},
   "outputs": [
    {
     "name": "stdout",
     "output_type": "stream",
     "text": [
      "-0.008189478003026584 \t 0.35990751743410854 \t 0.06041712659010623\n"
     ]
    }
   ],
   "source": [
    "ux = np.mean(datos.vx.values)\n",
    "uy = np.mean(datos.vy.values)\n",
    "wm = np.mean(datos.w.values)\n",
    "print(ux, '\\t', uy, '\\t', wm)"
   ]
  },
  {
   "cell_type": "code",
   "execution_count": 70,
   "metadata": {},
   "outputs": [
    {
     "name": "stdout",
     "output_type": "stream",
     "text": [
      "99.53930555699152\n",
      "108.13722818106504\n",
      "0.00044250702148390127\n"
     ]
    }
   ],
   "source": [
    "V2x = np.mean((datos.vx.values-ux)**2)\n",
    "print(V2x)\n",
    "V2y = np.mean((datos.vy.values-uy)**2)\n",
    "print(V2y)\n",
    "V2 = V2x + V2y\n",
    "\n",
    "W2 = np.mean((datos.w-wm)**2)\n",
    "print(W2)"
   ]
  },
  {
   "cell_type": "code",
   "execution_count": 71,
   "metadata": {},
   "outputs": [
    {
     "name": "stdout",
     "output_type": "stream",
     "text": [
      "0.11079366031613287\n"
     ]
    }
   ],
   "source": [
    "V2W2 = np.mean(( (datos.vx.values-ux)**2 + (datos.vy.values -uy)**2 ) * (datos.w.values-wm)**2 )\n",
    "print(V2W2)"
   ]
  },
  {
   "cell_type": "markdown",
   "metadata": {},
   "source": [
    "### Results for N=10, p=23"
   ]
  },
  {
   "cell_type": "code",
   "execution_count": 75,
   "metadata": {},
   "outputs": [
    {
     "name": "stdout",
     "output_type": "stream",
     "text": [
      "-0.01893815141795401 \t 0.016304665478015394 \t 0.11240117612756201\n"
     ]
    }
   ],
   "source": [
    "ux = np.mean(datos.vx.values)\n",
    "uy = np.mean(datos.vy.values)\n",
    "wm = np.mean(datos.w.values)\n",
    "print(ux, '\\t', uy, '\\t', wm)"
   ]
  },
  {
   "cell_type": "code",
   "execution_count": 76,
   "metadata": {},
   "outputs": [
    {
     "name": "stdout",
     "output_type": "stream",
     "text": [
      "36.879823439382356\n",
      "39.93787591166522\n",
      "0.00042380451948953647\n"
     ]
    }
   ],
   "source": [
    "V2x = np.mean((datos.vx.values-ux)**2)\n",
    "print(V2x)\n",
    "V2y = np.mean((datos.vy.values-uy)**2)\n",
    "print(V2y)\n",
    "V2 = V2x + V2y\n",
    "\n",
    "W2 = np.mean((datos.w-wm)**2)\n",
    "print(W2)"
   ]
  },
  {
   "cell_type": "code",
   "execution_count": 77,
   "metadata": {},
   "outputs": [
    {
     "name": "stdout",
     "output_type": "stream",
     "text": [
      "0.03288948917898798\n"
     ]
    }
   ],
   "source": [
    "V2W2 = np.mean(( (datos.vx.values-ux)**2 + (datos.vy.values -uy)**2 ) * (datos.w.values-wm)**2 )\n",
    "print(V2W2)"
   ]
  },
  {
   "cell_type": "markdown",
   "metadata": {},
   "source": [
    "### Results for N=10, p=25"
   ]
  },
  {
   "cell_type": "code",
   "execution_count": 83,
   "metadata": {},
   "outputs": [
    {
     "name": "stdout",
     "output_type": "stream",
     "text": [
      "0.05506098028297651 \t -0.016674846960544366 \t 0.14203601270419675\n"
     ]
    }
   ],
   "source": [
    "ux = np.mean(datos.vx.values)\n",
    "uy = np.mean(datos.vy.values)\n",
    "wm = np.mean(datos.w.values)\n",
    "print(ux, '\\t', uy, '\\t', wm)"
   ]
  },
  {
   "cell_type": "code",
   "execution_count": 84,
   "metadata": {},
   "outputs": [
    {
     "name": "stdout",
     "output_type": "stream",
     "text": [
      "54.102779764153986\n",
      "61.272759294887415\n",
      "0.000439293519492237\n"
     ]
    }
   ],
   "source": [
    "V2x = np.mean((datos.vx.values-ux)**2)\n",
    "print(V2x)\n",
    "V2y = np.mean((datos.vy.values-uy)**2)\n",
    "print(V2y)\n",
    "V2 = V2x + V2y\n",
    "\n",
    "W2 = np.mean((datos.w-wm)**2)\n",
    "print(W2)"
   ]
  },
  {
   "cell_type": "code",
   "execution_count": 85,
   "metadata": {},
   "outputs": [
    {
     "name": "stdout",
     "output_type": "stream",
     "text": [
      "0.05018723938353941\n"
     ]
    }
   ],
   "source": [
    "V2W2 = np.mean(( (datos.vx.values-ux)**2 + (datos.vy.values -uy)**2 ) * (datos.w.values-wm)**2 )\n",
    "print(V2W2)"
   ]
  },
  {
   "cell_type": "markdown",
   "metadata": {},
   "source": [
    "### Results for N=10, p=28"
   ]
  },
  {
   "cell_type": "code",
   "execution_count": 79,
   "metadata": {},
   "outputs": [
    {
     "name": "stdout",
     "output_type": "stream",
     "text": [
      "0.020139829160586258 \t 0.025943397949567654 \t 0.17854581213921694\n"
     ]
    }
   ],
   "source": [
    "ux = np.mean(datos.vx.values)\n",
    "uy = np.mean(datos.vy.values)\n",
    "wm = np.mean(datos.w.values)\n",
    "print(ux, '\\t', uy, '\\t', wm)"
   ]
  },
  {
   "cell_type": "code",
   "execution_count": 80,
   "metadata": {},
   "outputs": [
    {
     "name": "stdout",
     "output_type": "stream",
     "text": [
      "92.92652534627562\n",
      "100.79725545952984\n",
      "0.003335763292653444\n"
     ]
    }
   ],
   "source": [
    "V2x = np.mean((datos.vx.values-ux)**2)\n",
    "print(V2x)\n",
    "V2y = np.mean((datos.vy.values-uy)**2)\n",
    "print(V2y)\n",
    "V2 = V2x + V2y\n",
    "\n",
    "W2 = np.mean((datos.w-wm)**2)\n",
    "print(W2)"
   ]
  },
  {
   "cell_type": "code",
   "execution_count": 81,
   "metadata": {},
   "outputs": [
    {
     "name": "stdout",
     "output_type": "stream",
     "text": [
      "0.6837714308932673\n"
     ]
    }
   ],
   "source": [
    "V2W2 = np.mean(( (datos.vx.values-ux)**2 + (datos.vy.values -uy)**2 ) * (datos.w.values-wm)**2 )\n",
    "print(V2W2)"
   ]
  },
  {
   "cell_type": "code",
   "execution_count": 72,
   "metadata": {},
   "outputs": [],
   "source": [
    "plt.close('all')"
   ]
  },
  {
   "cell_type": "code",
   "execution_count": 73,
   "metadata": {},
   "outputs": [
    {
     "data": {
      "application/vnd.jupyter.widget-view+json": {
       "model_id": "88092714dd334b1e8e58c3a955da0acf",
       "version_major": 2,
       "version_minor": 0
      },
      "text/plain": [
       "Canvas(toolbar=Toolbar(toolitems=[('Home', 'Reset original view', 'home', 'home'), ('Back', 'Back to previous …"
      ]
     },
     "metadata": {},
     "output_type": "display_data"
    }
   ],
   "source": [
    "histogram = np.histogram(datos.w, bins = 300, density = True)\n",
    "\n",
    "nfig=1\n",
    "plt.figure(nfig, figsize=(8,8/ct.golden_ratio))\n",
    "#plt.xlim(-0.15,0.25)\n",
    "plt.yscale('log')\n",
    "plt.xlabel(r'$\\omega\\,(\\mathrm{rad/s})$', fontsize=14)\n",
    "plt.ylabel(r'$f(\\omega)$', fontsize=14)\n",
    "plt.plot(histogram[1][:-1],histogram[0], 'o', fillstyle='right', markersize=5, color = 'k')\n",
    "plt.grid(True, axis='y', linewidth=1,which='major')\n",
    "plt.grid(True, axis='y', linewidth=0.25,which='minor')"
   ]
  },
  {
   "cell_type": "markdown",
   "metadata": {},
   "source": [
    "### $N = 25,\\: \\phi=0.25,\\: p=20$"
   ]
  },
  {
   "cell_type": "code",
   "execution_count": 213,
   "metadata": {},
   "outputs": [
    {
     "data": {
      "application/vnd.jupyter.widget-view+json": {
       "model_id": "1e4a8f919c424fc0853fda5652e6a06f",
       "version_major": 2,
       "version_minor": 0
      },
      "text/plain": [
       "Canvas(toolbar=Toolbar(toolitems=[('Home', 'Reset original view', 'home', 'home'), ('Back', 'Back to previous …"
      ]
     },
     "metadata": {},
     "output_type": "display_data"
    }
   ],
   "source": [
    "histogram = np.histogram(datos.w, bins = 300, density = True)\n",
    "\n",
    "nfig=1\n",
    "plt.figure(nfig, figsize=(8,8/ct.golden_ratio))\n",
    "plt.xlim(-0.15,0.25)\n",
    "plt.yscale('log')\n",
    "plt.xlabel(r'$\\omega\\,(\\mathrm{rad/s})$', fontsize=14)\n",
    "plt.ylabel(r'$f(\\omega)$', fontsize=14)\n",
    "plt.plot(histogram[1][:-1],histogram[0], 'o', fillstyle='right', markersize=5, color = 'k')\n",
    "plt.grid(True, axis='y', linewidth=1,which='major')\n",
    "plt.grid(True, axis='y', linewidth=0.25,which='minor')"
   ]
  },
  {
   "cell_type": "code",
   "execution_count": 14,
   "metadata": {},
   "outputs": [],
   "source": [
    "plt.close('all')"
   ]
  },
  {
   "cell_type": "code",
   "execution_count": 211,
   "metadata": {},
   "outputs": [
    {
     "data": {
      "application/vnd.jupyter.widget-view+json": {
       "model_id": "ac6ecfc0da4146a8a4c78fd56c415eda",
       "version_major": 2,
       "version_minor": 0
      },
      "text/plain": [
       "Canvas(toolbar=Toolbar(toolitems=[('Home', 'Reset original view', 'home', 'home'), ('Back', 'Back to previous …"
      ]
     },
     "metadata": {},
     "output_type": "display_data"
    },
    {
     "data": {
      "text/plain": [
       "[<matplotlib.lines.Line2D at 0x7f7da39570b8>]"
      ]
     },
     "execution_count": 211,
     "metadata": {},
     "output_type": "execute_result"
    }
   ],
   "source": [
    "nfig =5 \n",
    "plt.figure(nfig, figsize=(8,8))\n",
    "plt.polar(datos.theta, datos.x*datos.x + datos.y * datos.y,'.',markersize=0.05, color='brown', alpha=0.5 )"
   ]
  },
  {
   "cell_type": "code",
   "execution_count": 217,
   "metadata": {},
   "outputs": [
    {
     "data": {
      "application/vnd.jupyter.widget-view+json": {
       "model_id": "e01433f4151949aaaeab60e103ac3cea",
       "version_major": 2,
       "version_minor": 0
      },
      "text/plain": [
       "Canvas(toolbar=Toolbar(toolitems=[('Home', 'Reset original view', 'home', 'home'), ('Back', 'Back to previous …"
      ]
     },
     "metadata": {},
     "output_type": "display_data"
    },
    {
     "data": {
      "application/vnd.jupyter.widget-view+json": {
       "model_id": "c5140edc3f504872923ac1f2ef206c63",
       "version_major": 2,
       "version_minor": 0
      },
      "text/plain": [
       "Canvas(toolbar=Toolbar(toolitems=[('Home', 'Reset original view', 'home', 'home'), ('Back', 'Back to previous …"
      ]
     },
     "metadata": {},
     "output_type": "display_data"
    },
    {
     "data": {
      "application/vnd.jupyter.widget-view+json": {
       "model_id": "3f7ecbfcd57947d4924bdd92f282a1af",
       "version_major": 2,
       "version_minor": 0
      },
      "text/plain": [
       "Canvas(toolbar=Toolbar(toolitems=[('Home', 'Reset original view', 'home', 'home'), ('Back', 'Back to previous …"
      ]
     },
     "metadata": {},
     "output_type": "display_data"
    },
    {
     "data": {
      "text/plain": [
       "[<matplotlib.lines.Line2D at 0x7f7d6f7ce668>]"
      ]
     },
     "execution_count": 217,
     "metadata": {},
     "output_type": "execute_result"
    }
   ],
   "source": [
    "nfig = 1\n",
    "plt.figure(nfig, figsize=(8,8))\n",
    "plt.xlabel(r'$x(\\mathrm{cm})$', fontsize=14)\n",
    "plt.ylabel(r'$y(\\mathrm{cm})$', fontsize=14)\n",
    "plt.hist2d(datos['x'],datos['y'], bins=350);\n",
    "\n",
    "nfig = 2\n",
    "plt.figure(nfig, figsize=(8,8))\n",
    "plt.polar(datos.theta, datos.x*datos.x + datos.y * datos.y,'.',markersize=0.05, color='brown', alpha=0.5 )\n",
    "\n",
    "nfig = 3 \n",
    "histogram = np.histogram(datos.theta, bins = 500, density = True)\n",
    "plt.figure(nfig, figsize=(8,8/ct.golden_ratio))\n",
    "plt.ylabel(r'$f(\\theta)$', fontsize=14)\n",
    "plt.xlabel(r'$\\theta\\,(\\mathrm{rad})$', fontsize=14)\n",
    "plt.xticks(np.arange(0, 2.01*np.pi, np.pi/4), [r'$0$', r'$\\pi/4$', r'$\\pi/2$', r'$3\\pi/4$', r'$\\pi$', \n",
    "                                               r'$5\\pi/4$', r'$3\\pi/2$', r'$7\\pi/4$', r'$2\\pi$'])\n",
    "plt.plot(histogram[1][:-1],histogram[0], '.', markersize=5, color = 'r')\n"
   ]
  },
  {
   "cell_type": "markdown",
   "metadata": {},
   "source": [
    "### $N = 25,\\: \\phi=0.25,\\: p=23$"
   ]
  },
  {
   "cell_type": "code",
   "execution_count": 15,
   "metadata": {},
   "outputs": [
    {
     "data": {
      "application/vnd.jupyter.widget-view+json": {
       "model_id": "5af978a207be4f85b7b62dd344374be5",
       "version_major": 2,
       "version_minor": 0
      },
      "text/plain": [
       "Canvas(toolbar=Toolbar(toolitems=[('Home', 'Reset original view', 'home', 'home'), ('Back', 'Back to previous …"
      ]
     },
     "metadata": {},
     "output_type": "display_data"
    }
   ],
   "source": [
    "histogram = np.histogram(datos.w, bins = 300, density = True)\n",
    "\n",
    "nfig=1\n",
    "plt.figure(nfig, figsize=(8,8/ct.golden_ratio))\n",
    "plt.xlim(-0.10,0.30)\n",
    "plt.yscale('log')\n",
    "plt.xlabel(r'$\\omega$', fontsize=14)\n",
    "plt.ylabel(r'$f(\\omega)$', fontsize=14)\n",
    "plt.plot(histogram[1][:-1],histogram[0], 'o', fillstyle='right', markersize=5, color = 'k')\n",
    "plt.grid(True, axis='y', linewidth=1,which='major')\n",
    "plt.grid(True, axis='y', linewidth=0.25,which='minor')"
   ]
  },
  {
   "cell_type": "code",
   "execution_count": 20,
   "metadata": {},
   "outputs": [],
   "source": [
    "plt.close('all')"
   ]
  },
  {
   "cell_type": "code",
   "execution_count": 19,
   "metadata": {},
   "outputs": [
    {
     "data": {
      "application/vnd.jupyter.widget-view+json": {
       "model_id": "bd667f229ef24d718fb5409e7fe1118a",
       "version_major": 2,
       "version_minor": 0
      },
      "text/plain": [
       "Canvas(toolbar=Toolbar(toolitems=[('Home', 'Reset original view', 'home', 'home'), ('Back', 'Back to previous …"
      ]
     },
     "metadata": {},
     "output_type": "display_data"
    },
    {
     "data": {
      "application/vnd.jupyter.widget-view+json": {
       "model_id": "b85079ff31a24385af38918687b6ceca",
       "version_major": 2,
       "version_minor": 0
      },
      "text/plain": [
       "Canvas(toolbar=Toolbar(toolitems=[('Home', 'Reset original view', 'home', 'home'), ('Back', 'Back to previous …"
      ]
     },
     "metadata": {},
     "output_type": "display_data"
    },
    {
     "data": {
      "application/vnd.jupyter.widget-view+json": {
       "model_id": "3e42aa2487d749a7960de60db9140ef9",
       "version_major": 2,
       "version_minor": 0
      },
      "text/plain": [
       "Canvas(toolbar=Toolbar(toolitems=[('Home', 'Reset original view', 'home', 'home'), ('Back', 'Back to previous …"
      ]
     },
     "metadata": {},
     "output_type": "display_data"
    },
    {
     "data": {
      "text/plain": [
       "[<matplotlib.lines.Line2D at 0x7f9b9f2e77f0>]"
      ]
     },
     "execution_count": 19,
     "metadata": {},
     "output_type": "execute_result"
    }
   ],
   "source": [
    "nfig = 1\n",
    "plt.figure(nfig, figsize=(8,8))\n",
    "plt.xlabel(r'$x(\\mathrm{cm})$', fontsize=14)\n",
    "plt.ylabel(r'$y(\\mathrm{cm})$', fontsize=14)\n",
    "plt.hist2d(datos['x'],datos['y'], bins=350);\n",
    "\n",
    "nfig = 2\n",
    "plt.figure(nfig, figsize=(8,8))\n",
    "plt.polar(datos.theta, datos.x*datos.x + datos.y * datos.y,'.',markersize=0.05, color='brown', alpha=0.5 )\n",
    "\n",
    "nfig = 3 \n",
    "histogram = np.histogram(datos.theta, bins = 500, density = True)\n",
    "plt.figure(nfig, figsize=(8,8/ct.golden_ratio))\n",
    "plt.ylabel(r'$f(\\theta)$', fontsize=14)\n",
    "plt.xlabel(r'$\\theta\\,(\\mathrm{rad})$', fontsize=14)\n",
    "plt.xticks(np.arange(0, 2.01*np.pi, np.pi/4), [r'$0$', r'$\\pi/4$', r'$\\pi/2$', r'$3\\pi/4$', r'$\\pi$', \n",
    "                                               r'$5\\pi/4$', r'$3\\pi/2$', r'$7\\pi/4$', r'$2\\pi$'])\n",
    "plt.plot(histogram[1][:-1],histogram[0], '.', markersize=5, color = 'r')"
   ]
  },
  {
   "cell_type": "markdown",
   "metadata": {},
   "source": [
    "### $N = 25,\\: \\phi=0.25,\\: p=25$"
   ]
  },
  {
   "cell_type": "code",
   "execution_count": 40,
   "metadata": {},
   "outputs": [
    {
     "data": {
      "text/plain": [
       "(-0.05, 0.3)"
      ]
     },
     "execution_count": 40,
     "metadata": {},
     "output_type": "execute_result"
    }
   ],
   "source": [
    "plt.xlim(-0.05,0.30)"
   ]
  },
  {
   "cell_type": "code",
   "execution_count": 38,
   "metadata": {},
   "outputs": [
    {
     "data": {
      "application/vnd.jupyter.widget-view+json": {
       "model_id": "083a54bb58194cf98f53e6be739a8ce0",
       "version_major": 2,
       "version_minor": 0
      },
      "text/plain": [
       "Canvas(toolbar=Toolbar(toolitems=[('Home', 'Reset original view', 'home', 'home'), ('Back', 'Back to previous …"
      ]
     },
     "metadata": {},
     "output_type": "display_data"
    }
   ],
   "source": [
    "histogram = np.histogram(datos.w, bins = 300, density = True)\n",
    "\n",
    "nfig=1\n",
    "plt.figure(nfig, figsize=(8,8/ct.golden_ratio))\n",
    "plt.xlim(-0.35,0.65)\n",
    "plt.yscale('log')\n",
    "plt.xlabel(r'$\\omega\\,(\\mathrm{rad/s})$', fontsize=14)\n",
    "plt.ylabel(r'$f(\\omega)$', fontsize=14)\n",
    "plt.plot(histogram[1][:-1],histogram[0], 'o', fillstyle='right', markersize=5, color = 'k')\n",
    "plt.grid(True, axis='y', linewidth=1,which='major')\n",
    "plt.grid(True, axis='y', linewidth=0.25,which='minor')"
   ]
  },
  {
   "cell_type": "code",
   "execution_count": 41,
   "metadata": {},
   "outputs": [],
   "source": [
    "plt.close('all')"
   ]
  },
  {
   "cell_type": "code",
   "execution_count": 146,
   "metadata": {},
   "outputs": [
    {
     "data": {
      "application/vnd.jupyter.widget-view+json": {
       "model_id": "943a5c79ca93452a886a66796b0e5398",
       "version_major": 2,
       "version_minor": 0
      },
      "text/plain": [
       "Canvas(toolbar=Toolbar(toolitems=[('Home', 'Reset original view', 'home', 'home'), ('Back', 'Back to previous …"
      ]
     },
     "metadata": {},
     "output_type": "display_data"
    }
   ],
   "source": [
    "## store tracks individually\n",
    "#tracks = all_tracks(datos, True)\n",
    "# Histogram of trajectory length\n",
    "plt.figure(figsize=(8,8/ct.golden))\n",
    "plt.title('Trajectory lengths')\n",
    "# set upper height limit for histogram\n",
    "track_lengths = [len(tracks[i]) for i in range(Ntracks)]\n",
    "# number of bins for track length histogram\n",
    "nbins = 200\n",
    "#plot\n",
    "plt.ylim(0,1.25*Ntracks)\n",
    "fig=plt.hist( track_lengths, nbins, color='b')"
   ]
  },
  {
   "cell_type": "code",
   "execution_count": 119,
   "metadata": {},
   "outputs": [
    {
     "data": {
      "application/vnd.jupyter.widget-view+json": {
       "model_id": "a98bacf1cd4d4d03a2fcb3a43c1f0c8b",
       "version_major": 2,
       "version_minor": 0
      },
      "text/plain": [
       "Canvas(toolbar=Toolbar(toolitems=[('Home', 'Reset original view', 'home', 'home'), ('Back', 'Back to previous …"
      ]
     },
     "metadata": {},
     "output_type": "display_data"
    },
    {
     "data": {
      "text/plain": [
       "Text(0.5, 1.0, 'propellers no. of edges')"
      ]
     },
     "execution_count": 119,
     "metadata": {},
     "output_type": "execute_result"
    }
   ],
   "source": [
    "plt.figure(figsize=(8,8/ct.golden))\n",
    "\n",
    "# Histogram of trajectory length\n",
    "datos_length = len(datos.maxt)-1\n",
    "\n",
    "\n",
    "# set upper height limit for histogram\n",
    "edges_lengths = [len(datos.maxt[i]) for i in range(datos_length)]\n",
    "# number of bins for track length histogram\n",
    "\n",
    "\n",
    "fig = plt.hist( edges_lengths, bins =[11,12,13,14,15, 16],\\\n",
    "                color='b',density=True, align='left' ,rwidth=0.95)\n",
    "\n",
    "s= '11 edges: ' + str(\"{0:.2%}\".format(fig[0][0])) +\\\n",
    "'\\n12 edges: ' + str(\"{0:.2%}\".format(fig[0][1])) +\\\n",
    "'\\n13 edges: ' + str(\"{0:.2%}\".format(fig[0][2])) +\\\n",
    "'\\n14 edges: ' + str(\"{0:.2%}\".format(fig[0][3])) + \\\n",
    "'\\n15 edges: ' + str(\"{0:.4%}\".format(fig[0][4]))\n",
    "\n",
    "plt.text(11.75, 0.7, s= s , horizontalalignment='center',fontsize=12)\n",
    "\n",
    "plt.title('propellers no. of edges')"
   ]
  },
  {
   "cell_type": "markdown",
   "metadata": {},
   "source": [
    "## <font color='RED'>RUN CELL 1</font>\n",
    "\n",
    "### - obtain position differences  (vels)\n",
    "### - obtain velocities differences  (accels)\n",
    "### - create all (non-short) individual tracks arrays. (minimum theoretical length: 5)"
   ]
  },
  {
   "cell_type": "code",
   "execution_count": 243,
   "metadata": {},
   "outputs": [
    {
     "name": "stdout",
     "output_type": "stream",
     "text": [
      "0.012658227848101266\n"
     ]
    },
    {
     "data": {
      "text/html": [
       "<table border=\"1\" class=\"dataframe\">\n",
       "  <thead>\n",
       "    <tr style=\"text-align: right;\">\n",
       "      <th></th>\n",
       "      <th>frame</th>\n",
       "      <th>track</th>\n",
       "      <th>x</th>\n",
       "      <th>y</th>\n",
       "      <th>theta</th>\n",
       "    </tr>\n",
       "  </thead>\n",
       "  <tbody>\n",
       "    <tr>\n",
       "      <th>0</th>\n",
       "      <td>1</td>\n",
       "      <td>0</td>\n",
       "      <td>-8.278377</td>\n",
       "      <td>-4.960103</td>\n",
       "      <td>[[17.35402463626132, 45.0, 74.47588900324574, 98.13010235415598, 127.56859202882748, 154.79887635452494, 180.0, 205.20112364547506, 232.4314079711725, 257.4711922908485, 276.7098368077569, 298.07248693585296, 326.3099324740202, 353.99099404250546, 377.35402463626133, 405.0], [6.009005957494525, 32.005383208083494, 57.9946167919165, 83.6598082540901, 109.6538240580533, 137.48955292199918, 165.06858282186246, 190.0079798014413, 215.53767779197437, 241.69924423399365, 266.18592516570965, 286.3895403340348, 315.0, 341.565051177078, 366.00900595749454, 392.0053832080835, 417.9946167919165]]</td>\n",
       "    </tr>\n",
       "    <tr>\n",
       "      <th>1</th>\n",
       "      <td>1</td>\n",
       "      <td>1</td>\n",
       "      <td>-8.275366</td>\n",
       "      <td>-5.038438</td>\n",
       "      <td>[[3.1798301198642345, 29.74488129694222, 59.03624346792648, 83.99099404250548, 107.35402463626133, 132.51044707800085, 158.19859051364818, 180.0, 206.565051177078, 235.30484646876602, 262.40535663140855, 282.5288077091515, 310.23635830927384, 338.1985905136482, 363.1798301198642, 389.7448812969422], [18.43494882292201, 45.0, 71.56505117707799, 96.00900595749452, 116.56505117707799, 141.84277341263095, 167.47119229084848, 190.61965527615513, 216.86989764584402, 244.79887635452496, 270.0, 298.07248693585296, 327.2647737278924, 356.18592516570965, 378.434948822922, 405.0]]</td>\n",
       "    </tr>\n",
       "    <tr>\n",
       "      <th>2</th>\n",
       "      <td>1</td>\n",
       "      <td>2</td>\n",
       "      <td>-8.294772</td>\n",
       "      <td>-5.038365</td>\n",
       "      <td>[[9.462322208025617, 37.568592028827496, 66.37062226934319, 90.0, 116.56505117707799, 141.34019174590992, 166.75948008481282, 188.9726266148964, 214.69515353123396, 242.10272896905238, 270.0, 288.434948822922, 317.29061004263855, 345.06858282186244, 369.4623222080256, 397.5685920288275], [25.016893478100023, 50.71059313749964, 78.69006752597979, 101.30993247402021, 126.2538377374448, 151.69924423399362, 176.18592516570965, 199.44003482817618, 225.0, 251.565051177078, 276.3401917459099, 303.6900675259798, 331.92751306414704, 360.0, 385.01689347810003, 410.71059313749964]]</td>\n",
       "    </tr>\n",
       "    <tr>\n",
       "      <th>3</th>\n",
       "      <td>1</td>\n",
       "      <td>3</td>\n",
       "      <td>-8.303873</td>\n",
       "      <td>-5.026532</td>\n",
       "      <td>[[22.380135051959574, 49.398705354995535, 79.38034472384487, 101.30993247402021, 127.56859202882748, 151.92751306414706, 180.0, 202.38013505195957, 229.3987053549955, 254.47588900324575, 277.59464336859145, 302.7352262721076, 330.6422464572087, 360.0, 382.3801350519596, 409.3987053549955], [10.619655276155134, 37.568592028827496, 63.43494882292201, 90.0, 111.25050550713325, 137.29061004263855, 162.6459753637387, 186.3401917459099, 211.60750224624888, 237.9946167919165, 263.6598082540901, 288.434948822922, 317.4895529219991, 345.9637565320735, 370.61965527615513, 397.5685920288275]]</td>\n",
       "    </tr>\n",
       "    <tr>\n",
       "      <th>4</th>\n",
       "      <td>1</td>\n",
       "      <td>4</td>\n",
       "      <td>-8.316871</td>\n",
       "      <td>-5.025052</td>\n",
       "      <td>[[17.35402463626132, 45.0, 74.47588900324574, 97.59464336859145, 124.69515353123397, 149.03624346792648, 173.6598082540901, 195.94539590092285, 222.51044707800082, 249.44395478041653, 270.0, 295.20112364547504, 324.4623222080256, 352.8749836510982, 377.35402463626133, 405.0], [6.009005957494525, 32.7352262721076, 59.03624346792648, 83.99099404250548, 109.4400348281762, 132.87890360333856, 160.3461759419467, 180.0, 206.565051177078, 232.4314079711725, 259.38034472384487, 282.5288077091515, 310.6012946450045, 340.3461759419467, 366.00900595749454, 392.7352262721076]]</td>\n",
       "    </tr>\n",
       "  </tbody>\n",
       "</table>"
      ],
      "text/plain": [
       "<IPython.core.display.HTML object>"
      ]
     },
     "metadata": {},
     "output_type": "display_data"
    }
   ],
   "source": [
    "\n",
    "## scale and re-position the system (left-bottom corner is (0,0))\n",
    "ishifted = 0\n",
    "\n",
    "not_shifted, datos = \\\n",
    "set_origin(info.ROI_center[0][0],info.ROI_center[0][1], datos) # re-position\n",
    "\n",
    "iscaled = 0\n",
    "not_scaled, datos = \\\n",
    "scale(info.particle_diameter_px[0], 10**3/info.fps[0], datos) # scale\n",
    "\n",
    "\n",
    "# calculate velocities for all tracks\n",
    "datos = diffs('x','y','vx','vy', datos);\n",
    "\n",
    "#calculate accelerations for all tracks\n",
    "tracks_table[ishort] = diffs('vx','vy','ax','ay', datos);\n",
    "#print table head\n",
    "\n",
    "#print('scaled: \\n')\n",
    "display(HTML( datos.head().to_html() ))\n",
    "#\n",
    "#\n",
    "## store tracks individually\n",
    "#tracks = all_tracks(datos, True)\n",
    "#\n",
    "## store system (instantaneous) states individually\n",
    "#states = all_states(datos)\n"
   ]
  },
  {
   "cell_type": "code",
   "execution_count": 84,
   "metadata": {},
   "outputs": [
    {
     "data": {
      "text/html": [
       "<div>\n",
       "<style scoped>\n",
       "    .dataframe tbody tr th:only-of-type {\n",
       "        vertical-align: middle;\n",
       "    }\n",
       "\n",
       "    .dataframe tbody tr th {\n",
       "        vertical-align: top;\n",
       "    }\n",
       "\n",
       "    .dataframe thead th {\n",
       "        text-align: right;\n",
       "    }\n",
       "</style>\n",
       "<table border=\"1\" class=\"dataframe\">\n",
       "  <thead>\n",
       "    <tr style=\"text-align: right;\">\n",
       "      <th></th>\n",
       "      <th>frame</th>\n",
       "      <th>track</th>\n",
       "      <th>x</th>\n",
       "      <th>y</th>\n",
       "      <th>maxt</th>\n",
       "    </tr>\n",
       "  </thead>\n",
       "  <tbody>\n",
       "    <tr>\n",
       "      <th>0</th>\n",
       "      <td>1</td>\n",
       "      <td>0</td>\n",
       "      <td>814.647468</td>\n",
       "      <td>643.994447</td>\n",
       "      <td>[0.25638748591339144, 1.2869536860665933, 2.36...</td>\n",
       "    </tr>\n",
       "    <tr>\n",
       "      <th>1</th>\n",
       "      <td>1</td>\n",
       "      <td>1</td>\n",
       "      <td>833.440082</td>\n",
       "      <td>155.107584</td>\n",
       "      <td>[0.9291104187434944, 1.9536246836072984, 2.837...</td>\n",
       "    </tr>\n",
       "    <tr>\n",
       "      <th>2</th>\n",
       "      <td>1</td>\n",
       "      <td>2</td>\n",
       "      <td>712.325766</td>\n",
       "      <td>155.562226</td>\n",
       "      <td>[0.6147619458795595, 1.644570082871637, 2.7151...</td>\n",
       "    </tr>\n",
       "    <tr>\n",
       "      <th>3</th>\n",
       "      <td>1</td>\n",
       "      <td>3</td>\n",
       "      <td>655.528404</td>\n",
       "      <td>229.414274</td>\n",
       "      <td>[0.07467027798404224, 1.1743462723760367, 2.21...</td>\n",
       "    </tr>\n",
       "    <tr>\n",
       "      <th>4</th>\n",
       "      <td>1</td>\n",
       "      <td>4</td>\n",
       "      <td>574.409841</td>\n",
       "      <td>238.649058</td>\n",
       "      <td>[0.3136588246867156, 1.3748650938500868, 2.475...</td>\n",
       "    </tr>\n",
       "  </tbody>\n",
       "</table>\n",
       "</div>"
      ],
      "text/plain": [
       "   frame  track           x           y  \\\n",
       "0      1      0  814.647468  643.994447   \n",
       "1      1      1  833.440082  155.107584   \n",
       "2      1      2  712.325766  155.562226   \n",
       "3      1      3  655.528404  229.414274   \n",
       "4      1      4  574.409841  238.649058   \n",
       "\n",
       "                                                maxt  \n",
       "0  [0.25638748591339144, 1.2869536860665933, 2.36...  \n",
       "1  [0.9291104187434944, 1.9536246836072984, 2.837...  \n",
       "2  [0.6147619458795595, 1.644570082871637, 2.7151...  \n",
       "3  [0.07467027798404224, 1.1743462723760367, 2.21...  \n",
       "4  [0.3136588246867156, 1.3748650938500868, 2.475...  "
      ]
     },
     "execution_count": 84,
     "metadata": {},
     "output_type": "execute_result"
    }
   ],
   "source": [
    "datos.head()"
   ]
  },
  {
   "cell_type": "code",
   "execution_count": 86,
   "metadata": {},
   "outputs": [
    {
     "data": {
      "text/html": [
       "<div>\n",
       "<style scoped>\n",
       "    .dataframe tbody tr th:only-of-type {\n",
       "        vertical-align: middle;\n",
       "    }\n",
       "\n",
       "    .dataframe tbody tr th {\n",
       "        vertical-align: top;\n",
       "    }\n",
       "\n",
       "    .dataframe thead th {\n",
       "        text-align: right;\n",
       "    }\n",
       "</style>\n",
       "<table border=\"1\" class=\"dataframe\">\n",
       "  <thead>\n",
       "    <tr style=\"text-align: right;\">\n",
       "      <th></th>\n",
       "      <th>frame</th>\n",
       "      <th>track</th>\n",
       "      <th>x</th>\n",
       "      <th>y</th>\n",
       "      <th>maxt</th>\n",
       "    </tr>\n",
       "  </thead>\n",
       "  <tbody>\n",
       "    <tr>\n",
       "      <th>0</th>\n",
       "      <td>1</td>\n",
       "      <td>1</td>\n",
       "      <td>833.440082</td>\n",
       "      <td>155.107584</td>\n",
       "      <td>[0.9291104187434944, 1.9536246836072984, 2.837...</td>\n",
       "    </tr>\n",
       "    <tr>\n",
       "      <th>1</th>\n",
       "      <td>2</td>\n",
       "      <td>1</td>\n",
       "      <td>833.565285</td>\n",
       "      <td>155.146949</td>\n",
       "      <td>[0.993222851282328, 2.0381238374902946, 3.0245...</td>\n",
       "    </tr>\n",
       "    <tr>\n",
       "      <th>2</th>\n",
       "      <td>3</td>\n",
       "      <td>1</td>\n",
       "      <td>833.599266</td>\n",
       "      <td>155.118837</td>\n",
       "      <td>[0.10113183664041436, 1.1157529149181928, 2.20...</td>\n",
       "    </tr>\n",
       "    <tr>\n",
       "      <th>3</th>\n",
       "      <td>4</td>\n",
       "      <td>1</td>\n",
       "      <td>833.616511</td>\n",
       "      <td>155.003768</td>\n",
       "      <td>[0.1440946947735089, 1.2206858136701693, 2.278...</td>\n",
       "    </tr>\n",
       "    <tr>\n",
       "      <th>4</th>\n",
       "      <td>5</td>\n",
       "      <td>1</td>\n",
       "      <td>833.662580</td>\n",
       "      <td>155.010916</td>\n",
       "      <td>[0.3417150488524778, 1.3214045594543666, 2.423...</td>\n",
       "    </tr>\n",
       "  </tbody>\n",
       "</table>\n",
       "</div>"
      ],
      "text/plain": [
       "   frame  track           x           y  \\\n",
       "0      1      1  833.440082  155.107584   \n",
       "1      2      1  833.565285  155.146949   \n",
       "2      3      1  833.599266  155.118837   \n",
       "3      4      1  833.616511  155.003768   \n",
       "4      5      1  833.662580  155.010916   \n",
       "\n",
       "                                                maxt  \n",
       "0  [0.9291104187434944, 1.9536246836072984, 2.837...  \n",
       "1  [0.993222851282328, 2.0381238374902946, 3.0245...  \n",
       "2  [0.10113183664041436, 1.1157529149181928, 2.20...  \n",
       "3  [0.1440946947735089, 1.2206858136701693, 2.278...  \n",
       "4  [0.3417150488524778, 1.3214045594543666, 2.423...  "
      ]
     },
     "execution_count": 86,
     "metadata": {},
     "output_type": "execute_result"
    }
   ],
   "source": [
    "tracks[1].head()"
   ]
  },
  {
   "cell_type": "code",
   "execution_count": 90,
   "metadata": {},
   "outputs": [
    {
     "data": {
      "text/html": [
       "<div>\n",
       "<style scoped>\n",
       "    .dataframe tbody tr th:only-of-type {\n",
       "        vertical-align: middle;\n",
       "    }\n",
       "\n",
       "    .dataframe tbody tr th {\n",
       "        vertical-align: top;\n",
       "    }\n",
       "\n",
       "    .dataframe thead th {\n",
       "        text-align: right;\n",
       "    }\n",
       "</style>\n",
       "<table border=\"1\" class=\"dataframe\">\n",
       "  <thead>\n",
       "    <tr style=\"text-align: right;\">\n",
       "      <th></th>\n",
       "      <th>frame</th>\n",
       "      <th>track</th>\n",
       "      <th>x</th>\n",
       "      <th>y</th>\n",
       "      <th>maxt</th>\n",
       "    </tr>\n",
       "  </thead>\n",
       "  <tbody>\n",
       "    <tr>\n",
       "      <th>0</th>\n",
       "      <td>1</td>\n",
       "      <td>24</td>\n",
       "      <td>567.231030</td>\n",
       "      <td>486.405049</td>\n",
       "      <td>[0.3231139716095451, 1.3865781356650153, 2.470...</td>\n",
       "    </tr>\n",
       "    <tr>\n",
       "      <th>1</th>\n",
       "      <td>2</td>\n",
       "      <td>24</td>\n",
       "      <td>567.416962</td>\n",
       "      <td>486.399588</td>\n",
       "      <td>[0.47637364245784, 1.5749432207878027, 2.59355...</td>\n",
       "    </tr>\n",
       "    <tr>\n",
       "      <th>2</th>\n",
       "      <td>3</td>\n",
       "      <td>24</td>\n",
       "      <td>567.476790</td>\n",
       "      <td>486.375374</td>\n",
       "      <td>[0.6568746406094375, 1.7583236454831725, 2.710...</td>\n",
       "    </tr>\n",
       "    <tr>\n",
       "      <th>3</th>\n",
       "      <td>4</td>\n",
       "      <td>24</td>\n",
       "      <td>567.495161</td>\n",
       "      <td>486.310835</td>\n",
       "      <td>[0.8133017547021266, 1.8687878401071187, 2.876...</td>\n",
       "    </tr>\n",
       "    <tr>\n",
       "      <th>4</th>\n",
       "      <td>5</td>\n",
       "      <td>24</td>\n",
       "      <td>567.501860</td>\n",
       "      <td>486.342912</td>\n",
       "      <td>[1.0224808164095163, 2.0397489165768175, 3.010...</td>\n",
       "    </tr>\n",
       "    <tr>\n",
       "      <th>...</th>\n",
       "      <td>...</td>\n",
       "      <td>...</td>\n",
       "      <td>...</td>\n",
       "      <td>...</td>\n",
       "      <td>...</td>\n",
       "    </tr>\n",
       "    <tr>\n",
       "      <th>24974</th>\n",
       "      <td>24975</td>\n",
       "      <td>24</td>\n",
       "      <td>787.162426</td>\n",
       "      <td>442.742878</td>\n",
       "      <td>[0.02887847889181039, 1.0135789300435567, 2.02...</td>\n",
       "    </tr>\n",
       "    <tr>\n",
       "      <th>24975</th>\n",
       "      <td>24976</td>\n",
       "      <td>24</td>\n",
       "      <td>787.082665</td>\n",
       "      <td>442.678080</td>\n",
       "      <td>[0.04505750709309375, 1.180479742546085, 2.185...</td>\n",
       "    </tr>\n",
       "    <tr>\n",
       "      <th>24976</th>\n",
       "      <td>24977</td>\n",
       "      <td>24</td>\n",
       "      <td>787.034599</td>\n",
       "      <td>442.563881</td>\n",
       "      <td>[0.2846512230937766, 1.3240127855279564, 2.307...</td>\n",
       "    </tr>\n",
       "    <tr>\n",
       "      <th>24977</th>\n",
       "      <td>24978</td>\n",
       "      <td>24</td>\n",
       "      <td>786.974148</td>\n",
       "      <td>442.552648</td>\n",
       "      <td>[0.3993955666309176, 1.3981534737158778, 2.427...</td>\n",
       "    </tr>\n",
       "    <tr>\n",
       "      <th>24978</th>\n",
       "      <td>24979</td>\n",
       "      <td>24</td>\n",
       "      <td>787.069772</td>\n",
       "      <td>442.571778</td>\n",
       "      <td>[0.5029063267251, 1.546793006233583, 2.5485215...</td>\n",
       "    </tr>\n",
       "  </tbody>\n",
       "</table>\n",
       "<p>24979 rows × 5 columns</p>\n",
       "</div>"
      ],
      "text/plain": [
       "       frame  track           x           y  \\\n",
       "0          1     24  567.231030  486.405049   \n",
       "1          2     24  567.416962  486.399588   \n",
       "2          3     24  567.476790  486.375374   \n",
       "3          4     24  567.495161  486.310835   \n",
       "4          5     24  567.501860  486.342912   \n",
       "...      ...    ...         ...         ...   \n",
       "24974  24975     24  787.162426  442.742878   \n",
       "24975  24976     24  787.082665  442.678080   \n",
       "24976  24977     24  787.034599  442.563881   \n",
       "24977  24978     24  786.974148  442.552648   \n",
       "24978  24979     24  787.069772  442.571778   \n",
       "\n",
       "                                                    maxt  \n",
       "0      [0.3231139716095451, 1.3865781356650153, 2.470...  \n",
       "1      [0.47637364245784, 1.5749432207878027, 2.59355...  \n",
       "2      [0.6568746406094375, 1.7583236454831725, 2.710...  \n",
       "3      [0.8133017547021266, 1.8687878401071187, 2.876...  \n",
       "4      [1.0224808164095163, 2.0397489165768175, 3.010...  \n",
       "...                                                  ...  \n",
       "24974  [0.02887847889181039, 1.0135789300435567, 2.02...  \n",
       "24975  [0.04505750709309375, 1.180479742546085, 2.185...  \n",
       "24976  [0.2846512230937766, 1.3240127855279564, 2.307...  \n",
       "24977  [0.3993955666309176, 1.3981534737158778, 2.427...  \n",
       "24978  [0.5029063267251, 1.546793006233583, 2.5485215...  \n",
       "\n",
       "[24979 rows x 5 columns]"
      ]
     },
     "execution_count": 90,
     "metadata": {},
     "output_type": "execute_result"
    }
   ],
   "source": [
    "tracks[24]"
   ]
  },
  {
   "cell_type": "code",
   "execution_count": 94,
   "metadata": {},
   "outputs": [
    {
     "data": {
      "text/plain": [
       "array([0.        , 0.18166454, 0.18692555, 0.150379  , 0.17590035,\n",
       "       0.17056379, 0.22411921, 0.15674378, 0.18944184, 0.17991285])"
      ]
     },
     "execution_count": 94,
     "metadata": {},
     "output_type": "execute_result"
    }
   ],
   "source": [
    "omega[0][:10]"
   ]
  },
  {
   "cell_type": "code",
   "execution_count": 95,
   "metadata": {},
   "outputs": [
    {
     "data": {
      "text/plain": [
       "24980"
      ]
     },
     "execution_count": 95,
     "metadata": {},
     "output_type": "execute_result"
    }
   ],
   "source": [
    "Nframes"
   ]
  },
  {
   "cell_type": "code",
   "execution_count": 105,
   "metadata": {},
   "outputs": [],
   "source": [
    "tracks[0]['w'] = omega[0][:-1]"
   ]
  },
  {
   "cell_type": "code",
   "execution_count": 116,
   "metadata": {},
   "outputs": [
    {
     "data": {
      "text/plain": [
       "array([13.51217205,  0.        ,  0.        ,  0.        ])"
      ]
     },
     "execution_count": 116,
     "metadata": {},
     "output_type": "execute_result"
    }
   ],
   "source": [
    "theta[0][-4:]"
   ]
  },
  {
   "cell_type": "code",
   "execution_count": 106,
   "metadata": {},
   "outputs": [
    {
     "data": {
      "text/html": [
       "<div>\n",
       "<style scoped>\n",
       "    .dataframe tbody tr th:only-of-type {\n",
       "        vertical-align: middle;\n",
       "    }\n",
       "\n",
       "    .dataframe tbody tr th {\n",
       "        vertical-align: top;\n",
       "    }\n",
       "\n",
       "    .dataframe thead th {\n",
       "        text-align: right;\n",
       "    }\n",
       "</style>\n",
       "<table border=\"1\" class=\"dataframe\">\n",
       "  <thead>\n",
       "    <tr style=\"text-align: right;\">\n",
       "      <th></th>\n",
       "      <th>frame</th>\n",
       "      <th>track</th>\n",
       "      <th>x</th>\n",
       "      <th>y</th>\n",
       "      <th>maxt</th>\n",
       "      <th>w</th>\n",
       "    </tr>\n",
       "  </thead>\n",
       "  <tbody>\n",
       "    <tr>\n",
       "      <th>0</th>\n",
       "      <td>1</td>\n",
       "      <td>0</td>\n",
       "      <td>814.647468</td>\n",
       "      <td>643.994447</td>\n",
       "      <td>[0.25638748591339144, 1.2869536860665933, 2.36...</td>\n",
       "      <td>0.000000</td>\n",
       "    </tr>\n",
       "    <tr>\n",
       "      <th>1</th>\n",
       "      <td>2</td>\n",
       "      <td>0</td>\n",
       "      <td>814.751181</td>\n",
       "      <td>643.962894</td>\n",
       "      <td>[0.4380520267599561, 1.468494603389358, 2.4953...</td>\n",
       "      <td>0.181665</td>\n",
       "    </tr>\n",
       "    <tr>\n",
       "      <th>2</th>\n",
       "      <td>3</td>\n",
       "      <td>0</td>\n",
       "      <td>814.505869</td>\n",
       "      <td>643.960218</td>\n",
       "      <td>[0.624977576554114, 1.6232258915091886, 2.6227...</td>\n",
       "      <td>0.186926</td>\n",
       "    </tr>\n",
       "    <tr>\n",
       "      <th>3</th>\n",
       "      <td>4</td>\n",
       "      <td>0</td>\n",
       "      <td>814.435241</td>\n",
       "      <td>643.991297</td>\n",
       "      <td>[0.775356577513363, 1.7919567217573924, 2.8322...</td>\n",
       "      <td>0.150379</td>\n",
       "    </tr>\n",
       "    <tr>\n",
       "      <th>4</th>\n",
       "      <td>5</td>\n",
       "      <td>0</td>\n",
       "      <td>814.434456</td>\n",
       "      <td>644.009395</td>\n",
       "      <td>[0.9512569301110008, 1.999618872607293, 2.9462...</td>\n",
       "      <td>0.175900</td>\n",
       "    </tr>\n",
       "  </tbody>\n",
       "</table>\n",
       "</div>"
      ],
      "text/plain": [
       "   frame  track           x           y  \\\n",
       "0      1      0  814.647468  643.994447   \n",
       "1      2      0  814.751181  643.962894   \n",
       "2      3      0  814.505869  643.960218   \n",
       "3      4      0  814.435241  643.991297   \n",
       "4      5      0  814.434456  644.009395   \n",
       "\n",
       "                                                maxt         w  \n",
       "0  [0.25638748591339144, 1.2869536860665933, 2.36...  0.000000  \n",
       "1  [0.4380520267599561, 1.468494603389358, 2.4953...  0.181665  \n",
       "2  [0.624977576554114, 1.6232258915091886, 2.6227...  0.186926  \n",
       "3  [0.775356577513363, 1.7919567217573924, 2.8322...  0.150379  \n",
       "4  [0.9512569301110008, 1.999618872607293, 2.9462...  0.175900  "
      ]
     },
     "execution_count": 106,
     "metadata": {},
     "output_type": "execute_result"
    }
   ],
   "source": [
    "tracks[0].head()"
   ]
  },
  {
   "cell_type": "markdown",
   "metadata": {},
   "source": [
    "## _Plotting functions_ \n",
    "\n",
    "__frameit(ax):__ frames a figure by drawing the image limits and the ROI limits as well\n",
    "\n",
    "__plt__\\___track(t_id,xs,tagit,fr\\_it):__ plots just one track (_t_\\__id_) within _fr_\\__it_ (if True) frames, with size _xs_ and prints the track no. if _tagit_ is True\n",
    "\n",
    "__plt__\\___tracks(init_id, final_id,xs,tagit,fr\\_it):__ plots _init_\\__id_ to _final_\\__id_ tracks within _fr_\\__it_ (if True) frames, with size _xs_ and prints the track no. if _tagit_ is True"
   ]
  },
  {
   "cell_type": "code",
   "execution_count": 13,
   "metadata": {},
   "outputs": [],
   "source": [
    "def frameit(ax):\n",
    "    ax.set_xlim(0,info['shape'][0][0])\n",
    "    ax.set_ylim(0,info['shape'][0][1])\n",
    "    rect = plt.Rectangle([250,50], 750, 600, alpha=1, lw=10,fill=False, edgecolor='b')\n",
    "    ax.add_artist(rect)\n",
    "\n",
    "# Plot just one track function (tagit?, frameit?)\n",
    "def plt_track(t_id,xs,tagit,fr_it):\n",
    "    if fr_it==True:\n",
    "        fig, ax = plt.subplots(figsize=(xs,xs*info['shape'][0][1]/info['shape'][0][0]))\n",
    "        px_size = 72./fig.dpi\n",
    "        frameit(ax)\n",
    "    else:\n",
    "        fig, ax = plt.subplots()\n",
    "        px_size = 72./fig.dpi\n",
    "        \n",
    "    plt.plot(tracks[t_id].x,tracks[t_id].y, '.', c='r', markersize=px_size,linewidth=None)\n",
    "    if tagit==True:\n",
    "        plt.text(np.mean(tracks[t_id].x), np.mean(tracks[t_id].y), str(t_id))\n",
    "            \n",
    "def plt_tracks(init_id,final_id,xs,tagit,fr_it):\n",
    "    if fr_it==True:\n",
    "        fig, ax = plt.subplots(figsize=(xs,xs*info['shape'][0][1]/info['shape'][0][0]))\n",
    "        px_size = 72./fig.dpi\n",
    "        frameit(ax)\n",
    "    else:\n",
    "        fig, ax = plt.subplots()\n",
    "        px_size = 72./fig.dpi\n",
    "    for i in range(init_id,final_id):\n",
    "        plt.plot(tracks[i].x,tracks[i].y, '.', c='r', markersize=px_size,linewidth=None)\n",
    "        if tagit==True:\n",
    "            plt.text(np.mean(tracks[i].x), np.mean(tracks[i].y), str(i))\n"
   ]
  }
 ],
 "metadata": {
  "celltoolbar": "Raw Cell Format",
  "kernelspec": {
   "display_name": "Python 3",
   "language": "python",
   "name": "python3"
  },
  "language_info": {
   "codemirror_mode": {
    "name": "ipython",
    "version": 3
   },
   "file_extension": ".py",
   "mimetype": "text/x-python",
   "name": "python",
   "nbconvert_exporter": "python",
   "pygments_lexer": "ipython3",
   "version": "3.7.3"
  }
 },
 "nbformat": 4,
 "nbformat_minor": 4
}
