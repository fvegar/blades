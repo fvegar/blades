{
 "cells": [
  {
   "cell_type": "code",
   "execution_count": 1,
   "metadata": {},
   "outputs": [],
   "source": [
    "import os\n",
    "import numpy as np # fast array library\n",
    "import pandas as pd # data frames library\n",
    "# plot display type. use this to keep graphs within the notebook\n",
    "import matplotlib \n",
    "\n",
    "import matplotlib.pyplot as plt # plot library\n",
    "   \n",
    "import numpy.ma as ma\n",
    "\n",
    "import scipy.constants as ct # import mathematical constants\n",
    "from scipy import stats # statistics, for binning and fields calculation\n",
    "\n",
    "import scipy.interpolate as interpol\n",
    "\n",
    "from matplotlib import rc   \n",
    "rc('text', usetex=True)\n",
    "plt.rcParams['font.size'] = 14\n",
    "\n",
    "import ipywidgets as widgets # import \n",
    "\n",
    "# Pandas table columns to 2D arrays (matrices)\n",
    "# necessary for 2D plots\n",
    "# df: input pandas dataframe;\n",
    "# nx = number of bins in X axis; idem for ny\n",
    "def fields_to_matrix(df, nx, ny):\n",
    "    global X, Y, ux, uy, T, n, speed\n",
    "    Y = np.zeros((15,15))\n",
    "    X = np.zeros((15,15))\n",
    "    ux = np.zeros((15,15))\n",
    "    uy = np.zeros((15,15))\n",
    "    T = np.zeros((15,15))\n",
    "    n = np.zeros((15,15)) \n",
    "    for i in range(ny):\n",
    "        for j in range(nx):\n",
    "            Y[i][j] = df['Y'][nx*i + j]\n",
    "            X[i][j] = df['X'][nx*i + j]\n",
    "            ux[i][j] = df['ux'][nx*i + j]\n",
    "            uy[i][j] = df['uy'][nx*i + j]\n",
    "            n[i][j] = df['n'][nx*i + j]\n",
    "            T[i][j] = df['T'][nx*i +j]\n",
    "    speed = np.sqrt(ux**2 + uy**2)\n"
   ]
  },
  {
   "cell_type": "code",
   "execution_count": 5,
   "metadata": {},
   "outputs": [
    {
     "data": {
      "text/plain": [
       "['seaborn-deep',\n",
       " 'seaborn-paper',\n",
       " 'seaborn-white',\n",
       " 'seaborn-bright',\n",
       " 'seaborn-whitegrid',\n",
       " 'Solarize_Light2',\n",
       " 'fivethirtyeight',\n",
       " 'seaborn-notebook',\n",
       " 'seaborn-darkgrid',\n",
       " 'dark_background',\n",
       " 'fast',\n",
       " 'seaborn-poster',\n",
       " 'seaborn-ticks',\n",
       " 'classic',\n",
       " 'ggplot',\n",
       " 'bmh',\n",
       " 'seaborn-talk',\n",
       " '_classic_test',\n",
       " 'seaborn-dark',\n",
       " 'seaborn-colorblind',\n",
       " 'tableau-colorblind10',\n",
       " 'seaborn-dark-palette',\n",
       " 'seaborn-muted',\n",
       " 'seaborn-pastel',\n",
       " 'seaborn',\n",
       " 'grayscale']"
      ]
     },
     "execution_count": 5,
     "metadata": {},
     "output_type": "execute_result"
    }
   ],
   "source": [
    "plt.style.available"
   ]
  },
  {
   "cell_type": "code",
   "execution_count": 2,
   "metadata": {},
   "outputs": [],
   "source": [
    "%matplotlib tk"
   ]
  },
  {
   "cell_type": "code",
   "execution_count": 7,
   "metadata": {},
   "outputs": [],
   "source": [
    "direc = '/data/Datos/blades/fields/N55/'\n",
    "file = 'fields_N55_T_396b48aaefee060ae012b6d80425b879.dat'\n",
    "\n",
    "name = direc + file\n",
    "datos = pd.read_csv(name,sep='\\s+')\n",
    "\n",
    "fields_to_matrix(datos,15,15) "
   ]
  },
  {
   "cell_type": "code",
   "execution_count": 8,
   "metadata": {},
   "outputs": [],
   "source": [
    "figure, axes = plt.subplots(figsize=(7,7))\n",
    "plt.xlim((-400,400))\n",
    "plt.ylim((-400,400))\n",
    "\n",
    "draw_circle = plt.Circle((0, 0), 400, fill=False, color='y', linewidth=4)\n",
    "axes.set_aspect(1)\n",
    "axes.add_artist(draw_circle)\n",
    "\n",
    "W = np.diff(uy,axis=1)[:-1,:] - np.diff(ux,axis=0)[:,:-1]\n",
    "plt.xlim((-400,400))\n",
    "plt.ylim((-400,400))\n",
    "plt.contourf(X[:-1,:-1] + 400/15,Y[:-1,:-1]+400/15, W, cmap='seismic', vmin = -0.5*np.max(np.abs(W)), vmax=0.5*np.max(np.abs(W)), levels=np.linspace(-1,1,40))\n",
    "plt.colorbar(fraction=0.047, pad=0.01)\n",
    "plt.streamplot(X, Y, ux, uy, color='k', density=2.6, linewidth=1)\n",
    "draw_circle = plt.Circle((0, 0), 400, fill=False, color='y', linewidth=30)"
   ]
  },
  {
   "cell_type": "code",
   "execution_count": 9,
   "metadata": {},
   "outputs": [],
   "source": [
    "x = np.linspace(-400, 400, 15)\n",
    "y = np.linspace(-400, 400, 15)\n",
    "\n",
    "interp_spline_x = interpol.RectBivariateSpline(x, y, ux)\n",
    "interp_spline_y = interpol.RectBivariateSpline(x, y, uy)\n",
    "\n",
    "\n",
    "x2 = np.linspace(-400, 400, 400)\n",
    "y2 = np.linspace(-400, 400, 400)\n",
    "X2, Y2 = np.meshgrid(x2,y2)\n",
    "ux2 = interp_spline_x(y2, x2)\n",
    "uy2 = interp_spline_y(y2, x2)\n",
    "speed2 = np.sqrt(ux2**2 + uy2**2)\n",
    "\n",
    "# axis 0 is difference along the Y axis; axis 1 (default) is X axis\n",
    "# see \n",
    "W2 =  np.diff(uy2,axis=1)[:-1,:] - np.diff(ux2,axis=0)[:,:-1]\n",
    "\n",
    "figure, axes = plt.subplots(figsize=(7,7))\n",
    "plt.xlim(-420,420)\n",
    "plt.ylim(-420,420)\n",
    "\n",
    "\n",
    "ax = plt.axes() \n",
    "ax.set_facecolor('whitesmoke') \n",
    "\n",
    "draw_circle = plt.Circle((0, 0), 405, fill=False, color='y', linewidth=4)\n",
    "ax.set_aspect(1)\n",
    "ax.add_artist(draw_circle)\n",
    "\n",
    "mW2 =  ma.masked_where(X2[:-1,:-1]**2+Y2[:-1,:-1]**2>405**2, W2/np.max(np.abs(W2)))\n",
    "mux2 = ma.masked_where(X2**2+Y2**2>390**2, ux2)\n",
    "muy2 = ma.masked_where(X2**2+Y2**2>390**2, uy2)\n",
    "\n",
    "plt.contourf(X2[:-1,:-1],Y2[:-1,:-1], mW2, cmap='seismic_r',  levels=np.linspace(-0.85,0.85,20))\n",
    "plt.colorbar(fraction=0.047, pad=0.01)\n",
    "\n",
    "lw = 5*speed2 / speed2.max()\n",
    "st = plt.streamplot(X2,Y2,mux2,muy2, density=1.75, color='k',linewidth=lw)  \n",
    "st.lines.set_alpha(0.5)\n",
    "#for arrow_patch in plt.gca().patches[-len(st.arrows.get_paths()):]:\n",
    "#    arrow_patch.set_alpha(0.5)\n",
    "#plt.savefig('fig2b2.pdf')"
   ]
  },
  {
   "cell_type": "code",
   "execution_count": 62,
   "metadata": {},
   "outputs": [],
   "source": [
    "plt.close('all')"
   ]
  },
  {
   "cell_type": "code",
   "execution_count": 42,
   "metadata": {},
   "outputs": [
    {
     "data": {
      "text/plain": [
       "-400.0"
      ]
     },
     "execution_count": 42,
     "metadata": {},
     "output_type": "execute_result"
    }
   ],
   "source": [
    "Y2[0,0]"
   ]
  },
  {
   "cell_type": "code",
   "execution_count": 40,
   "metadata": {},
   "outputs": [
    {
     "data": {
      "text/plain": [
       "-383.0"
      ]
     },
     "execution_count": 40,
     "metadata": {},
     "output_type": "execute_result"
    }
   ],
   "source": [
    "np.min(Y2)"
   ]
  },
  {
   "cell_type": "code",
   "execution_count": 6,
   "metadata": {},
   "outputs": [
    {
     "data": {
      "application/vnd.jupyter.widget-view+json": {
       "model_id": "de41b5faa12644498d5aa8e024a11963",
       "version_major": 2,
       "version_minor": 0
      },
      "text/plain": [
       "Canvas(toolbar=Toolbar(toolitems=[('Home', 'Reset original view', 'home', 'home'), ('Back', 'Back to previous …"
      ]
     },
     "metadata": {},
     "output_type": "display_data"
    },
    {
     "data": {
      "text/plain": [
       "<matplotlib.streamplot.StreamplotSet at 0x7f1664a93400>"
      ]
     },
     "execution_count": 6,
     "metadata": {},
     "output_type": "execute_result"
    }
   ],
   "source": [
    "plt.figure(figsize=(7,7))\n",
    "plt.streamplot(X2,Y2,ux2,uy2, density=2.0, color='b')\n",
    "plt.streamplot(X,Y,ux,uy, density=2.0, color='k')"
   ]
  },
  {
   "cell_type": "code",
   "execution_count": 8,
   "metadata": {},
   "outputs": [
    {
     "name": "stderr",
     "output_type": "stream",
     "text": [
      "/usr/lib/python3/dist-packages/matplotlib/__init__.py:882: MatplotlibDeprecationWarning: \n",
      "nbagg.transparent\n",
      "  version, key, obj_type=\"rcparam\", alternative=alt_key)\n"
     ]
    },
    {
     "data": {
      "application/vnd.jupyter.widget-view+json": {
       "model_id": "03118a38bb284eec879de85457bc4743",
       "version_major": 2,
       "version_minor": 0
      },
      "text/plain": [
       "Canvas(toolbar=Toolbar(toolitems=[('Home', 'Reset original view', 'home', 'home'), ('Back', 'Back to previous …"
      ]
     },
     "metadata": {},
     "output_type": "display_data"
    }
   ],
   "source": [
    "fig, ((ax1, ax2), (ax3, ax4)) = plt.subplots(nrows=2, ncols=2, figsize=(15, 15),\\\n",
    "    gridspec_kw={'width_ratios': [3, 3],'height_ratios': [2.7, 3], 'wspace': 0.31, 'hspace':0.15})\n",
    "\n",
    "\n",
    "#### FLOW FIELD (using streamplot) ####\n",
    "draw_circle = plt.Circle((0, 0), 408, fill=False, color='b', linewidth=3)\n",
    "ax1.set_aspect(1)\n",
    "ax1.add_artist(draw_circle)\n",
    "lw = 10 * speed\n",
    "plt.xlim(-420,420)\n",
    "plt.ylim(-420,420)\n",
    "stream_container = ax1.streamplot(X, Y, ux, uy, color='xkcd:azure', density=2, linewidth=lw)\n",
    "\n",
    "plt.xlim(-400,400)\n",
    "plt.ylim(-400,400)\n",
    "\n",
    "#### TEMPERATURE FIELD ##############\n",
    "temp = ax2.imshow(T,cmap='rainbow', interpolation='gaussian',extent=(-400,400,-400,400),  )\n",
    "cbar2 = plt.colorbar(temp, ax=ax2, fraction=0.047, pad=0.01)\n",
    "cbar2.set_label(r'$T/m$', rotation=270, labelpad=25, fontsize=18)\n",
    "\n",
    "####  PRESSURE FIELD ##############\n",
    "press = ax3.imshow(n*T, interpolation='gaussian', extent=(-400,400,-400,400), \\\n",
    "                     vmax = 0.75 * np.max(n*T), vmin = 5* np.min((n*T)[n*T>0]) )\n",
    "cbar3 = plt.colorbar(press, ax=ax3, fraction=0.047, pad=0.01)\n",
    "cbar3.set_label(r'$P$', rotation=270, labelpad=25, fontsize=18)\n",
    "\n",
    "####  DENSITY FIELD ##############\n",
    "\n",
    "dens = ax4.imshow(n, interpolation='gaussian', cmap='gnuplot', extent=(-400,400,-400,400), \\\n",
    "                 vmax = 0.75 * np.max(n), vmin = 5*np.min(n[n>0]))\n",
    "cbar4 = plt.colorbar(dens, ax=ax4,fraction=0.047, pad=0.01)\n",
    "cbar4.set_label(r'$n/\\bar{n}$', rotation=270, labelpad=25, fontsize=18)"
   ]
  },
  {
   "cell_type": "markdown",
   "metadata": {},
   "source": [
    "## $T/m = 0.40$"
   ]
  },
  {
   "cell_type": "code",
   "execution_count": 77,
   "metadata": {},
   "outputs": [],
   "source": [
    "fig, ((ax1, ax2), (ax3, ax4)) = plt.subplots(nrows=2, ncols=2, figsize=(15, 15),\\\n",
    "    gridspec_kw={'width_ratios': [3, 3],'height_ratios': [2.7, 3], 'wspace': 0.31, 'hspace':0.15})\n",
    "\n",
    "\n",
    "#### FLOW FIELD (using streamplot) ####\n",
    "draw_circle = plt.Circle((0, 0), 408, fill=False, color='b', linewidth=3)\n",
    "ax1.set_aspect(1)\n",
    "ax1.add_artist(draw_circle)\n",
    "lw = 10 * speed\n",
    "plt.xlim(-420,420)\n",
    "plt.ylim(-420,420)\n",
    "stream_container = ax1.streamplot(X, Y, ux, uy, color='xkcd:azure', density=2.6, linewidth=lw)\n",
    "\n",
    "plt.xlim(-400,400)\n",
    "plt.ylim(-400,400)\n",
    "\n",
    "#### TEMPERATURE FIELD ##############\n",
    "temp = ax2.imshow(T,cmap='rainbow', interpolation='gaussian',extent=(-400,400,-400,400), \\\n",
    "                  vmax = np.max(T)*0.75, vmin= 5*np.min(T[T>0]) )\n",
    "cbar2 = plt.colorbar(temp, ax=ax2, fraction=0.047, pad=0.01)\n",
    "cbar2.set_label(r'$T/m$', rotation=270, labelpad=25, fontsize=18)\n",
    "\n",
    "####  PRESSURE FIELD ##############\n",
    "press = ax3.imshow(n*T, interpolation='gaussian', extent=(-400,400,-400,400), \\\n",
    "                     vmax = 0.75 * np.max(n*T), vmin = 5* np.min((n*T)[n*T>0]) )\n",
    "cbar3 = plt.colorbar(press, ax=ax3, fraction=0.047, pad=0.01)\n",
    "cbar3.set_label(r'$P$', rotation=270, labelpad=25, fontsize=18)\n",
    "\n",
    "####  DENSITY FIELD ##############\n",
    "\n",
    "dens = ax4.imshow(n, interpolation='gaussian', cmap='gnuplot', extent=(-400,400,-400,400), \\\n",
    "                 vmax = 0.75 * np.max(n), vmin = 5*np.min(n[n>0]))\n",
    "cbar4 = plt.colorbar(dens, ax=ax4,fraction=0.047, pad=0.01)\n",
    "cbar4.set_label(r'$n/\\bar{n}$', rotation=270, labelpad=25, fontsize=18)\n"
   ]
  },
  {
   "cell_type": "code",
   "execution_count": 166,
   "metadata": {},
   "outputs": [],
   "source": [
    "def read_momentsRr(npart):\n",
    "    direc = '/data/Datos/blades/fields/bin3/'\n",
    "    name = direc + 'moments_N' + str(npart) + '.dat'\n",
    "    momentsR = pd.read_csv(name, sep='\\s+')\n",
    "    return momentsR\n",
    "    "
   ]
  },
  {
   "cell_type": "code",
   "execution_count": 167,
   "metadata": {},
   "outputs": [
    {
     "data": {
      "text/plain": [
       "array([0, 1, 2, 3, 4])"
      ]
     },
     "execution_count": 167,
     "metadata": {},
     "output_type": "execute_result"
    }
   ],
   "source": [
    "fr0.index.values"
   ]
  },
  {
   "cell_type": "code",
   "execution_count": 172,
   "metadata": {},
   "outputs": [
    {
     "data": {
      "application/vnd.jupyter.widget-view+json": {
       "model_id": "6fe4c061d5a4400f9909c1a459cbf98a",
       "version_major": 2,
       "version_minor": 0
      },
      "text/plain": [
       "Canvas(toolbar=Toolbar(toolitems=[('Home', 'Reset original view', 'home', 'home'), ('Back', 'Back to previous …"
      ]
     },
     "metadata": {},
     "output_type": "display_data"
    },
    {
     "name": "stderr",
     "output_type": "stream",
     "text": [
      "/usr/lib/python3/dist-packages/matplotlib/pyplot.py:514: RuntimeWarning: More than 20 figures have been opened. Figures created through the pyplot interface (`matplotlib.pyplot.figure`) are retained until explicitly closed and may consume too much memory. (To control this warning, see the rcParam `figure.max_open_warning`).\n",
      "  max_open_warning, RuntimeWarning)\n",
      "/usr/lib/python3/dist-packages/matplotlib/__init__.py:882: MatplotlibDeprecationWarning: \n",
      "nbagg.transparent\n",
      "  version, key, obj_type=\"rcparam\", alternative=alt_key)\n"
     ]
    },
    {
     "data": {
      "application/vnd.jupyter.widget-view+json": {
       "model_id": "f04831e71f18478ab4cd6e94e099e569",
       "version_major": 2,
       "version_minor": 0
      },
      "text/plain": [
       "Canvas(toolbar=Toolbar(toolitems=[('Home', 'Reset original view', 'home', 'home'), ('Back', 'Back to previous …"
      ]
     },
     "metadata": {},
     "output_type": "display_data"
    },
    {
     "name": "stderr",
     "output_type": "stream",
     "text": [
      "/usr/lib/python3/dist-packages/matplotlib/pyplot.py:514: RuntimeWarning: More than 20 figures have been opened. Figures created through the pyplot interface (`matplotlib.pyplot.figure`) are retained until explicitly closed and may consume too much memory. (To control this warning, see the rcParam `figure.max_open_warning`).\n",
      "  max_open_warning, RuntimeWarning)\n",
      "/usr/lib/python3/dist-packages/matplotlib/__init__.py:882: MatplotlibDeprecationWarning: \n",
      "nbagg.transparent\n",
      "  version, key, obj_type=\"rcparam\", alternative=alt_key)\n"
     ]
    },
    {
     "data": {
      "application/vnd.jupyter.widget-view+json": {
       "model_id": "0c526cc11e71461eb074435c598dec94",
       "version_major": 2,
       "version_minor": 0
      },
      "text/plain": [
       "Canvas(toolbar=Toolbar(toolitems=[('Home', 'Reset original view', 'home', 'home'), ('Back', 'Back to previous …"
      ]
     },
     "metadata": {},
     "output_type": "display_data"
    },
    {
     "data": {
      "text/plain": [
       "[<matplotlib.lines.Line2D at 0x7f27221f5d68>]"
      ]
     },
     "execution_count": 172,
     "metadata": {},
     "output_type": "execute_result"
    }
   ],
   "source": [
    "momentsR = read_momentsRr(25)\n",
    "fr0 = momentsR[momentsR.r == momentsR.r[0]].sort_values(by=['Tt'],ignore_index=True )\n",
    "fr1 = momentsR[momentsR.r == momentsR.r[1]].sort_values(by=['Tt'],ignore_index=True )\n",
    "fr2 = momentsR[momentsR.r == momentsR.r[2]].sort_values(by=['Tt'],ignore_index=True )\n",
    "\n",
    "plt.figure()\n",
    "\n",
    "plt.plot(fr0.index.values,(fr0.a11+1)*fr0.Tt/fr0.Tr-1, 'o', color='r')\n",
    "plt.plot(fr0.index.values,(fr1.a11+1)*fr1.Tt/fr1.Tr-1, 'o', color='g')\n",
    "plt.plot(fr0.index.values,(fr2.a11+1)*fr2.Tt/fr2.Tr-1, 'o', color='b')\n",
    "\n",
    "plt.figure()\n",
    "\n",
    "plt.plot(fr0.index.values,fr0.Tt/fr0.Tr, 'o', color='r')\n",
    "plt.plot(fr0.index.values,fr1.Tt/fr1.Tr, 'o', color='g')\n",
    "plt.plot(fr0.index.values,fr2.Tt/fr2.Tr, 'o', color='b')\n",
    "\n",
    "plt.figure()\n",
    "\n",
    "plt.plot(fr0.index.values,fr0.Tr, 'o', color='r')\n",
    "plt.plot(fr0.index.values,fr1.Tr, 'o', color='g')\n",
    "plt.plot(fr0.index.values,fr2.Tr, 'o', color='b')"
   ]
  },
  {
   "cell_type": "code",
   "execution_count": 141,
   "metadata": {},
   "outputs": [
    {
     "data": {
      "text/plain": [
       "(0     230888\n",
       " 12    244327\n",
       " 9     157535\n",
       " 6     145252\n",
       " 3     147426\n",
       " Name: n, dtype: int64,\n",
       " 1     624834\n",
       " 13    545960\n",
       " 10    448234\n",
       " 7     439623\n",
       " 4     445975\n",
       " Name: n, dtype: int64,\n",
       " 2     231418\n",
       " 14    220503\n",
       " 11    399726\n",
       " 8     360053\n",
       " 5     412928\n",
       " Name: n, dtype: int64)"
      ]
     },
     "execution_count": 141,
     "metadata": {},
     "output_type": "execute_result"
    }
   ],
   "source": [
    "fr0.n, fr1.n, fr2.n"
   ]
  }
 ],
 "metadata": {
  "kernelspec": {
   "display_name": "Python 3",
   "language": "python",
   "name": "python3"
  },
  "language_info": {
   "codemirror_mode": {
    "name": "ipython",
    "version": 3
   },
   "file_extension": ".py",
   "mimetype": "text/x-python",
   "name": "python",
   "nbconvert_exporter": "python",
   "pygments_lexer": "ipython3",
   "version": "3.7.3"
  }
 },
 "nbformat": 4,
 "nbformat_minor": 4
}
