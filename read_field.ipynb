{
 "cells": [
  {
   "cell_type": "code",
   "execution_count": 1,
   "metadata": {},
   "outputs": [],
   "source": [
    "import os\n",
    "import numpy as np # fast array library\n",
    "import pandas as pd # data frames library\n",
    "# plot display type. use this to keep graphs within the notebook\n",
    "import matplotlib \n",
    "\n",
    "import matplotlib.pyplot as plt # plot library\n",
    "   \n",
    "import numpy.ma as ma\n",
    "\n",
    "import scipy.constants as ct # import mathematical constants\n",
    "from scipy import stats # statistics, for binning and fields calculation\n",
    "\n",
    "import scipy.interpolate as interpol\n",
    "\n",
    "from matplotlib import rc   \n",
    "rc('text', usetex=True)\n",
    "plt.rcParams['font.size'] = 14\n",
    "\n",
    "import ipywidgets as widgets # import \n",
    "\n",
    "# Pandas table columns to 2D arrays (matrices)\n",
    "# necessary for 2D plots\n",
    "# df: input pandas dataframe;\n",
    "# nx = number of bins in X axis; idem for ny\n",
    "def fields_to_matrix(df, nx, ny):\n",
    "    global X, Y, ux, uy, T, n, speed\n",
    "    Y = np.zeros((15,15))\n",
    "    X = np.zeros((15,15))\n",
    "    ux = np.zeros((15,15))\n",
    "    uy = np.zeros((15,15))\n",
    "    T = np.zeros((15,15))\n",
    "    n = np.zeros((15,15)) \n",
    "    for i in range(ny):\n",
    "        for j in range(nx):\n",
    "            Y[i][j] = df['Y'][nx*i + j]\n",
    "            X[i][j] = df['X'][nx*i + j]\n",
    "            ux[i][j] = df['ux'][nx*i + j]\n",
    "            uy[i][j] = df['uy'][nx*i + j]\n",
    "            n[i][j] = df['n'][nx*i + j]\n",
    "            T[i][j] = df['T'][nx*i +j]\n",
    "    speed = np.sqrt(ux**2 + uy**2)\n"
   ]
  },
  {
   "cell_type": "code",
   "execution_count": 2,
   "metadata": {},
   "outputs": [],
   "source": [
    "%matplotlib tk"
   ]
  },
  {
   "cell_type": "code",
   "execution_count": 42,
   "metadata": {},
   "outputs": [],
   "source": [
    "direc = '/data/Datos/blades/fields/N45/'\n",
    "file = 'fields_N45_T_f509f3b902a7ada8064a9247404d7019.dat'\n",
    "\n",
    "name = direc + file\n",
    "datos = pd.read_csv(name,sep='\\s+')\n",
    "\n",
    "fields_to_matrix(datos,15,15) "
   ]
  },
  {
   "cell_type": "code",
   "execution_count": 43,
   "metadata": {},
   "outputs": [],
   "source": [
    "datos['r']=np.sqrt(datos.X**2 +datos.Y**2)"
   ]
  },
  {
   "cell_type": "code",
   "execution_count": 45,
   "metadata": {},
   "outputs": [
    {
     "data": {
      "text/plain": [
       "[<matplotlib.lines.Line2D at 0x7f0b2a0f1668>]"
      ]
     },
     "execution_count": 45,
     "metadata": {},
     "output_type": "execute_result"
    }
   ],
   "source": [
    "plt.figure()\n",
    "plt.xlim(0,400)\n",
    "#plt.ylim(0,0.4)\n",
    "plt.plot(datos.r,np.sqrt(datos.ux**2+datos.uy**2),'o')"
   ]
  },
  {
   "cell_type": "code",
   "execution_count": 19,
   "metadata": {},
   "outputs": [],
   "source": [
    "figure, axes = plt.subplots(figsize=(7,7))\n",
    "plt.xlim((-400,400))\n",
    "plt.ylim((-400,400))\n",
    "\n",
    "draw_circle = plt.Circle((0, 0), 400, fill=False, color='y', linewidth=4)\n",
    "axes.set_aspect(1)\n",
    "axes.add_artist(draw_circle)\n",
    "\n",
    "speed = np.sqrt(ux**2 + uy**2)\n",
    "lw = 5*speed / speed.max()\n",
    "\n",
    "W = np.diff(uy,axis=1)[:-1,:] - np.diff(ux,axis=0)[:,:-1]\n",
    "plt.xlim((-400,400))\n",
    "plt.ylim((-400,400))\n",
    "plt.contourf(X[:-1,:-1] + 400/15,Y[:-1,:-1]+400/15, W, cmap='seismic', vmin = -0.5*np.max(np.abs(W)), vmax=0.5*np.max(np.abs(W)), levels=np.linspace(-1,1,40))\n",
    "plt.colorbar(fraction=0.047, pad=0.01)\n",
    "plt.streamplot(X, Y, ux, uy, color='k', density=2.6, linewidth=lw)\n",
    "draw_circle = plt.Circle((0, 0), 400, fill=False, color='y', linewidth=30)"
   ]
  },
  {
   "cell_type": "code",
   "execution_count": 20,
   "metadata": {},
   "outputs": [
    {
     "data": {
      "text/plain": [
       "array([[ 0.      ,  0.      ,  0.      ,  0.      ,  0.      ,  0.      ,\n",
       "         0.      ,  0.      ,  0.      ,  0.      ,  0.      ,  0.      ,\n",
       "         0.      ,  0.      ,  0.      ],\n",
       "       [ 0.      ,  0.      ,  0.      ,  0.      ,  0.239527,  0.236194,\n",
       "         0.217418,  0.280214,  0.24886 ,  0.268675,  0.227899,  0.461445,\n",
       "         0.      ,  0.      ,  0.      ],\n",
       "       [ 0.      ,  0.      ,  0.279703,  0.170914,  0.171288,  0.187235,\n",
       "         0.189296,  0.179748,  0.172805,  0.185832,  0.238715,  0.235992,\n",
       "         0.233588,  0.      ,  0.      ],\n",
       "       [ 0.      ,  0.      ,  0.145169,  0.146316,  0.168407,  0.129868,\n",
       "         0.127105,  0.120694,  0.105331,  0.121793,  0.105048,  0.137036,\n",
       "         0.178721,  0.      ,  0.      ],\n",
       "       [ 0.      ,  0.112142,  0.109731,  0.082551,  0.088627,  0.142749,\n",
       "         0.080646,  0.093982,  0.089293,  0.089336,  0.125305,  0.089082,\n",
       "         0.118932,  0.103611,  0.      ],\n",
       "       [ 0.      ,  0.080931,  0.076568,  0.06488 ,  0.075052,  0.052602,\n",
       "         0.049529,  0.024757,  0.066917,  0.061804,  0.060121,  0.058725,\n",
       "         0.091555,  0.059164,  0.      ],\n",
       "       [ 0.      ,  0.06132 ,  0.073042,  0.059873,  0.013813,  0.024933,\n",
       "         0.032911,  0.058197,  0.024374,  0.046713,  0.037859,  0.028474,\n",
       "        -0.018326,  0.032488,  0.      ],\n",
       "       [ 0.      ,  0.003515,  0.032003,  0.016617,  0.029049, -0.015385,\n",
       "        -0.003428, -0.025384, -0.015455,  0.002383, -0.020529, -0.052612,\n",
       "        -0.013064, -0.01108 ,  0.      ],\n",
       "       [ 0.      , -0.034824, -0.055991, -0.041544, -0.035091, -0.009959,\n",
       "        -0.048629, -0.013563, -0.036856, -0.065795, -0.045095, -0.050003,\n",
       "        -0.037185, -0.033759,  0.      ],\n",
       "       [ 0.      , -0.101946, -0.084452, -0.087402, -0.053522, -0.048556,\n",
       "        -0.070544, -0.076346, -0.074451, -0.069417, -0.072877, -0.077586,\n",
       "        -0.094052, -0.097751,  0.      ],\n",
       "       [ 0.      , -0.110882, -0.103947, -0.043263, -0.048486, -0.048088,\n",
       "        -0.079279, -0.073505, -0.0698  , -0.068458, -0.082894, -0.084666,\n",
       "        -0.115986, -0.114389,  0.      ],\n",
       "       [ 0.      ,  0.      , -0.151897, -0.142095, -0.11064 , -0.099812,\n",
       "        -0.069058, -0.087144, -0.106467, -0.112043, -0.09597 , -0.138211,\n",
       "        -0.169741,  0.      ,  0.      ],\n",
       "       [ 0.      ,  0.      , -0.144741, -0.221345, -0.229134, -0.203414,\n",
       "        -0.155435, -0.153146, -0.139462, -0.199419, -0.195553, -0.236222,\n",
       "        -0.317513,  0.      ,  0.      ],\n",
       "       [ 0.      ,  0.      ,  0.      ,  0.      , -0.252408, -0.276676,\n",
       "        -0.270278, -0.250321, -0.236844, -0.266731, -0.273516,  0.      ,\n",
       "         0.      ,  0.      ,  0.      ],\n",
       "       [ 0.      ,  0.      ,  0.      ,  0.      ,  0.      ,  0.      ,\n",
       "         0.      ,  0.      ,  0.      ,  0.      ,  0.      ,  0.      ,\n",
       "         0.      ,  0.      ,  0.      ]])"
      ]
     },
     "execution_count": 20,
     "metadata": {},
     "output_type": "execute_result"
    }
   ],
   "source": [
    "ux"
   ]
  },
  {
   "cell_type": "code",
   "execution_count": 18,
   "metadata": {},
   "outputs": [],
   "source": [
    "x = np.linspace(-400, 400, 15)\n",
    "y = np.linspace(-400, 400, 15)\n",
    "\n",
    "interp_spline_x = interpol.RectBivariateSpline(x, y, ux)\n",
    "interp_spline_y = interpol.RectBivariateSpline(x, y, uy)\n",
    "\n",
    "\n",
    "x2 = np.linspace(-400, 400, 400)\n",
    "y2 = np.linspace(-400, 400, 400)\n",
    "X2, Y2 = np.meshgrid(x2,y2)\n",
    "ux2 = interp_spline_x(y2, x2)\n",
    "uy2 = interp_spline_y(y2, x2)\n",
    "speed2 = np.sqrt(ux2**2 + uy2**2)\n",
    "\n",
    "# axis 0 is difference along the Y axis; axis 1 (default) is X axis\n",
    "# see \n",
    "W2 =  np.diff(uy2,axis=1)[:-1,:] - np.diff(ux2,axis=0)[:,:-1]\n",
    "\n",
    "figure, axes = plt.subplots(figsize=(7,7))\n",
    "plt.xlim(-420,420)\n",
    "plt.ylim(-420,420)\n",
    "\n",
    "\n",
    "ax = plt.axes() \n",
    "ax.set_facecolor('whitesmoke') \n",
    "\n",
    "draw_circle = plt.Circle((0, 0), 405, fill=False, color='y', linewidth=4)\n",
    "ax.set_aspect(1)\n",
    "ax.add_artist(draw_circle)\n",
    "\n",
    "mW2 =  ma.masked_where(X2[:-1,:-1]**2+Y2[:-1,:-1]**2>405**2, W2/np.max(np.abs(W2)))\n",
    "mux2 = ma.masked_where(X2**2+Y2**2>390**2, ux2)\n",
    "muy2 = ma.masked_where(X2**2+Y2**2>390**2, uy2)\n",
    "\n",
    "plt.contourf(X2[:-1,:-1],Y2[:-1,:-1], mW2, cmap='seismic_r',  levels=np.linspace(-0.85,0.85,20))\n",
    "plt.colorbar(fraction=0.047, pad=0.01)\n",
    "\n",
    "lw = 5*speed2 / speed2.max()\n",
    "st = plt.streamplot(X2,Y2,mux2,muy2, density=1.75, color='k',linewidth=lw)  \n",
    "st.lines.set_alpha(0.5)\n",
    "#for arrow_patch in plt.gca().patches[-len(st.arrows.get_paths()):]:\n",
    "#    arrow_patch.set_alpha(0.5)\n",
    "#plt.savefig('fig2b2.pdf')"
   ]
  },
  {
   "cell_type": "code",
   "execution_count": 62,
   "metadata": {},
   "outputs": [],
   "source": [
    "plt.close('all')"
   ]
  },
  {
   "cell_type": "code",
   "execution_count": 42,
   "metadata": {},
   "outputs": [
    {
     "data": {
      "text/plain": [
       "-400.0"
      ]
     },
     "execution_count": 42,
     "metadata": {},
     "output_type": "execute_result"
    }
   ],
   "source": [
    "Y2[0,0]"
   ]
  },
  {
   "cell_type": "code",
   "execution_count": 40,
   "metadata": {},
   "outputs": [
    {
     "data": {
      "text/plain": [
       "-383.0"
      ]
     },
     "execution_count": 40,
     "metadata": {},
     "output_type": "execute_result"
    }
   ],
   "source": [
    "np.min(Y2)"
   ]
  },
  {
   "cell_type": "code",
   "execution_count": 6,
   "metadata": {},
   "outputs": [
    {
     "data": {
      "application/vnd.jupyter.widget-view+json": {
       "model_id": "de41b5faa12644498d5aa8e024a11963",
       "version_major": 2,
       "version_minor": 0
      },
      "text/plain": [
       "Canvas(toolbar=Toolbar(toolitems=[('Home', 'Reset original view', 'home', 'home'), ('Back', 'Back to previous …"
      ]
     },
     "metadata": {},
     "output_type": "display_data"
    },
    {
     "data": {
      "text/plain": [
       "<matplotlib.streamplot.StreamplotSet at 0x7f1664a93400>"
      ]
     },
     "execution_count": 6,
     "metadata": {},
     "output_type": "execute_result"
    }
   ],
   "source": [
    "plt.figure(figsize=(7,7))\n",
    "plt.streamplot(X2,Y2,ux2,uy2, density=2.0, color='b')\n",
    "plt.streamplot(X,Y,ux,uy, density=2.0, color='k')"
   ]
  },
  {
   "cell_type": "code",
   "execution_count": 8,
   "metadata": {},
   "outputs": [
    {
     "name": "stderr",
     "output_type": "stream",
     "text": [
      "/usr/lib/python3/dist-packages/matplotlib/__init__.py:882: MatplotlibDeprecationWarning: \n",
      "nbagg.transparent\n",
      "  version, key, obj_type=\"rcparam\", alternative=alt_key)\n"
     ]
    },
    {
     "data": {
      "application/vnd.jupyter.widget-view+json": {
       "model_id": "03118a38bb284eec879de85457bc4743",
       "version_major": 2,
       "version_minor": 0
      },
      "text/plain": [
       "Canvas(toolbar=Toolbar(toolitems=[('Home', 'Reset original view', 'home', 'home'), ('Back', 'Back to previous …"
      ]
     },
     "metadata": {},
     "output_type": "display_data"
    }
   ],
   "source": [
    "fig, ((ax1, ax2), (ax3, ax4)) = plt.subplots(nrows=2, ncols=2, figsize=(15, 15),\\\n",
    "    gridspec_kw={'width_ratios': [3, 3],'height_ratios': [2.7, 3], 'wspace': 0.31, 'hspace':0.15})\n",
    "\n",
    "\n",
    "#### FLOW FIELD (using streamplot) ####\n",
    "draw_circle = plt.Circle((0, 0), 408, fill=False, color='b', linewidth=3)\n",
    "ax1.set_aspect(1)\n",
    "ax1.add_artist(draw_circle)\n",
    "lw = 10 * speed\n",
    "plt.xlim(-420,420)\n",
    "plt.ylim(-420,420)\n",
    "stream_container = ax1.streamplot(X, Y, ux, uy, color='xkcd:azure', density=2, linewidth=lw)\n",
    "\n",
    "plt.xlim(-400,400)\n",
    "plt.ylim(-400,400)\n",
    "\n",
    "#### TEMPERATURE FIELD ##############\n",
    "temp = ax2.imshow(T,cmap='rainbow', interpolation='gaussian',extent=(-400,400,-400,400),  )\n",
    "cbar2 = plt.colorbar(temp, ax=ax2, fraction=0.047, pad=0.01)\n",
    "cbar2.set_label(r'$T/m$', rotation=270, labelpad=25, fontsize=18)\n",
    "\n",
    "####  PRESSURE FIELD ##############\n",
    "press = ax3.imshow(n*T, interpolation='gaussian', extent=(-400,400,-400,400), \\\n",
    "                     vmax = 0.75 * np.max(n*T), vmin = 5* np.min((n*T)[n*T>0]) )\n",
    "cbar3 = plt.colorbar(press, ax=ax3, fraction=0.047, pad=0.01)\n",
    "cbar3.set_label(r'$P$', rotation=270, labelpad=25, fontsize=18)\n",
    "\n",
    "####  DENSITY FIELD ##############\n",
    "\n",
    "dens = ax4.imshow(n, interpolation='gaussian', cmap='gnuplot', extent=(-400,400,-400,400), \\\n",
    "                 vmax = 0.75 * np.max(n), vmin = 5*np.min(n[n>0]))\n",
    "cbar4 = plt.colorbar(dens, ax=ax4,fraction=0.047, pad=0.01)\n",
    "cbar4.set_label(r'$n/\\bar{n}$', rotation=270, labelpad=25, fontsize=18)"
   ]
  },
  {
   "cell_type": "markdown",
   "metadata": {},
   "source": [
    "## $T/m = 0.40$"
   ]
  },
  {
   "cell_type": "code",
   "execution_count": 77,
   "metadata": {},
   "outputs": [],
   "source": [
    "fig, ((ax1, ax2), (ax3, ax4)) = plt.subplots(nrows=2, ncols=2, figsize=(15, 15),\\\n",
    "    gridspec_kw={'width_ratios': [3, 3],'height_ratios': [2.7, 3], 'wspace': 0.31, 'hspace':0.15})\n",
    "\n",
    "\n",
    "#### FLOW FIELD (using streamplot) ####\n",
    "draw_circle = plt.Circle((0, 0), 408, fill=False, color='b', linewidth=3)\n",
    "ax1.set_aspect(1)\n",
    "ax1.add_artist(draw_circle)\n",
    "lw = 10 * speed\n",
    "plt.xlim(-420,420)\n",
    "plt.ylim(-420,420)\n",
    "stream_container = ax1.streamplot(X, Y, ux, uy, color='xkcd:azure', density=2.6, linewidth=lw)\n",
    "\n",
    "plt.xlim(-400,400)\n",
    "plt.ylim(-400,400)\n",
    "\n",
    "#### TEMPERATURE FIELD ##############\n",
    "temp = ax2.imshow(T,cmap='rainbow', interpolation='gaussian',extent=(-400,400,-400,400), \\\n",
    "                  vmax = np.max(T)*0.75, vmin= 5*np.min(T[T>0]) )\n",
    "cbar2 = plt.colorbar(temp, ax=ax2, fraction=0.047, pad=0.01)\n",
    "cbar2.set_label(r'$T/m$', rotation=270, labelpad=25, fontsize=18)\n",
    "\n",
    "####  PRESSURE FIELD ##############\n",
    "press = ax3.imshow(n*T, interpolation='gaussian', extent=(-400,400,-400,400), \\\n",
    "                     vmax = 0.75 * np.max(n*T), vmin = 5* np.min((n*T)[n*T>0]) )\n",
    "cbar3 = plt.colorbar(press, ax=ax3, fraction=0.047, pad=0.01)\n",
    "cbar3.set_label(r'$P$', rotation=270, labelpad=25, fontsize=18)\n",
    "\n",
    "####  DENSITY FIELD ##############\n",
    "\n",
    "dens = ax4.imshow(n, interpolation='gaussian', cmap='gnuplot', extent=(-400,400,-400,400), \\\n",
    "                 vmax = 0.75 * np.max(n), vmin = 5*np.min(n[n>0]))\n",
    "cbar4 = plt.colorbar(dens, ax=ax4,fraction=0.047, pad=0.01)\n",
    "cbar4.set_label(r'$n/\\bar{n}$', rotation=270, labelpad=25, fontsize=18)\n"
   ]
  },
  {
   "cell_type": "code",
   "execution_count": 166,
   "metadata": {},
   "outputs": [],
   "source": [
    "def read_momentsRr(npart):\n",
    "    direc = '/data/Datos/blades/fields/bin3/'\n",
    "    name = direc + 'moments_N' + str(npart) + '.dat'\n",
    "    momentsR = pd.read_csv(name, sep='\\s+')\n",
    "    return momentsR\n",
    "    "
   ]
  },
  {
   "cell_type": "code",
   "execution_count": 167,
   "metadata": {},
   "outputs": [
    {
     "data": {
      "text/plain": [
       "array([0, 1, 2, 3, 4])"
      ]
     },
     "execution_count": 167,
     "metadata": {},
     "output_type": "execute_result"
    }
   ],
   "source": [
    "fr0.index.values"
   ]
  },
  {
   "cell_type": "code",
   "execution_count": 172,
   "metadata": {},
   "outputs": [
    {
     "data": {
      "application/vnd.jupyter.widget-view+json": {
       "model_id": "6fe4c061d5a4400f9909c1a459cbf98a",
       "version_major": 2,
       "version_minor": 0
      },
      "text/plain": [
       "Canvas(toolbar=Toolbar(toolitems=[('Home', 'Reset original view', 'home', 'home'), ('Back', 'Back to previous …"
      ]
     },
     "metadata": {},
     "output_type": "display_data"
    },
    {
     "name": "stderr",
     "output_type": "stream",
     "text": [
      "/usr/lib/python3/dist-packages/matplotlib/pyplot.py:514: RuntimeWarning: More than 20 figures have been opened. Figures created through the pyplot interface (`matplotlib.pyplot.figure`) are retained until explicitly closed and may consume too much memory. (To control this warning, see the rcParam `figure.max_open_warning`).\n",
      "  max_open_warning, RuntimeWarning)\n",
      "/usr/lib/python3/dist-packages/matplotlib/__init__.py:882: MatplotlibDeprecationWarning: \n",
      "nbagg.transparent\n",
      "  version, key, obj_type=\"rcparam\", alternative=alt_key)\n"
     ]
    },
    {
     "data": {
      "application/vnd.jupyter.widget-view+json": {
       "model_id": "f04831e71f18478ab4cd6e94e099e569",
       "version_major": 2,
       "version_minor": 0
      },
      "text/plain": [
       "Canvas(toolbar=Toolbar(toolitems=[('Home', 'Reset original view', 'home', 'home'), ('Back', 'Back to previous …"
      ]
     },
     "metadata": {},
     "output_type": "display_data"
    },
    {
     "name": "stderr",
     "output_type": "stream",
     "text": [
      "/usr/lib/python3/dist-packages/matplotlib/pyplot.py:514: RuntimeWarning: More than 20 figures have been opened. Figures created through the pyplot interface (`matplotlib.pyplot.figure`) are retained until explicitly closed and may consume too much memory. (To control this warning, see the rcParam `figure.max_open_warning`).\n",
      "  max_open_warning, RuntimeWarning)\n",
      "/usr/lib/python3/dist-packages/matplotlib/__init__.py:882: MatplotlibDeprecationWarning: \n",
      "nbagg.transparent\n",
      "  version, key, obj_type=\"rcparam\", alternative=alt_key)\n"
     ]
    },
    {
     "data": {
      "application/vnd.jupyter.widget-view+json": {
       "model_id": "0c526cc11e71461eb074435c598dec94",
       "version_major": 2,
       "version_minor": 0
      },
      "text/plain": [
       "Canvas(toolbar=Toolbar(toolitems=[('Home', 'Reset original view', 'home', 'home'), ('Back', 'Back to previous …"
      ]
     },
     "metadata": {},
     "output_type": "display_data"
    },
    {
     "data": {
      "text/plain": [
       "[<matplotlib.lines.Line2D at 0x7f27221f5d68>]"
      ]
     },
     "execution_count": 172,
     "metadata": {},
     "output_type": "execute_result"
    }
   ],
   "source": [
    "momentsR = read_momentsRr(25)\n",
    "fr0 = momentsR[momentsR.r == momentsR.r[0]].sort_values(by=['Tt'],ignore_index=True )\n",
    "fr1 = momentsR[momentsR.r == momentsR.r[1]].sort_values(by=['Tt'],ignore_index=True )\n",
    "fr2 = momentsR[momentsR.r == momentsR.r[2]].sort_values(by=['Tt'],ignore_index=True )\n",
    "\n",
    "plt.figure()\n",
    "\n",
    "plt.plot(fr0.index.values,(fr0.a11+1)*fr0.Tt/fr0.Tr-1, 'o', color='r')\n",
    "plt.plot(fr0.index.values,(fr1.a11+1)*fr1.Tt/fr1.Tr-1, 'o', color='g')\n",
    "plt.plot(fr0.index.values,(fr2.a11+1)*fr2.Tt/fr2.Tr-1, 'o', color='b')\n",
    "\n",
    "plt.figure()\n",
    "\n",
    "plt.plot(fr0.index.values,fr0.Tt/fr0.Tr, 'o', color='r')\n",
    "plt.plot(fr0.index.values,fr1.Tt/fr1.Tr, 'o', color='g')\n",
    "plt.plot(fr0.index.values,fr2.Tt/fr2.Tr, 'o', color='b')\n",
    "\n",
    "plt.figure()\n",
    "\n",
    "plt.plot(fr0.index.values,fr0.Tr, 'o', color='r')\n",
    "plt.plot(fr0.index.values,fr1.Tr, 'o', color='g')\n",
    "plt.plot(fr0.index.values,fr2.Tr, 'o', color='b')"
   ]
  },
  {
   "cell_type": "code",
   "execution_count": 141,
   "metadata": {},
   "outputs": [
    {
     "data": {
      "text/plain": [
       "(0     230888\n",
       " 12    244327\n",
       " 9     157535\n",
       " 6     145252\n",
       " 3     147426\n",
       " Name: n, dtype: int64,\n",
       " 1     624834\n",
       " 13    545960\n",
       " 10    448234\n",
       " 7     439623\n",
       " 4     445975\n",
       " Name: n, dtype: int64,\n",
       " 2     231418\n",
       " 14    220503\n",
       " 11    399726\n",
       " 8     360053\n",
       " 5     412928\n",
       " Name: n, dtype: int64)"
      ]
     },
     "execution_count": 141,
     "metadata": {},
     "output_type": "execute_result"
    }
   ],
   "source": [
    "fr0.n, fr1.n, fr2.n"
   ]
  }
 ],
 "metadata": {
  "kernelspec": {
   "display_name": "Python 3",
   "language": "python",
   "name": "python3"
  },
  "language_info": {
   "codemirror_mode": {
    "name": "ipython",
    "version": 3
   },
   "file_extension": ".py",
   "mimetype": "text/x-python",
   "name": "python",
   "nbconvert_exporter": "python",
   "pygments_lexer": "ipython3",
   "version": "3.7.3"
  }
 },
 "nbformat": 4,
 "nbformat_minor": 4
}
